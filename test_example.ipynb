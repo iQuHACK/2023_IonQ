{
 "cells": [
  {
   "cell_type": "code",
   "execution_count": 5,
   "metadata": {},
   "outputs": [
    {
     "data": {
      "text/plain": [
       "'0010'"
      ]
     },
     "execution_count": 5,
     "metadata": {},
     "output_type": "execute_result"
    }
   ],
   "source": [
    "N_qubits = 4\n",
    "j = 2\n",
    "string_temp = ''\n",
    "for i in range(N_qubits):\n",
    "    string_temp += '0'\n",
    "string_temp = list(string_temp)\n",
    "string_temp[j] = '1'\n",
    "string_temp = ''.join(string_temp)\n",
    "string_temp"
   ]
  },
  {
   "attachments": {},
   "cell_type": "markdown",
   "metadata": {},
   "source": [
    "Narrative example:\n",
    "\n",
    "Mr Quanta woke up from a deep haze that left him completely decoherent. "
   ]
  }
 ],
 "metadata": {
  "kernelspec": {
   "display_name": "base",
   "language": "python",
   "name": "python3"
  },
  "language_info": {
   "codemirror_mode": {
    "name": "ipython",
    "version": 3
   },
   "file_extension": ".py",
   "mimetype": "text/x-python",
   "name": "python",
   "nbconvert_exporter": "python",
   "pygments_lexer": "ipython3",
   "version": "3.8.8"
  },
  "orig_nbformat": 4,
  "vscode": {
   "interpreter": {
    "hash": "1f37f27245d596fe55b086ef4d07c8e05adeb0de442bb689b24ab3f7802e6e24"
   }
  }
 },
 "nbformat": 4,
 "nbformat_minor": 2
}
