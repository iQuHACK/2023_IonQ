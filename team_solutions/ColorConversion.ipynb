{
 "cells": [
  {
   "attachments": {},
   "cell_type": "markdown",
   "metadata": {},
   "source": [
    "# Poincaré Pictures "
   ]
  },
  {
   "attachments": {},
   "cell_type": "markdown",
   "metadata": {},
   "source": [
    "## Imports"
   ]
  },
  {
   "attachments": {},
   "cell_type": "markdown",
   "metadata": {},
   "source": [
    "### Rust Initialization "
   ]
  },
  {
   "attachments": {},
   "cell_type": "markdown",
   "metadata": {},
   "source": [
    "To run the Perlin Evolution code, you have must the rust progarmming language on your system. Compile the perlin noise generator with the following commands in the terminal. \n",
    "\n",
    "\n",
    "cd perlin-master\n",
    "\n",
    "cargo build\n",
    "\n",
    "cd .. "
   ]
  },
  {
   "cell_type": "code",
   "execution_count": 10,
   "metadata": {},
   "outputs": [],
   "source": [
    "#Color imports\n",
    "from math import floor \n",
    "from PIL import Image\n",
    "from time import sleep \n",
    "\n",
    "#==\n",
    "import matplotlib.pyplot as plt\n",
    "import cirq \n",
    "import cirq_ionq\n",
    "import random\n",
    "from itertools import combinations\n",
    "from math import factorial\n",
    "from numpy import pi "
   ]
  },
  {
   "attachments": {},
   "cell_type": "markdown",
   "metadata": {},
   "source": [
    "## Image Processing "
   ]
  },
  {
   "cell_type": "code",
   "execution_count": 124,
   "metadata": {},
   "outputs": [],
   "source": [
    "#Stroke combination \n",
    "def image_combination(image1,image2):\n",
    "    background = Image.open(image1)\n",
    "    overlay = Image.open(image2)\n",
    "\n",
    "    background = background.convert(\"RGBA\")\n",
    "    overlay = overlay.convert(\"RGBA\")\n",
    "\n",
    "    new_img = Image.blend(background, overlay, 0.3)\n",
    "\n",
    "    new_img.save(\"./painting.png\",\"PNG\")\n",
    "    return \"./painting.png\""
   ]
  },
  {
   "cell_type": "code",
   "execution_count": 160,
   "metadata": {},
   "outputs": [],
   "source": [
    "class MoodImage:\n",
    "    def __init__(self,state_num,perlinOrManual):\n",
    "        self.state = state_num\n",
    "        self.mood_mapping = {0:\"anger1\",1:\"anger2\",2:\"anger3\",3:\"anger4\",4:\"anticipation1\",5:\"anticipation2\",6:\"anticipation3\",7:\"anticipation4\", \n",
    "    8:\"disgust1\",9:\"disgust2\",10:\"disgust3\",11:\"disgust4\",12:\"fear1\",13:\"fear2\",14:\"fear3\",15:\"fear4\",16:\"joy1\",17:\"joy2\",18:\"joy3\",19:\"joy4\",20:\"sadness1\",21:\"sadness2\",22:\"sadness3\",23:\"sadness4\",24:\"surprise1\",25:\"surprise2\",\n",
    "    26:\"surprise3\",27:\"surprise4\",28:\"trust1\",29:\"trust2\",30:\"trust3\",31:\"trust4\"} \n",
    "        self.perlinOrManual = perlinOrManual\n",
    "        self.painting = self.moodProcess(state_num) \n",
    "        self.state = state_num\n",
    "        img = Image.open(self.painting)\n",
    "        img.save(\"./painting.png\",\"PNG\")\n",
    "\n",
    "    def getPasscode(self):\n",
    "        self.passcode = input('Type in your password for sudo command')\n",
    "    \n",
    "    def moodProcess(self,state_num):\n",
    "        #self.processState(state_num)\n",
    "        if self.perlinOrManual == 1: #1 == perlin artist, 0 == manual artist\n",
    "            return self.perlinSimulation()\n",
    "        else:\n",
    "            return self.manualStrokes()\n",
    "        \n",
    "\n",
    "    def processState(self,state_num):\n",
    "        self.stroke_num = floor(self.state/4) + 1 #Mood <- In Perlin Evolution, limited to 3 colors \n",
    "    \n",
    "    #This is the perlin simluator <- procedurally generated perlin creator \n",
    "    def perlinSimulation(self):\n",
    "        #self.stroke_num += 1\n",
    "        with open('perlinColor.txt', 'w') as f:\n",
    "            f.write(str(self.state) + '\\n')  \n",
    "        with open('perlinStroke.txt', 'w') as f:\n",
    "            f.write(str(self.stroke_num) + '\\n') \n",
    "        ! bash perlinRun.sh\n",
    "        ! rm perlinColor.txt\n",
    "        ! rm perlinStroke.txt\n",
    "        return \"./images/perlin_strokes/currentStroke.png\"\n",
    "\n",
    "\n",
    "    #This is the manual strokes come hackathon participants\n",
    "    def manualStrokes(self):\n",
    "        file_name = \"./images/org_strokes/\" + str(self.mood_mapping[self.state]) + \".png\"\n",
    "        return file_name\n",
    "\n",
    "    def addStroke(self,state_num):\n",
    "        self.state = state_num\n",
    "        if self.perlinOrManual == 1:\n",
    "            self.painting = image_combination(self.painting,self.perlinSimulation())\n",
    "        else:\n",
    "            print(self.painting)\n",
    "            print(self.manualStrokes())\n",
    "            self.painting = image_combination(self.painting,self.manualStrokes())\n",
    "    def outputPainting(self):\n",
    "        img = Image.open(self.painting)\n",
    "        img = img.convert('RGB')\n",
    "        img.save(\"painting.png\")\n"
   ]
  },
  {
   "attachments": {},
   "cell_type": "markdown",
   "metadata": {},
   "source": [
    "### Image testing "
   ]
  },
  {
   "cell_type": "code",
   "execution_count": 7,
   "metadata": {},
   "outputs": [
    {
     "name": "stdout",
     "output_type": "stream",
     "text": [
      "1\n",
      "1\n",
      "3\n",
      "7\n",
      "1\n",
      "8\n",
      "2\n",
      "8\n"
     ]
    }
   ],
   "source": [
    "QuantumArtist = MoodImage(0,1)\n",
    "for i in range(20,23):\n",
    "    QuantumArtist.addStroke(i)"
   ]
  },
  {
   "cell_type": "code",
   "execution_count": 8,
   "metadata": {},
   "outputs": [],
   "source": [
    "QuantumArtist = MoodImage(0,0)\n",
    "for i in range(4):\n",
    "    QuantumArtist.addStroke(i)"
   ]
  },
  {
   "attachments": {},
   "cell_type": "markdown",
   "metadata": {},
   "source": [
    "## Grovers Test"
   ]
  },
  {
   "cell_type": "code",
   "execution_count": 146,
   "metadata": {},
   "outputs": [],
   "source": [
    "def diffuse(circuit, qubits, n):\n",
    "    for _ in range(n):\n",
    "        circuit.append([cirq.H(qubit) for qubit in qubits])\n",
    "        circuit.append([cirq.X(qubit) for qubit in qubits])\n",
    "        circuit.append(cirq.Z(qubits[-1]).controlled_by(*qubits[0:-1]))\n",
    "        circuit.append([cirq.X(qubit) for qubit in qubits])\n",
    "        circuit.append([cirq.H(qubit) for qubit in qubits])\n",
    "\n",
    "def choose_random_operation(theta):\n",
    "    ops = [cirq.rx(theta), cirq.ry(theta), cirq.rz(theta)]\n",
    "    return random.choice(ops)\n",
    "\n",
    "def two_qubit_error(qubit1, qubit2, p2 = None, error_angle = None):\n",
    "    if p2 == None: \n",
    "        p2 = 0.001\n",
    "    if error_angle == None:\n",
    "        error_angle = pi/4\n",
    "    error_qubit = random.choice([qubit1,qubit2])\n",
    "    error_op = choose_random_operation(error_angle)\n",
    "    yield error_op.on(error_qubit).with_probability(p2)\n",
    "\n",
    "def build_monster_grover(nQubits, exponents, nDiffuse, measure, p2 = None, error_angle = None):\n",
    "    \n",
    "    \n",
    "    if len(exponents) != 2*factorial(nQubits)/(2*factorial(nQubits-2)):\n",
    "        raise IndexError(\"exponents must have 2*nQubitsCHOOSE2 values.\")\n",
    "    qubits = [cirq.LineQubit(ii) for ii in range(5)]\n",
    "    circuit = cirq.Circuit()\n",
    "    \n",
    "    circuit.append([cirq.H(qubit) for qubit in qubits])\n",
    "    for nn, (ii, jj) in enumerate(combinations(qubits, r=2)):\n",
    "        circuit.append(cirq.CZPowGate(exponent = exponents[nn])(ii, jj))\n",
    "        circuit.append(two_qubit_error(ii, jj, p2, error_angle))\n",
    "    circuit.append([cirq.X(qubit) for qubit in qubits])\n",
    "    for nn, (ii, jj) in enumerate(combinations(qubits, r=2)):\n",
    "        circuit.append(cirq.CZPowGate(exponent =\n",
    "                                         exponents[int(len(exponents)/2) + nn])(ii, jj))\n",
    "        circuit.append(two_qubit_error(ii, jj, p2, error_angle))\n",
    "\n",
    "    circuit.append([cirq.X(qubit) for qubit in qubits])\n",
    "\n",
    "    diffuse(circuit, qubits, nDiffuse)\n",
    "    \n",
    "    if measure:\n",
    "        circuit.append(cirq.measure(*qubits, key = 'r1'))\n",
    "    return circuit\n",
    "\n",
    "def getQuantumPainting(nShots, nQubits, exponents, p2 = 0.01, error_angle = pi):\n",
    "    nDiffuse = 1\n",
    "    if len(exponents) != 2*factorial(nQubits)/(2*factorial(nQubits-2)):\n",
    "        raise IndexError(\"exponents must have 2*nQubitsCHOOSE2 values.\")\n",
    "    circuit = build_monster_grover(nQubits = nQubits, exponents=exponents,\n",
    "    nDiffuse=nDiffuse, measure=True, p2=p2, error_angle=error_angle)\n",
    "    s = cirq.Simulator()\n",
    "    samples = s.run(circuit, repetitions = nShots)\n",
    "    counts = list(cirq.get_state_histogram(samples))\n",
    "    \n",
    "    outputs = []\n",
    "    for ii, jj in enumerate(counts):\n",
    "        outputs += [ii]*int(jj)\n",
    "\n",
    "    random.shuffle(outputs)\n",
    "    QuantumArtist = MoodImage(outputs[0],0)\n",
    "    for ii in outputs[1:]:\n",
    "        QuantumArtist.addStroke(ii)\n",
    "    QuantumArtist.outputPainting()\n",
    "    #return outputs"
   ]
  },
  {
   "attachments": {},
   "cell_type": "markdown",
   "metadata": {},
   "source": [
    "### Circuit Testing"
   ]
  },
  {
   "cell_type": "code",
   "execution_count": null,
   "metadata": {},
   "outputs": [],
   "source": [
    "numExponents = 20\n",
    "numRepititions = 100\n",
    "exponents = [0, 0, 0, 0, 0, 0, 0, 0, 0, 0, 0, 0, 0, 1, 0, 0, 1, 0, 0, 0]\n",
    "\n",
    "nDiffuse = 1\n",
    "\n",
    "# initial circuit\n",
    "circuit = build_monster_grover(nQubits = 5, exponents = exponents,\n",
    "                               nDiffuse = nDiffuse, measure=True, p2 = 0.02, error_angle = pi)\n",
    "s = cirq.Simulator()\n",
    "samples = s.run(circuit, repetitions = numRepititions)\n",
    "cirq.plot_state_histogram(samples, plt.subplot())\n",
    "\n",
    "counts = cirq.get_state_histogram(samples)\n",
    "percentages = counts/numRepititions * 100\n",
    "print(percentages)\n",
    "# list(cirq.get_state_histogram(samples))\n",
    "prev_prob_sum = percentages[0]+percentages[1]+percentages[2]+percentages[3]+percentages[4]+percentages[5]+percentages[6]+percentages[7]"
   ]
  },
  {
   "attachments": {},
   "cell_type": "markdown",
   "metadata": {},
   "source": [
    " ## Main"
   ]
  },
  {
   "cell_type": "code",
   "execution_count": 157,
   "metadata": {},
   "outputs": [],
   "source": [
    "def main():\n",
    "    while(True):\n",
    "        Qubits = input(\"How mant qubits would you like to use? (Max 23)\")\n",
    "        if int(Qubits) <= 23:\n",
    "            break\n",
    "        else:\n",
    "            print(\"Enter Valid Number!\")\n",
    "            sleep(1)\n",
    "\n",
    "    while(True):\n",
    "        ArtType = input(\"Human or Computer Art?\")\n",
    "        if ArtType.lower() == \"human\":\n",
    "            ArtType = 0\n",
    "            break\n",
    "        elif ArtType.lower() == \"computer\":\n",
    "            ArtType = 1\n",
    "            break \n",
    "        else:\n",
    "            print(\"Enter Valid Art Type!\")\n",
    "            sleep(1)\n",
    "    while(True):\n",
    "        Mood = input(\"What type of mood would you like (Anger, Sadness, Joy, Fear)\")\n",
    "        if Mood.lower() in [\"anger\",\"joy\",\"sadness\",\"fear\"]:\n",
    "            break\n",
    "        else:\n",
    "            print(\"Enter Valid Mood Type!\")\n",
    "            sleep(1)\n",
    "    Mood_dict = {\"anger\":[0, 0, 0, 0, 0, 0, 0, 0, 0, 0, 1, 0, 0, 0, 0, 0, 0, 0, 0, 0],\"joy\":[1, 0, 0, 0, 0, 0, 0, 0, 0, 0, 0, 0, 0, 0, 0, 0, 0, 0, 0, 0],\"sadness\":[0, 0, 0, 1, 0, 0, 1, 0, 0, 0, 0, 0, 0, 0, 0, 0, 0, 0, 0, 0],\"fear\":[0, 0, 0, 0, 0, 0, 0, 0, 0, 0, 0, 0, 0, 1, 0, 0, 1, 0, 0, 0]}\n",
    "\n",
    "    getQuantumPainting(10, int(Qubits), Mood_dict[Mood.lower()], p2 = 0.01, error_angle = pi)\n",
    "            \n",
    "    "
   ]
  }
 ],
 "metadata": {
  "kernelspec": {
   "display_name": "Python 3",
   "language": "python",
   "name": "python3"
  },
  "language_info": {
   "codemirror_mode": {
    "name": "ipython",
    "version": 3
   },
   "file_extension": ".py",
   "mimetype": "text/x-python",
   "name": "python",
   "nbconvert_exporter": "python",
   "pygments_lexer": "ipython3",
   "version": "3.11.1"
  },
  "orig_nbformat": 4,
  "vscode": {
   "interpreter": {
    "hash": "aee8b7b246df8f9039afb4144a1f6fd8d2ca17a180786b69acc140d282b71a49"
   }
  }
 },
 "nbformat": 4,
 "nbformat_minor": 2
}
