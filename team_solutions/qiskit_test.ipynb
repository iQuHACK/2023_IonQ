{
 "cells": [
  {
   "cell_type": "code",
   "execution_count": 22,
   "metadata": {},
   "outputs": [],
   "source": [
    "# import packages\n",
    "from qiskit import QuantumCircuit\n",
    "from qiskit.visualization import plot_histogram\n",
    "from qiskit_ionq import IonQProvider\n",
    "import matplotlib.pyplot as plt\n",
    "\n",
    "from sprite import Sprite\n",
    "\n",
    "provider = IonQProvider(token='vm05jEWtO7zVGE6laZPtx8jbLM66TaS9')\n",
    "backend = provider.get_backend(\"ionq_simulator\")\n",
    "# backend = provider.get_backend(\"ionq_qpu\")\n"
   ]
  },
  {
   "cell_type": "code",
   "execution_count": 23,
   "metadata": {},
   "outputs": [
    {
     "name": "stdout",
     "output_type": "stream",
     "text": [
      "This backend is called ionq_qpu, and is on version 0.0.1. It has 32 qubits. It does not support OpenPulse programs. The basis gates supported on this device are ['ccx', 'ch', 'cnot', 'cp', 'crx', 'cry', 'crz', 'csx', 'cx', 'cy', 'cz', 'h', 'i', 'id', 'mcp', 'mcphase', 'mct', 'mcx', 'mcx_gray', 'measure', 'p', 'rx', 'rxx', 'ry', 'ryy', 'rz', 'rzz', 's', 'sdg', 'swap', 'sx', 'sxdg', 't', 'tdg', 'toffoli', 'x', 'y', 'z'].\n"
     ]
    }
   ],
   "source": [
    "config = backend.configuration()\n",
    "\n",
    "print(\"This backend is called {0}, and is on version {1}. It has {2} qubit{3}. It \"\n",
    "      \"{4} OpenPulse programs. The basis gates supported on this device are {5}.\"\n",
    "      \"\".format(config.backend_name,\n",
    "                config.backend_version,\n",
    "                config.n_qubits,\n",
    "                '' if config.n_qubits == 1 else 's',\n",
    "                'supports' if config.open_pulse else 'does not support',\n",
    "                config.basis_gates))"
   ]
  },
  {
   "cell_type": "code",
   "execution_count": 7,
   "metadata": {},
   "outputs": [],
   "source": [
    "class QuantumPersonalityState:\n",
    "\n",
    "    NUM_QUBITS = 9\n",
    "\n",
    "    def __init__(self, personality_traits):\n",
    "        self.personality_traits = [round(x) for x in personality_traits]\n",
    "        self.qc = QuantumCircuit(self.NUM_QUBITS, self.NUM_QUBITS)\n",
    "        self.qc.h(range(3))\n",
    "        self.apply_personality_gates()\n",
    "\n",
    "    def apply_personality_gates(self, start_index=0):\n",
    "        \n",
    "        for i in range(len(self.personality_traits)):\n",
    "            if self.personality_traits[i] == 1:\n",
    "                self.qc.x(i+start_index)\n",
    "\n",
    "        # correlate\n",
    "        for i in range(len(self.personality_traits)):\n",
    "            if self.personality_traits[i] == 1:\n",
    "                self.qc.toffoli(0, 1, i+3+start_index)\n",
    "            else:\n",
    "                self.qc.cnot(2, i+3+start_index)\n",
    "\n",
    "    def draw(self):\n",
    "        print(self.qc.draw())\n",
    "\n",
    "    def get_pfp_reprn(self):\n",
    "        self.qc.measure(range(self.NUM_QUBITS), range(self.NUM_QUBITS))\n",
    "        job = backend.run(self.qc, shots=1)\n",
    "        result = job.result()\n",
    "        counts = result.get_counts(self.qc)\n",
    "        # print(result.get_probabilities())\n",
    "        # get the most common result\n",
    "        state = max(counts, key=counts.get)\n",
    "        return list(map(int, reversed(state)))\n",
    "\n",
    "\n"
   ]
  },
  {
   "cell_type": "code",
   "execution_count": 17,
   "metadata": {},
   "outputs": [],
   "source": [
    "test_personality_traits = [1, 1, 1, 0, 1, 0]"
   ]
  },
  {
   "cell_type": "code",
   "execution_count": 21,
   "metadata": {},
   "outputs": [
    {
     "name": "stdout",
     "output_type": "stream",
     "text": [
      "Warning: not enough randomness provided to Sprite constructor, repeating randomness\n"
     ]
    },
    {
     "data": {
      "image/png": "[encoded data removed]",
      "text/plain": [
       "<PIL.Image.Image image mode=RGB size=320x320>"
      ]
     },
     "execution_count": 21,
     "metadata": {},
     "output_type": "execute_result"
    }
   ],
   "source": [
    "test_personality_state = QuantumPersonalityState(test_personality_traits)\n",
    "# test_personality_state.draw()\n",
    "pfp_repn = test_personality_state.get_pfp_reprn()\n",
    "pfp_sprite = Sprite(pfp_repn)\n",
    "pfp_sprite.render()"
   ]
  },
  {
   "cell_type": "code",
   "execution_count": 4,
   "metadata": {},
   "outputs": [
    {
     "ename": "MissingOptionalLibraryError",
     "evalue": "\"The 'matplotlib' library is required to use '_plotting_core'. You can install it with 'pip install matplotlib'.\"",
     "output_type": "error",
     "traceback": [
      "\u001b[1;31m---------------------------------------------------------------------------\u001b[0m",
      "\u001b[1;31mMissingOptionalLibraryError\u001b[0m               Traceback (most recent call last)",
      "Cell \u001b[1;32mIn[4], line 4\u001b[0m\n\u001b[0;32m      2\u001b[0m result \u001b[39m=\u001b[39m job\u001b[39m.\u001b[39mresult()\n\u001b[0;32m      3\u001b[0m counts \u001b[39m=\u001b[39m result\u001b[39m.\u001b[39mget_counts(bell_qc)\n\u001b[1;32m----> 4\u001b[0m plot_histogram(counts)\n",
      "File \u001b[1;32mc:\\Users\\cfalo\\.conda\\envs\\qisenv\\lib\\site-packages\\qiskit\\visualization\\counts_visualization.py:145\u001b[0m, in \u001b[0;36mplot_histogram\u001b[1;34m(data, figsize, color, number_to_keep, sort, target_string, legend, bar_labels, title, ax, filename)\u001b[0m\n\u001b[0;32m    137\u001b[0m         warnings\u001b[39m.\u001b[39mwarn(\n\u001b[0;32m    138\u001b[0m             \u001b[39m\"\u001b[39m\u001b[39mUsing plot histogram with QuasiDistribution, ProbDistribution, or a \u001b[39m\u001b[39m\"\u001b[39m\n\u001b[0;32m    139\u001b[0m             \u001b[39m\"\u001b[39m\u001b[39mdistribution dictionary will be deprecated in 0.23.0 and subsequently \u001b[39m\u001b[39m\"\u001b[39m\n\u001b[1;32m   (...)\u001b[0m\n\u001b[0;32m    142\u001b[0m             stacklevel\u001b[39m=\u001b[39m\u001b[39m2\u001b[39m,\n\u001b[0;32m    143\u001b[0m         )\n\u001b[0;32m    144\u001b[0m         kind \u001b[39m=\u001b[39m \u001b[39m\"\u001b[39m\u001b[39mdistribution\u001b[39m\u001b[39m\"\u001b[39m\n\u001b[1;32m--> 145\u001b[0m \u001b[39mreturn\u001b[39;00m _plotting_core(\n\u001b[0;32m    146\u001b[0m     data,\n\u001b[0;32m    147\u001b[0m     figsize,\n\u001b[0;32m    148\u001b[0m     color,\n\u001b[0;32m    149\u001b[0m     number_to_keep,\n\u001b[0;32m    150\u001b[0m     sort,\n\u001b[0;32m    151\u001b[0m     target_string,\n\u001b[0;32m    152\u001b[0m     legend,\n\u001b[0;32m    153\u001b[0m     bar_labels,\n\u001b[0;32m    154\u001b[0m     title,\n\u001b[0;32m    155\u001b[0m     ax,\n\u001b[0;32m    156\u001b[0m     filename,\n\u001b[0;32m    157\u001b[0m     kind\u001b[39m=\u001b[39;49mkind,\n\u001b[0;32m    158\u001b[0m )\n",
      "File \u001b[1;32mc:\\Users\\cfalo\\.conda\\envs\\qisenv\\lib\\site-packages\\qiskit\\utils\\lazy_tester.py:164\u001b[0m, in \u001b[0;36mLazyDependencyManager.require_in_call.<locals>.out\u001b[1;34m(*args, **kwargs)\u001b[0m\n\u001b[0;32m    162\u001b[0m \u001b[39m@functools\u001b[39m\u001b[39m.\u001b[39mwraps(function)\n\u001b[0;32m    163\u001b[0m \u001b[39mdef\u001b[39;00m \u001b[39mout\u001b[39m(\u001b[39m*\u001b[39margs, \u001b[39m*\u001b[39m\u001b[39m*\u001b[39mkwargs):\n\u001b[1;32m--> 164\u001b[0m     \u001b[39mself\u001b[39;49m\u001b[39m.\u001b[39;49mrequire_now(feature)\n\u001b[0;32m    165\u001b[0m     \u001b[39mreturn\u001b[39;00m function(\u001b[39m*\u001b[39margs, \u001b[39m*\u001b[39m\u001b[39m*\u001b[39mkwargs)\n",
      "File \u001b[1;32mc:\\Users\\cfalo\\.conda\\envs\\qisenv\\lib\\site-packages\\qiskit\\utils\\lazy_tester.py:223\u001b[0m, in \u001b[0;36mLazyDependencyManager.require_now\u001b[1;34m(self, feature)\u001b[0m\n\u001b[0;32m    221\u001b[0m \u001b[39mif\u001b[39;00m \u001b[39mself\u001b[39m:\n\u001b[0;32m    222\u001b[0m     \u001b[39mreturn\u001b[39;00m\n\u001b[1;32m--> 223\u001b[0m \u001b[39mraise\u001b[39;00m MissingOptionalLibraryError(\n\u001b[0;32m    224\u001b[0m     libname\u001b[39m=\u001b[39m\u001b[39mself\u001b[39m\u001b[39m.\u001b[39m_name, name\u001b[39m=\u001b[39mfeature, pip_install\u001b[39m=\u001b[39m\u001b[39mself\u001b[39m\u001b[39m.\u001b[39m_install, msg\u001b[39m=\u001b[39m\u001b[39mself\u001b[39m\u001b[39m.\u001b[39m_msg\n\u001b[0;32m    225\u001b[0m )\n",
      "\u001b[1;31mMissingOptionalLibraryError\u001b[0m: \"The 'matplotlib' library is required to use '_plotting_core'. You can install it with 'pip install matplotlib'.\""
     ]
    }
   ],
   "source": [
    "job = backend.run(bell_qc, shots=1024)\n",
    "result = job.result()\n",
    "counts = result.get_counts(bell_qc)\n",
    "plot_histogram(counts)\n"
   ]
  }
 ],
 "metadata": {
  "kernelspec": {
   "display_name": "Python 3.10.8 ('qisenv')",
   "language": "python",
   "name": "python3"
  },
  "language_info": {
   "codemirror_mode": {
    "name": "ipython",
    "version": 3
   },
   "file_extension": ".py",
   "mimetype": "text/x-python",
   "name": "python",
   "nbconvert_exporter": "python",
   "pygments_lexer": "ipython3",
   "version": "3.10.8"
  },
  "orig_nbformat": 4,
  "vscode": {
   "interpreter": {
    "hash": "fed355897c283882ce6b3341d180e0037d967cbc1dca3ebc909ceb3e97fabdfa"
   }
  }
 },
 "nbformat": 4,
 "nbformat_minor": 2
}
