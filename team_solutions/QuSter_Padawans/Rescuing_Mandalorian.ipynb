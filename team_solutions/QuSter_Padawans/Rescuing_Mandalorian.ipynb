{
 "cells": [
  {
   "cell_type": "code",
   "execution_count": 61,
   "id": "3fe12053-dc14-4b8b-8de9-daa6b220a949",
   "metadata": {},
   "outputs": [
    {
     "ename": "SyntaxError",
     "evalue": "trailing comma not allowed without surrounding parentheses (557194805.py, line 3)",
     "output_type": "error",
     "traceback": [
      "\u001b[0;36m  Cell \u001b[0;32mIn[61], line 3\u001b[0;36m\u001b[0m\n\u001b[0;31m    from qiskit.visualization import plot_histogram,\u001b[0m\n\u001b[0m                                                     ^\u001b[0m\n\u001b[0;31mSyntaxError\u001b[0m\u001b[0;31m:\u001b[0m trailing comma not allowed without surrounding parentheses\n"
     ]
    }
   ],
   "source": [
    "# import packages\n",
    "from qiskit import QuantumCircuit, QuantumRegister, ClassicalRegister\n",
    "from qiskit.visualization import plot_histogram, \n",
    "\n",
    "from qiskit import Aer\n",
    "\n",
    "\n",
    "from qiskit_ionq import IonQProvider\n",
    "\n",
    "\n",
    "token = 'Ezy7otlqBB8KVRm5qES55UI9EXOPUfdd'\n",
    "provider = IonQProvider(token)"
   ]
  },
  {
   "cell_type": "markdown",
   "id": "f78d9f0a-e9a5-4611-b390-b51c2effe408",
   "metadata": {},
   "source": [
    "## Take features input from Javar Script"
   ]
  },
  {
   "cell_type": "code",
   "execution_count": 49,
   "id": "0cf6cd6f-25c5-487e-9678-0f5dc02d4ed8",
   "metadata": {},
   "outputs": [],
   "source": [
    "size = 1\n",
    "speed = 0\n",
    "visible = 0\n"
   ]
  },
  {
   "cell_type": "markdown",
   "id": "b8dcf21a-cd65-4a2e-b5c0-bd71ba88444c",
   "metadata": {},
   "source": [
    "## Grogu's Jedi power entangled with the movement with the knob"
   ]
  },
  {
   "cell_type": "code",
   "execution_count": 50,
   "id": "18a8df43-f451-44c2-b265-8c688285cb45",
   "metadata": {},
   "outputs": [
    {
     "data": {
      "text/html": [
       "<pre style=\"word-wrap: normal;white-space: pre;background: #fff0;line-height: 1.1;font-family: &quot;Courier New&quot;,Courier,monospace\">                ┌───┐                ░ \n",
       "       grogu_0: ┤ H ├──■─────────────░─\n",
       "                ├───┤  │             ░ \n",
       "       grogu_1: ┤ H ├──┼────■────────░─\n",
       "                ├───┤  │    │        ░ \n",
       "       grogu_2: ┤ H ├──┼────┼────■───░─\n",
       "                └───┘┌─┴─┐  │    │   ░ \n",
       "        knob_0: ─────┤ X ├──┼────┼───░─\n",
       "                     └───┘┌─┴─┐  │   ░ \n",
       "        knob_1: ──────────┤ X ├──┼───░─\n",
       "                          └───┘┌─┴─┐ ░ \n",
       "        knob_2: ───────────────┤ X ├─░─\n",
       "                               └───┘ ░ \n",
       "classicalreg: 3/═══════════════════════\n",
       "                                       </pre>"
      ],
      "text/plain": [
       "                ┌───┐                ░ \n",
       "       grogu_0: ┤ H ├──■─────────────░─\n",
       "                ├───┤  │             ░ \n",
       "       grogu_1: ┤ H ├──┼────■────────░─\n",
       "                ├───┤  │    │        ░ \n",
       "       grogu_2: ┤ H ├──┼────┼────■───░─\n",
       "                └───┘┌─┴─┐  │    │   ░ \n",
       "        knob_0: ─────┤ X ├──┼────┼───░─\n",
       "                     └───┘┌─┴─┐  │   ░ \n",
       "        knob_1: ──────────┤ X ├──┼───░─\n",
       "                          └───┘┌─┴─┐ ░ \n",
       "        knob_2: ───────────────┤ X ├─░─\n",
       "                               └───┘ ░ \n",
       "classicalreg: 3/═══════════════════════\n",
       "                                       "
      ]
     },
     "execution_count": 50,
     "metadata": {},
     "output_type": "execute_result"
    }
   ],
   "source": [
    "greg = QuantumRegister(3,'grogu')\n",
    "kbreg = QuantumRegister(3,'knob')\n",
    "cr = ClassicalRegister(3, 'classicalreg')\n",
    "rmcirq = QuantumCircuit(greg,kbreg, cr)\n",
    "\n",
    "\n",
    "rmcirq.h(greg[0])\n",
    "rmcirq.h(greg[1])\n",
    "rmcirq.h(greg[2])\n",
    "rmcirq.cx(greg[:], kbreg[:])\n",
    "rmcirq.barrier()\n",
    "\n",
    "\n",
    "rmcirq.draw()"
   ]
  },
  {
   "cell_type": "code",
   "execution_count": 51,
   "id": "d7bbe1b7-3e8a-492c-9543-b8af45a2da63",
   "metadata": {},
   "outputs": [
    {
     "data": {
      "text/plain": [
       "<qiskit.circuit.instructionset.InstructionSet at 0x7f1b026d90d0>"
      ]
     },
     "execution_count": 51,
     "metadata": {},
     "output_type": "execute_result"
    }
   ],
   "source": [
    "if size == 1:\n",
    "    rmcirq.x(greg[0])\n",
    "if speed == 1:\n",
    "    rmcirq.x(greg[1])\n",
    "if visible == 1:\n",
    "    rmcirq.x(greg[2])\n",
    "rmcirq.barrier()"
   ]
  },
  {
   "cell_type": "code",
   "execution_count": 52,
   "id": "f8bfceb9-3ab8-487d-a8c5-2fc77e03e20b",
   "metadata": {},
   "outputs": [
    {
     "data": {
      "text/html": [
       "<pre style=\"word-wrap: normal;white-space: pre;background: #fff0;line-height: 1.1;font-family: &quot;Courier New&quot;,Courier,monospace\">                ┌───┐                ░ ┌───┐ ░      ┌───┐           ░ \n",
       "       grogu_0: ┤ H ├──■─────────────░─┤ X ├─░───■──┤ H ├───────────░─\n",
       "                ├───┤  │             ░ └───┘ ░   │  └───┘┌───┐      ░ \n",
       "       grogu_1: ┤ H ├──┼────■────────░───────░───┼────■──┤ H ├──────░─\n",
       "                ├───┤  │    │        ░       ░   │    │  └───┘┌───┐ ░ \n",
       "       grogu_2: ┤ H ├──┼────┼────■───░───────░───┼────┼────■──┤ H ├─░─\n",
       "                └───┘┌─┴─┐  │    │   ░       ░ ┌─┴─┐  │    │  └───┘ ░ \n",
       "        knob_0: ─────┤ X ├──┼────┼───░───────░─┤ X ├──┼────┼────────░─\n",
       "                     └───┘┌─┴─┐  │   ░       ░ └───┘┌─┴─┐  │        ░ \n",
       "        knob_1: ──────────┤ X ├──┼───░───────░──────┤ X ├──┼────────░─\n",
       "                          └───┘┌─┴─┐ ░       ░      └───┘┌─┴─┐      ░ \n",
       "        knob_2: ───────────────┤ X ├─░───────░───────────┤ X ├──────░─\n",
       "                               └───┘ ░       ░           └───┘      ░ \n",
       "classicalreg: 3/══════════════════════════════════════════════════════\n",
       "                                                                      </pre>"
      ],
      "text/plain": [
       "                ┌───┐                ░ ┌───┐ ░      ┌───┐           ░ \n",
       "       grogu_0: ┤ H ├──■─────────────░─┤ X ├─░───■──┤ H ├───────────░─\n",
       "                ├───┤  │             ░ └───┘ ░   │  └───┘┌───┐      ░ \n",
       "       grogu_1: ┤ H ├──┼────■────────░───────░───┼────■──┤ H ├──────░─\n",
       "                ├───┤  │    │        ░       ░   │    │  └───┘┌───┐ ░ \n",
       "       grogu_2: ┤ H ├──┼────┼────■───░───────░───┼────┼────■──┤ H ├─░─\n",
       "                └───┘┌─┴─┐  │    │   ░       ░ ┌─┴─┐  │    │  └───┘ ░ \n",
       "        knob_0: ─────┤ X ├──┼────┼───░───────░─┤ X ├──┼────┼────────░─\n",
       "                     └───┘┌─┴─┐  │   ░       ░ └───┘┌─┴─┐  │        ░ \n",
       "        knob_1: ──────────┤ X ├──┼───░───────░──────┤ X ├──┼────────░─\n",
       "                          └───┘┌─┴─┐ ░       ░      └───┘┌─┴─┐      ░ \n",
       "        knob_2: ───────────────┤ X ├─░───────░───────────┤ X ├──────░─\n",
       "                               └───┘ ░       ░           └───┘      ░ \n",
       "classicalreg: 3/══════════════════════════════════════════════════════\n",
       "                                                                      "
      ]
     },
     "execution_count": 52,
     "metadata": {},
     "output_type": "execute_result"
    }
   ],
   "source": [
    "rmcirq.cx(greg[:], kbreg[:])\n",
    "rmcirq.h(greg[:])\n",
    "\n",
    "rmcirq.barrier()\n",
    "rmcirq.draw()"
   ]
  },
  {
   "cell_type": "code",
   "execution_count": 53,
   "id": "9db2f03f-b771-464f-a885-3c6141548dc3",
   "metadata": {},
   "outputs": [
    {
     "data": {
      "text/html": [
       "<pre style=\"word-wrap: normal;white-space: pre;background: #fff0;line-height: 1.1;font-family: &quot;Courier New&quot;,Courier,monospace\">                ┌───┐                ░ ┌───┐ ░      ┌───┐           ░          \n",
       "       grogu_0: ┤ H ├──■─────────────░─┤ X ├─░───■──┤ H ├───────────░──────────\n",
       "                ├───┤  │             ░ └───┘ ░   │  └───┘┌───┐      ░          \n",
       "       grogu_1: ┤ H ├──┼────■────────░───────░───┼────■──┤ H ├──────░──────────\n",
       "                ├───┤  │    │        ░       ░   │    │  └───┘┌───┐ ░          \n",
       "       grogu_2: ┤ H ├──┼────┼────■───░───────░───┼────┼────■──┤ H ├─░──────────\n",
       "                └───┘┌─┴─┐  │    │   ░       ░ ┌─┴─┐  │    │  └───┘ ░ ┌─┐      \n",
       "        knob_0: ─────┤ X ├──┼────┼───░───────░─┤ X ├──┼────┼────────░─┤M├──────\n",
       "                     └───┘┌─┴─┐  │   ░       ░ └───┘┌─┴─┐  │        ░ └╥┘┌─┐   \n",
       "        knob_1: ──────────┤ X ├──┼───░───────░──────┤ X ├──┼────────░──╫─┤M├───\n",
       "                          └───┘┌─┴─┐ ░       ░      └───┘┌─┴─┐      ░  ║ └╥┘┌─┐\n",
       "        knob_2: ───────────────┤ X ├─░───────░───────────┤ X ├──────░──╫──╫─┤M├\n",
       "                               └───┘ ░       ░           └───┘      ░  ║  ║ └╥┘\n",
       "classicalreg: 3/═══════════════════════════════════════════════════════╩══╩══╩═\n",
       "                                                                       0  1  2 </pre>"
      ],
      "text/plain": [
       "                ┌───┐                ░ ┌───┐ ░      ┌───┐           ░          \n",
       "       grogu_0: ┤ H ├──■─────────────░─┤ X ├─░───■──┤ H ├───────────░──────────\n",
       "                ├───┤  │             ░ └───┘ ░   │  └───┘┌───┐      ░          \n",
       "       grogu_1: ┤ H ├──┼────■────────░───────░───┼────■──┤ H ├──────░──────────\n",
       "                ├───┤  │    │        ░       ░   │    │  └───┘┌───┐ ░          \n",
       "       grogu_2: ┤ H ├──┼────┼────■───░───────░───┼────┼────■──┤ H ├─░──────────\n",
       "                └───┘┌─┴─┐  │    │   ░       ░ ┌─┴─┐  │    │  └───┘ ░ ┌─┐      \n",
       "        knob_0: ─────┤ X ├──┼────┼───░───────░─┤ X ├──┼────┼────────░─┤M├──────\n",
       "                     └───┘┌─┴─┐  │   ░       ░ └───┘┌─┴─┐  │        ░ └╥┘┌─┐   \n",
       "        knob_1: ──────────┤ X ├──┼───░───────░──────┤ X ├──┼────────░──╫─┤M├───\n",
       "                          └───┘┌─┴─┐ ░       ░      └───┘┌─┴─┐      ░  ║ └╥┘┌─┐\n",
       "        knob_2: ───────────────┤ X ├─░───────░───────────┤ X ├──────░──╫──╫─┤M├\n",
       "                               └───┘ ░       ░           └───┘      ░  ║  ║ └╥┘\n",
       "classicalreg: 3/═══════════════════════════════════════════════════════╩══╩══╩═\n",
       "                                                                       0  1  2 "
      ]
     },
     "execution_count": 53,
     "metadata": {},
     "output_type": "execute_result"
    }
   ],
   "source": [
    "rmcirq.measure(kbreg[:],cr[:])\n",
    "rmcirq.draw()"
   ]
  },
  {
   "cell_type": "code",
   "execution_count": 54,
   "id": "240ab96f-806d-458d-8621-9b976ec33fe6",
   "metadata": {},
   "outputs": [],
   "source": [
    "#backend = Aer.get_backend('statevector_simulator')\n",
    "\n",
    "#job = backend.run(rmcirq, shots=1024)\n",
    "#result = job.result()\n",
    "#outputstate = result.get_statevector(rmcirq, decimals=3)\n",
    "#print(outputstate)"
   ]
  },
  {
   "cell_type": "code",
   "execution_count": 55,
   "id": "e24d6815-9255-4e47-b579-d1eb33f58f76",
   "metadata": {},
   "outputs": [
    {
     "data": {
      "text/plain": [
       "[<IonQSimulatorBackend('ionq_simulator')>, <IonQQPUBackend('ionq_qpu')>]"
      ]
     },
     "execution_count": 55,
     "metadata": {},
     "output_type": "execute_result"
    }
   ],
   "source": [
    "provider.backends()"
   ]
  },
  {
   "cell_type": "code",
   "execution_count": 56,
   "id": "f42db5d5-a96e-49ac-8e3d-a420306268d3",
   "metadata": {},
   "outputs": [],
   "source": [
    "backend = provider.get_backend(\"ionq_simulator\")\n",
    "job = backend.run(rmcirq, shots=1024)"
   ]
  },
  {
   "cell_type": "code",
   "execution_count": 57,
   "id": "2138d519-694b-4132-91c3-3e1aed1441c1",
   "metadata": {},
   "outputs": [
    {
     "name": "stdout",
     "output_type": "stream",
     "text": [
      "Job status is JobStatus.INITIALIZING\n"
     ]
    },
    {
     "ename": "KeyboardInterrupt",
     "evalue": "",
     "output_type": "error",
     "traceback": [
      "\u001b[0;31m---------------------------------------------------------------------------\u001b[0m",
      "\u001b[0;31mKeyboardInterrupt\u001b[0m                         Traceback (most recent call last)",
      "Cell \u001b[0;32mIn[57], line 6\u001b[0m\n\u001b[1;32m      4\u001b[0m \u001b[38;5;28;01mwhile\u001b[39;00m job\u001b[38;5;241m.\u001b[39mstatus() \u001b[38;5;129;01mis\u001b[39;00m \u001b[38;5;129;01mnot\u001b[39;00m JobStatus\u001b[38;5;241m.\u001b[39mDONE:\n\u001b[1;32m      5\u001b[0m \t\u001b[38;5;28mprint\u001b[39m(\u001b[38;5;124m\"\u001b[39m\u001b[38;5;124mJob status is\u001b[39m\u001b[38;5;124m\"\u001b[39m, job\u001b[38;5;241m.\u001b[39mstatus() )\n\u001b[0;32m----> 6\u001b[0m \t\u001b[43mtime\u001b[49m\u001b[38;5;241;43m.\u001b[39;49m\u001b[43msleep\u001b[49m\u001b[43m(\u001b[49m\u001b[38;5;241;43m60\u001b[39;49m\u001b[43m)\u001b[49m\n\u001b[1;32m      8\u001b[0m \u001b[38;5;66;03m# grab a coffee! This can take up to a few minutes.\u001b[39;00m\n\u001b[1;32m      9\u001b[0m \u001b[38;5;66;03m# once we break out of that while loop, we know our job is finished\u001b[39;00m\n\u001b[1;32m     10\u001b[0m \u001b[38;5;28mprint\u001b[39m(\u001b[38;5;124m\"\u001b[39m\u001b[38;5;124mJob status is\u001b[39m\u001b[38;5;124m\"\u001b[39m, job\u001b[38;5;241m.\u001b[39mstatus() )\n",
      "\u001b[0;31mKeyboardInterrupt\u001b[0m: "
     ]
    }
   ],
   "source": [
    "from qiskit.providers.jobstatus import JobStatus\n",
    "import time\n",
    "# Check if job is done\n",
    "while job.status() is not JobStatus.DONE:\n",
    "\tprint(\"Job status is\", job.status() )\n",
    "\ttime.sleep(60)\n",
    "\n",
    "# grab a coffee! This can take up to a few minutes.\n",
    "# once we break out of that while loop, we know our job is finished\n",
    "print(\"Job status is\", job.status() )\n",
    "print(job.get_counts()) # these counts are the “true” counts from the actual QPU Run"
   ]
  },
  {
   "cell_type": "code",
   "execution_count": 58,
   "id": "5cfc78f7-9952-4c7b-bf5a-944674dafef1",
   "metadata": {},
   "outputs": [
    {
     "name": "stdout",
     "output_type": "stream",
     "text": [
      "{'001': 1024}\n"
     ]
    }
   ],
   "source": [
    "result = job.result()\n",
    "counts = result.get_counts(rmcirq)\n",
    "print(counts)"
   ]
  },
  {
   "cell_type": "code",
   "execution_count": 59,
   "id": "11628ef9-766f-477f-952a-8d9052384b22",
   "metadata": {},
   "outputs": [],
   "source": [
    "import numpy as np\n",
    "features = np.array(list(counts.keys()))[0]\n",
    "rotation = features[0]\n",
    "horizontal = features[1]\n",
    "vertical = features[2]"
   ]
  },
  {
   "cell_type": "code",
   "execution_count": 60,
   "id": "d402e6f6-2c39-453b-8219-9163fdc567c9",
   "metadata": {},
   "outputs": [
    {
     "data": {
      "image/png": "[encoded data removed]",
      "text/plain": [
       "<Figure size 700x500 with 1 Axes>"
      ]
     },
     "execution_count": 60,
     "metadata": {},
     "output_type": "execute_result"
    }
   ],
   "source": [
    "plot_histogram(counts)"
   ]
  },
  {
   "cell_type": "code",
   "execution_count": null,
   "id": "722e9211-8277-4958-a047-93bb573dec44",
   "metadata": {},
   "outputs": [],
   "source": [
    "with open(\"py2jvs.html\", \"w\") as f:\n",
    "    f.write(\"<script>var rotation = {}; var horizontal = {}; vertical = {} ;</script>\".format(rotation, horizontal, vertical))"
   ]
  }
 ],
 "metadata": {
  "kernelspec": {
   "display_name": "Python 3 [IonQ]",
   "language": "python",
   "name": "python3_ionq_6vdluz"
  },
  "language_info": {
   "codemirror_mode": {
    "name": "ipython",
    "version": 3
   },
   "file_extension": ".py",
   "mimetype": "text/x-python",
   "name": "python",
   "nbconvert_exporter": "python",
   "pygments_lexer": "ipython3",
   "version": "3.9.10"
  }
 },
 "nbformat": 4,
 "nbformat_minor": 5
}
