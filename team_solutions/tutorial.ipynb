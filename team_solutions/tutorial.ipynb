{
 "cells": [
  {
   "cell_type": "code",
   "execution_count": 70,
   "id": "e6f8a034-0c5b-4632-ad0d-cec7017fc62b",
   "metadata": {},
   "outputs": [],
   "source": [
    "import matplotlib.pyplot as plt\n",
    "import cirq_ionq\n",
    "import random\n",
    "import cirq\n",
    "from cirq.contrib.svg import SVGCircuit"
   ]
  },
  {
   "cell_type": "code",
   "execution_count": 37,
   "id": "b9f2063f-3662-4448-99db-fb72ce116d28",
   "metadata": {},
   "outputs": [],
   "source": [
    "def diffuse(circuit, n, qubits):\n",
    "    for _ in range(n):\n",
    "        circuit.append([cirq.H(qubit) for qubit in qubits])\n",
    "        circuit.append([cirq.X(qubit) for qubit in qubits])\n",
    "        circuit.append(cirq.Z(qubits[-1]).controlled_by(*qubits[0:-1]))\n",
    "        circuit.append([cirq.X(qubit) for qubit in qubits])\n",
    "        circuit.append([cirq.H(qubit) for qubit in qubits])"
   ]
  },
  {
   "cell_type": "code",
   "execution_count": 71,
   "id": "628c27d1-3437-427f-b4f9-18100eaeec86",
   "metadata": {},
   "outputs": [],
   "source": [
    "def build_monster_grover(exponents, nDiffuse, measure):\n",
    "    qubits = [cirq.NamedQubit(str(ii)) for ii in range(4)]\n",
    "    circuit = cirq.Circuit()\n",
    "\n",
    "    # apply H-gates \n",
    "    circuit.append([cirq.H(qubit) for qubit in qubits])\n",
    "\n",
    "    circuit.append(cirq.CZPowGate(exponent = exponents[0])(qubits[0], qubits[1]))\n",
    "    circuit.append(cirq.CZPowGate(exponent = exponents[1])(qubits[0], qubits[2]))\n",
    "    circuit.append(cirq.CZPowGate(exponent = exponents[2])(qubits[0], qubits[3]))\n",
    "    circuit.append(cirq.CZPowGate(exponent = exponents[3])(qubits[1], qubits[2]))\n",
    "    circuit.append(cirq.CZPowGate(exponent = exponents[4])(qubits[1], qubits[3]))\n",
    "    circuit.append(cirq.CZPowGate(exponent = exponents[5])(qubits[2], qubits[3]))\n",
    "\n",
    "    circuit.append([cirq.X(qubit) for qubit in qubits])\n",
    "    \n",
    "    circuit.append(cirq.CZPowGate(exponent = exponents[6])(qubits[0], qubits[1]))\n",
    "    circuit.append(cirq.CZPowGate(exponent = exponents[7])(qubits[0], qubits[2]))\n",
    "    circuit.append(cirq.CZPowGate(exponent = exponents[8])(qubits[0], qubits[3]))\n",
    "    circuit.append(cirq.CZPowGate(exponent = exponents[9])(qubits[1], qubits[2]))\n",
    "    circuit.append(cirq.CZPowGate(exponent = exponents[10])(qubits[1], qubits[3]))\n",
    "    circuit.append(cirq.CZPowGate(exponent = exponents[11])(qubits[2], qubits[3]))\n",
    "    \n",
    "    diffuse(circuit, nDiffuse, qubits)\n",
    "    \n",
    "    if measure:\n",
    "        circuit.append(cirq.measure(*qubits, key = 'r1'))\n",
    "    \n",
    "    return circuit"
   ]
  },
  {
   "cell_type": "code",
   "execution_count": 72,
   "id": "18ffc29d-adf5-4633-8b40-7e141a2e2f60",
   "metadata": {},
   "outputs": [
    {
     "name": "stderr",
     "output_type": "stream",
     "text": [
      "findfont: Font family 'Arial' not found.\n",
      "findfont: Font family 'Arial' not found.\n",
      "findfont: Font family 'Arial' not found.\n",
      "findfont: Font family 'Arial' not found.\n",
      "findfont: Font family 'Arial' not found.\n",
      "findfont: Font family 'Arial' not found.\n",
      "findfont: Font family 'Arial' not found.\n",
      "findfont: Font family 'Arial' not found.\n",
      "findfont: Font family 'Arial' not found.\n",
      "findfont: Font family 'Arial' not found.\n",
      "findfont: Font family 'Arial' not found.\n",
      "findfont: Font family 'Arial' not found.\n",
      "findfont: Font family 'Arial' not found.\n",
      "findfont: Font family 'Arial' not found.\n",
      "findfont: Font family 'Arial' not found.\n",
      "findfont: Font family 'Arial' not found.\n",
      "findfont: Font family 'Arial' not found.\n",
      "findfont: Font family 'Arial' not found.\n",
      "findfont: Font family 'Arial' not found.\n",
      "findfont: Font family 'Arial' not found.\n",
      "findfont: Font family 'Arial' not found.\n",
      "findfont: Font family 'Arial' not found.\n",
      "findfont: Font family 'Arial' not found.\n",
      "findfont: Font family 'Arial' not found.\n",
      "findfont: Font family 'Arial' not found.\n",
      "findfont: Font family 'Arial' not found.\n",
      "findfont: Font family 'Arial' not found.\n",
      "findfont: Font family 'Arial' not found.\n",
      "findfont: Font family 'Arial' not found.\n",
      "findfont: Font family 'Arial' not found.\n",
      "findfont: Font family 'Arial' not found.\n",
      "findfont: Font family 'Arial' not found.\n",
      "findfont: Font family 'Arial' not found.\n",
      "findfont: Font family 'Arial' not found.\n",
      "findfont: Font family 'Arial' not found.\n",
      "findfont: Font family 'Arial' not found.\n",
      "findfont: Font family 'Arial' not found.\n",
      "findfont: Font family 'Arial' not found.\n",
      "findfont: Font family 'Arial' not found.\n",
      "findfont: Font family 'Arial' not found.\n",
      "findfont: Font family 'Arial' not found.\n",
      "findfont: Font family 'Arial' not found.\n",
      "findfont: Font family 'Arial' not found.\n",
      "findfont: Font family 'Arial' not found.\n",
      "findfont: Font family 'Arial' not found.\n",
      "findfont: Font family 'Arial' not found.\n",
      "findfont: Font family 'Arial' not found.\n",
      "findfont: Font family 'Arial' not found.\n",
      "findfont: Font family 'Arial' not found.\n",
      "findfont: Font family 'Arial' not found.\n",
      "findfont: Font family 'Arial' not found.\n",
      "findfont: Font family 'Arial' not found.\n",
      "findfont: Font family 'Arial' not found.\n",
      "findfont: Font family 'Arial' not found.\n",
      "findfont: Font family 'Arial' not found.\n",
      "findfont: Font family 'Arial' not found.\n",
      "findfont: Font family 'Arial' not found.\n",
      "findfont: Font family 'Arial' not found.\n",
      "findfont: Font family 'Arial' not found.\n",
      "findfont: Font family 'Arial' not found.\n"
     ]
    },
    {
     "data": {
      "image/svg+xml": [
       "<svg xmlns=\"http://www.w3.org/2000/svg\" width=\"1603.2873046875\" height=\"240.0\"><line x1=\"30.0\" x2=\"1573.2873046875\" y1=\"45.0\" y2=\"45.0\" stroke=\"#1967d2\" stroke-width=\"1\" /><line x1=\"30.0\" x2=\"1573.2873046875\" y1=\"95.0\" y2=\"95.0\" stroke=\"#1967d2\" stroke-width=\"1\" /><line x1=\"30.0\" x2=\"1573.2873046875\" y1=\"145.0\" y2=\"145.0\" stroke=\"#1967d2\" stroke-width=\"1\" /><line x1=\"30.0\" x2=\"1573.2873046875\" y1=\"195.0\" y2=\"195.0\" stroke=\"#1967d2\" stroke-width=\"1\" /><line x1=\"835.481875\" x2=\"993.2515625\" y1=\"5.0\" y2=\"5.0\" stroke=\"black\" stroke-width=\"1\" /><line x1=\"835.481875\" x2=\"993.2515625\" y1=\"235.0\" y2=\"235.0\" stroke=\"black\" stroke-width=\"1\" /><line x1=\"307.8309375\" x2=\"456.7283984375\" y1=\"5.0\" y2=\"5.0\" stroke=\"black\" stroke-width=\"1\" /><line x1=\"307.8309375\" x2=\"456.7283984375\" y1=\"235.0\" y2=\"235.0\" stroke=\"black\" stroke-width=\"1\" /><line x1=\"166.964296875\" x2=\"166.964296875\" y1=\"45.0\" y2=\"95.0\" stroke=\"black\" stroke-width=\"3\" /><line x1=\"260.879765625\" x2=\"260.879765625\" y1=\"45.0\" y2=\"145.0\" stroke=\"black\" stroke-width=\"3\" /><line x1=\"340.32849609375\" x2=\"340.32849609375\" y1=\"45.0\" y2=\"195.0\" stroke=\"black\" stroke-width=\"3\" /><line x1=\"409.7772265625\" x2=\"409.7772265625\" y1=\"95.0\" y2=\"145.0\" stroke=\"black\" stroke-width=\"3\" /><line x1=\"513.7791015625\" x2=\"513.7791015625\" y1=\"95.0\" y2=\"195.0\" stroke=\"black\" stroke-width=\"3\" /><line x1=\"607.7941015624999\" x2=\"607.7941015624999\" y1=\"145.0\" y2=\"195.0\" stroke=\"black\" stroke-width=\"3\" /><line x1=\"701.5903515625\" x2=\"701.5903515625\" y1=\"45.0\" y2=\"95.0\" stroke=\"black\" stroke-width=\"3\" /><line x1=\"791.95208984375\" x2=\"791.95208984375\" y1=\"45.0\" y2=\"145.0\" stroke=\"black\" stroke-width=\"3\" /><line x1=\"872.484453125\" x2=\"872.484453125\" y1=\"45.0\" y2=\"195.0\" stroke=\"black\" stroke-width=\"3\" /><line x1=\"946.3692968749999\" x2=\"946.3692968749999\" y1=\"95.0\" y2=\"145.0\" stroke=\"black\" stroke-width=\"3\" /><line x1=\"1050.133828125\" x2=\"1050.133828125\" y1=\"95.0\" y2=\"195.0\" stroke=\"black\" stroke-width=\"3\" /><line x1=\"1143.758359375\" x2=\"1143.758359375\" y1=\"145.0\" y2=\"195.0\" stroke=\"black\" stroke-width=\"3\" /><line x1=\"1340.500625\" x2=\"1340.500625\" y1=\"45.0\" y2=\"195.0\" stroke=\"black\" stroke-width=\"3\" /><line x1=\"1526.89396484375\" x2=\"1526.89396484375\" y1=\"45.0\" y2=\"195.0\" stroke=\"black\" stroke-width=\"3\" /><line x1=\"835.481875\" x2=\"835.481875\" y1=\"5.0\" y2=\"15.0\" stroke=\"black\" stroke-width=\"3\" /><line x1=\"993.2515625\" x2=\"993.2515625\" y1=\"5.0\" y2=\"15.0\" stroke=\"black\" stroke-width=\"3\" /><line x1=\"835.481875\" x2=\"835.481875\" y1=\"225.0\" y2=\"235.0\" stroke=\"black\" stroke-width=\"3\" /><line x1=\"993.2515625\" x2=\"993.2515625\" y1=\"225.0\" y2=\"235.0\" stroke=\"black\" stroke-width=\"3\" /><line x1=\"307.8309375\" x2=\"307.8309375\" y1=\"5.0\" y2=\"15.0\" stroke=\"black\" stroke-width=\"3\" /><line x1=\"456.7283984375\" x2=\"456.7283984375\" y1=\"5.0\" y2=\"15.0\" stroke=\"black\" stroke-width=\"3\" /><line x1=\"307.8309375\" x2=\"307.8309375\" y1=\"225.0\" y2=\"235.0\" stroke=\"black\" stroke-width=\"3\" /><line x1=\"456.7283984375\" x2=\"456.7283984375\" y1=\"225.0\" y2=\"235.0\" stroke=\"black\" stroke-width=\"3\" /><rect x=\"10.0\" y=\"25.0\" width=\"40\" height=\"40\" stroke=\"black\" fill=\"white\" stroke-width=\"0\" /><text x=\"30.0\" y=\"45.0\" dominant-baseline=\"middle\" text-anchor=\"middle\" font-size=\"14px\" font-family=\"Arial\">0: </text><rect x=\"10.0\" y=\"75.0\" width=\"40\" height=\"40\" stroke=\"black\" fill=\"white\" stroke-width=\"0\" /><text x=\"30.0\" y=\"95.0\" dominant-baseline=\"middle\" text-anchor=\"middle\" font-size=\"14px\" font-family=\"Arial\">1: </text><rect x=\"10.0\" y=\"125.0\" width=\"40\" height=\"40\" stroke=\"black\" fill=\"white\" stroke-width=\"0\" /><text x=\"30.0\" y=\"145.0\" dominant-baseline=\"middle\" text-anchor=\"middle\" font-size=\"14px\" font-family=\"Arial\">2: </text><rect x=\"10.0\" y=\"175.0\" width=\"40\" height=\"40\" stroke=\"black\" fill=\"white\" stroke-width=\"0\" /><text x=\"30.0\" y=\"195.0\" dominant-baseline=\"middle\" text-anchor=\"middle\" font-size=\"14px\" font-family=\"Arial\">3: </text><rect x=\"70.0\" y=\"25.0\" width=\"40\" height=\"40\" stroke=\"black\" fill=\"white\" stroke-width=\"1\" /><text x=\"90.0\" y=\"45.0\" dominant-baseline=\"middle\" text-anchor=\"middle\" font-size=\"18px\" font-family=\"Arial\">H</text><rect x=\"70.0\" y=\"75.0\" width=\"40\" height=\"40\" stroke=\"black\" fill=\"white\" stroke-width=\"1\" /><text x=\"90.0\" y=\"95.0\" dominant-baseline=\"middle\" text-anchor=\"middle\" font-size=\"18px\" font-family=\"Arial\">H</text><rect x=\"70.0\" y=\"125.0\" width=\"40\" height=\"40\" stroke=\"black\" fill=\"white\" stroke-width=\"1\" /><text x=\"90.0\" y=\"145.0\" dominant-baseline=\"middle\" text-anchor=\"middle\" font-size=\"18px\" font-family=\"Arial\">H</text><rect x=\"70.0\" y=\"175.0\" width=\"40\" height=\"40\" stroke=\"black\" fill=\"white\" stroke-width=\"1\" /><text x=\"90.0\" y=\"195.0\" dominant-baseline=\"middle\" text-anchor=\"middle\" font-size=\"18px\" font-family=\"Arial\">H</text><circle cx=\"166.964296875\" cy=\"45.0\" r=\"10.0\" /><rect x=\"130.0\" y=\"75.0\" width=\"73.92859375\" height=\"40\" stroke=\"black\" fill=\"white\" stroke-width=\"1\" /><text x=\"166.964296875\" y=\"95.0\" dominant-baseline=\"middle\" text-anchor=\"middle\" font-size=\"14px\" font-family=\"Arial\">@^0.248</text><circle cx=\"260.879765625\" cy=\"45.0\" r=\"10.0\" /><rect x=\"223.92859375\" y=\"125.0\" width=\"73.90234375000001\" height=\"40\" stroke=\"black\" fill=\"white\" stroke-width=\"1\" /><text x=\"260.879765625\" y=\"145.0\" dominant-baseline=\"middle\" text-anchor=\"middle\" font-size=\"14px\" font-family=\"Arial\">@^0.949</text><circle cx=\"340.32849609375\" cy=\"45.0\" r=\"10.0\" /><rect x=\"307.8309375\" y=\"175.0\" width=\"64.9951171875\" height=\"40\" stroke=\"black\" fill=\"white\" stroke-width=\"1\" /><text x=\"340.32849609375\" y=\"195.0\" dominant-baseline=\"middle\" text-anchor=\"middle\" font-size=\"14px\" font-family=\"Arial\">@^0.79</text><circle cx=\"409.7772265625\" cy=\"95.0\" r=\"10.0\" /><rect x=\"372.8260546875\" y=\"125.0\" width=\"73.90234375000001\" height=\"40\" stroke=\"black\" fill=\"white\" stroke-width=\"1\" /><text x=\"409.7772265625\" y=\"145.0\" dominant-baseline=\"middle\" text-anchor=\"middle\" font-size=\"14px\" font-family=\"Arial\">@^0.459</text><circle cx=\"513.7791015625\" cy=\"95.0\" r=\"10.0\" /><rect x=\"476.72839843750006\" y=\"175.0\" width=\"74.10140625000001\" height=\"40\" stroke=\"black\" fill=\"white\" stroke-width=\"1\" /><text x=\"513.7791015625\" y=\"195.0\" dominant-baseline=\"middle\" text-anchor=\"middle\" font-size=\"14px\" font-family=\"Arial\">@^0.994</text><rect x=\"476.72839843750006\" y=\"25.0\" width=\"74.10140625000001\" height=\"40\" stroke=\"black\" fill=\"white\" stroke-width=\"1\" /><text x=\"513.7791015625\" y=\"45.0\" dominant-baseline=\"middle\" text-anchor=\"middle\" font-size=\"18px\" font-family=\"Arial\">X</text><circle cx=\"607.7941015624999\" cy=\"145.0\" r=\"10.0\" /><rect x=\"570.8298046875\" y=\"175.0\" width=\"73.92859375\" height=\"40\" stroke=\"black\" fill=\"white\" stroke-width=\"1\" /><text x=\"607.7941015624999\" y=\"195.0\" dominant-baseline=\"middle\" text-anchor=\"middle\" font-size=\"14px\" font-family=\"Arial\">@^0.038</text><rect x=\"570.8298046875\" y=\"75.0\" width=\"73.92859375\" height=\"40\" stroke=\"black\" fill=\"white\" stroke-width=\"1\" /><text x=\"607.7941015624999\" y=\"95.0\" dominant-baseline=\"middle\" text-anchor=\"middle\" font-size=\"18px\" font-family=\"Arial\">X</text><rect x=\"664.7583984375\" y=\"125.0\" width=\"73.66390625000001\" height=\"40\" stroke=\"black\" fill=\"white\" stroke-width=\"1\" /><text x=\"701.5903515625\" y=\"145.0\" dominant-baseline=\"middle\" text-anchor=\"middle\" font-size=\"18px\" font-family=\"Arial\">X</text><rect x=\"664.7583984375\" y=\"175.0\" width=\"73.66390625000001\" height=\"40\" stroke=\"black\" fill=\"white\" stroke-width=\"1\" /><text x=\"701.5903515625\" y=\"195.0\" dominant-baseline=\"middle\" text-anchor=\"middle\" font-size=\"18px\" font-family=\"Arial\">X</text><circle cx=\"701.5903515625\" cy=\"45.0\" r=\"10.0\" /><rect x=\"664.7583984375\" y=\"75.0\" width=\"73.66390625000001\" height=\"40\" stroke=\"black\" fill=\"white\" stroke-width=\"1\" /><text x=\"701.5903515625\" y=\"95.0\" dominant-baseline=\"middle\" text-anchor=\"middle\" font-size=\"14px\" font-family=\"Arial\">@^0.755</text><circle cx=\"791.95208984375\" cy=\"45.0\" r=\"10.0\" /><rect x=\"758.4223046875\" y=\"125.0\" width=\"67.0595703125\" height=\"40\" stroke=\"black\" fill=\"white\" stroke-width=\"1\" /><text x=\"791.95208984375\" y=\"145.0\" dominant-baseline=\"middle\" text-anchor=\"middle\" font-size=\"14px\" font-family=\"Arial\">@^(4/9)</text><circle cx=\"872.484453125\" cy=\"45.0\" r=\"10.0\" /><rect x=\"835.481875\" y=\"175.0\" width=\"74.00515625000001\" height=\"40\" stroke=\"black\" fill=\"white\" stroke-width=\"1\" /><text x=\"872.484453125\" y=\"195.0\" dominant-baseline=\"middle\" text-anchor=\"middle\" font-size=\"14px\" font-family=\"Arial\">@^0.796</text><circle cx=\"946.3692968749999\" cy=\"95.0\" r=\"10.0\" /><rect x=\"909.48703125\" y=\"125.0\" width=\"73.76453125\" height=\"40\" stroke=\"black\" fill=\"white\" stroke-width=\"1\" /><text x=\"946.3692968749999\" y=\"145.0\" dominant-baseline=\"middle\" text-anchor=\"middle\" font-size=\"14px\" font-family=\"Arial\">@^0.443</text><circle cx=\"1050.133828125\" cy=\"95.0\" r=\"10.0\" /><rect x=\"1013.2515625000001\" y=\"175.0\" width=\"73.76453125\" height=\"40\" stroke=\"black\" fill=\"white\" stroke-width=\"1\" /><text x=\"1050.133828125\" y=\"195.0\" dominant-baseline=\"middle\" text-anchor=\"middle\" font-size=\"14px\" font-family=\"Arial\">@^0.183</text><rect x=\"1013.2515625000001\" y=\"25.0\" width=\"73.76453125\" height=\"40\" stroke=\"black\" fill=\"white\" stroke-width=\"1\" /><text x=\"1050.133828125\" y=\"45.0\" dominant-baseline=\"middle\" text-anchor=\"middle\" font-size=\"18px\" font-family=\"Arial\">H</text><circle cx=\"1143.758359375\" cy=\"145.0\" r=\"10.0\" /><rect x=\"1107.01609375\" y=\"175.0\" width=\"73.48453125\" height=\"40\" stroke=\"black\" fill=\"white\" stroke-width=\"1\" /><text x=\"1143.758359375\" y=\"195.0\" dominant-baseline=\"middle\" text-anchor=\"middle\" font-size=\"14px\" font-family=\"Arial\">@^0.752</text><rect x=\"1107.01609375\" y=\"75.0\" width=\"73.48453125\" height=\"40\" stroke=\"black\" fill=\"white\" stroke-width=\"1\" /><text x=\"1143.758359375\" y=\"95.0\" dominant-baseline=\"middle\" text-anchor=\"middle\" font-size=\"18px\" font-family=\"Arial\">H</text><rect x=\"1107.01609375\" y=\"25.0\" width=\"73.48453125\" height=\"40\" stroke=\"black\" fill=\"white\" stroke-width=\"1\" /><text x=\"1143.758359375\" y=\"45.0\" dominant-baseline=\"middle\" text-anchor=\"middle\" font-size=\"18px\" font-family=\"Arial\">X</text><rect x=\"1200.500625\" y=\"125.0\" width=\"40\" height=\"40\" stroke=\"black\" fill=\"white\" stroke-width=\"1\" /><text x=\"1220.500625\" y=\"145.0\" dominant-baseline=\"middle\" text-anchor=\"middle\" font-size=\"18px\" font-family=\"Arial\">H</text><rect x=\"1200.500625\" y=\"175.0\" width=\"40\" height=\"40\" stroke=\"black\" fill=\"white\" stroke-width=\"1\" /><text x=\"1220.500625\" y=\"195.0\" dominant-baseline=\"middle\" text-anchor=\"middle\" font-size=\"18px\" font-family=\"Arial\">H</text><rect x=\"1200.500625\" y=\"75.0\" width=\"40\" height=\"40\" stroke=\"black\" fill=\"white\" stroke-width=\"1\" /><text x=\"1220.500625\" y=\"95.0\" dominant-baseline=\"middle\" text-anchor=\"middle\" font-size=\"18px\" font-family=\"Arial\">X</text><rect x=\"1260.500625\" y=\"125.0\" width=\"40\" height=\"40\" stroke=\"black\" fill=\"white\" stroke-width=\"1\" /><text x=\"1280.500625\" y=\"145.0\" dominant-baseline=\"middle\" text-anchor=\"middle\" font-size=\"18px\" font-family=\"Arial\">X</text><rect x=\"1260.500625\" y=\"175.0\" width=\"40\" height=\"40\" stroke=\"black\" fill=\"white\" stroke-width=\"1\" /><text x=\"1280.500625\" y=\"195.0\" dominant-baseline=\"middle\" text-anchor=\"middle\" font-size=\"18px\" font-family=\"Arial\">X</text><circle cx=\"1340.500625\" cy=\"45.0\" r=\"10.0\" /><circle cx=\"1340.500625\" cy=\"95.0\" r=\"10.0\" /><circle cx=\"1340.500625\" cy=\"145.0\" r=\"10.0\" /><rect x=\"1320.500625\" y=\"175.0\" width=\"40\" height=\"40\" stroke=\"black\" fill=\"white\" stroke-width=\"1\" /><text x=\"1340.500625\" y=\"195.0\" dominant-baseline=\"middle\" text-anchor=\"middle\" font-size=\"18px\" font-family=\"Arial\">Z</text><rect x=\"1380.500625\" y=\"25.0\" width=\"40\" height=\"40\" stroke=\"black\" fill=\"white\" stroke-width=\"1\" /><text x=\"1400.500625\" y=\"45.0\" dominant-baseline=\"middle\" text-anchor=\"middle\" font-size=\"18px\" font-family=\"Arial\">X</text><rect x=\"1380.500625\" y=\"75.0\" width=\"40\" height=\"40\" stroke=\"black\" fill=\"white\" stroke-width=\"1\" /><text x=\"1400.500625\" y=\"95.0\" dominant-baseline=\"middle\" text-anchor=\"middle\" font-size=\"18px\" font-family=\"Arial\">X</text><rect x=\"1380.500625\" y=\"125.0\" width=\"40\" height=\"40\" stroke=\"black\" fill=\"white\" stroke-width=\"1\" /><text x=\"1400.500625\" y=\"145.0\" dominant-baseline=\"middle\" text-anchor=\"middle\" font-size=\"18px\" font-family=\"Arial\">X</text><rect x=\"1380.500625\" y=\"175.0\" width=\"40\" height=\"40\" stroke=\"black\" fill=\"white\" stroke-width=\"1\" /><text x=\"1400.500625\" y=\"195.0\" dominant-baseline=\"middle\" text-anchor=\"middle\" font-size=\"18px\" font-family=\"Arial\">X</text><rect x=\"1440.500625\" y=\"25.0\" width=\"40\" height=\"40\" stroke=\"black\" fill=\"white\" stroke-width=\"1\" /><text x=\"1460.500625\" y=\"45.0\" dominant-baseline=\"middle\" text-anchor=\"middle\" font-size=\"18px\" font-family=\"Arial\">H</text><rect x=\"1440.500625\" y=\"75.0\" width=\"40\" height=\"40\" stroke=\"black\" fill=\"white\" stroke-width=\"1\" /><text x=\"1460.500625\" y=\"95.0\" dominant-baseline=\"middle\" text-anchor=\"middle\" font-size=\"18px\" font-family=\"Arial\">H</text><rect x=\"1440.500625\" y=\"125.0\" width=\"40\" height=\"40\" stroke=\"black\" fill=\"white\" stroke-width=\"1\" /><text x=\"1460.500625\" y=\"145.0\" dominant-baseline=\"middle\" text-anchor=\"middle\" font-size=\"18px\" font-family=\"Arial\">H</text><rect x=\"1440.500625\" y=\"175.0\" width=\"40\" height=\"40\" stroke=\"black\" fill=\"white\" stroke-width=\"1\" /><text x=\"1460.500625\" y=\"195.0\" dominant-baseline=\"middle\" text-anchor=\"middle\" font-size=\"18px\" font-family=\"Arial\">H</text><rect x=\"1500.500625\" y=\"25.0\" width=\"52.7866796875\" height=\"40\" stroke=\"black\" fill=\"white\" stroke-width=\"1\" /><text x=\"1526.89396484375\" y=\"45.0\" dominant-baseline=\"middle\" text-anchor=\"middle\" font-size=\"14px\" font-family=\"Arial\">M('r1')</text><rect x=\"1500.500625\" y=\"75.0\" width=\"52.7866796875\" height=\"40\" stroke=\"black\" fill=\"white\" stroke-width=\"1\" /><text x=\"1526.89396484375\" y=\"95.0\" dominant-baseline=\"middle\" text-anchor=\"middle\" font-size=\"18px\" font-family=\"Arial\">M</text><rect x=\"1500.500625\" y=\"125.0\" width=\"52.7866796875\" height=\"40\" stroke=\"black\" fill=\"white\" stroke-width=\"1\" /><text x=\"1526.89396484375\" y=\"145.0\" dominant-baseline=\"middle\" text-anchor=\"middle\" font-size=\"18px\" font-family=\"Arial\">M</text><rect x=\"1500.500625\" y=\"175.0\" width=\"52.7866796875\" height=\"40\" stroke=\"black\" fill=\"white\" stroke-width=\"1\" /><text x=\"1526.89396484375\" y=\"195.0\" dominant-baseline=\"middle\" text-anchor=\"middle\" font-size=\"18px\" font-family=\"Arial\">M</text></svg>"
      ],
      "text/plain": [
       "<cirq.contrib.svg.svg.SVGCircuit at 0x7ffa72305850>"
      ]
     },
     "execution_count": 72,
     "metadata": {},
     "output_type": "execute_result"
    }
   ],
   "source": [
    "exponents = [random.random() for _ in range(numExponents)]\n",
    "circuit = build_monster_grover(exponents, nDiffuse=1, measure=True)\n",
    "SVGCircuit(circuit)"
   ]
  },
  {
   "cell_type": "code",
   "execution_count": 104,
   "id": "46d16c49-1c37-47ea-abe5-7658d37b76f8",
   "metadata": {},
   "outputs": [],
   "source": [
    "# Optimization parameters\n",
    "# threshold = 60 # accept percentage\n",
    "numIts = 2000\n",
    "random_sample = [0,1,2,3]\n",
    "iterations = []\n",
    "accuracy = []"
   ]
  },
  {
   "cell_type": "code",
   "execution_count": 105,
   "id": "5748ec4b-affe-4e0a-bb9d-60b00f4313c6",
   "metadata": {},
   "outputs": [
    {
     "name": "stdout",
     "output_type": "stream",
     "text": [
      "[ 2.4 12.4  7.5  7.4  2.1  3.6  9.9  8.4  6.   3.4  3.9  1.8 11.6  1.7\n",
      "  6.3 11.6]\n"
     ]
    },
    {
     "data": {
      "image/png": "[encoded data removed]",
      "text/plain": [
       "<Figure size 432x288 with 1 Axes>"
      ]
     },
     "metadata": {
      "needs_background": "light"
     },
     "output_type": "display_data"
    }
   ],
   "source": [
    "numExponents = 12\n",
    "numRepititions = 1000\n",
    "exponents = [random.random() for _ in range(numExponents)]\n",
    "nDiffuse = 1\n",
    "\n",
    "# initial circuit\n",
    "circuit = build_monster_grover(exponents, nDiffuse, measure=True)\n",
    "s = cirq.Simulator()\n",
    "samples = s.run(circuit, repetitions = numRepititions)\n",
    "cirq.plot_state_histogram(samples, plt.subplot())\n",
    "\n",
    "counts = cirq.get_state_histogram(samples)\n",
    "percentages = counts/numRepititions * 100\n",
    "print(percentages)\n",
    "# list(cirq.get_state_histogram(samples))\n",
    "prev_prob_sum = sum(percentages[i] for i in random_sample)"
   ]
  },
  {
   "cell_type": "code",
   "execution_count": 106,
   "id": "bd64e7a8-d7d6-4f10-8668-78214515878b",
   "metadata": {},
   "outputs": [],
   "source": [
    "# update exponents by a small step randomly\n",
    "updates = [random.random()/10 - 0.05 for _ in range(len(exponents))]\n",
    "\n",
    "circuit = build_monster_grover([exponents[ii] + updates[ii] \n",
    "                                    for ii in range(numExponents)], nDiffuse, measure=True)\n",
    "s = cirq.Simulator()\n",
    "samples = s.run(circuit, repetitions = numRepititions)\n",
    "\n",
    "# get the numbers in the range of the samples\n",
    "list(cirq.get_state_histogram(samples))\n",
    "\n",
    "prob_sum = sum(percentages[i] for i in random_sample)"
   ]
  },
  {
   "cell_type": "code",
   "execution_count": 107,
   "id": "5cfdf2de-067d-4f0e-8994-f538f29a76d8",
   "metadata": {},
   "outputs": [
    {
     "name": "stdout",
     "output_type": "stream",
     "text": [
      "29.7\n",
      "31.4\n",
      "32.300000000000004\n",
      "32.599999999999994\n",
      "32.599999999999994\n",
      "35.699999999999996\n",
      "38.7\n",
      "40.3\n",
      "42.4\n",
      "44.099999999999994\n",
      "45.1\n",
      "45.400000000000006\n",
      "46.1\n",
      "48.800000000000004\n",
      "51.50000000000001\n",
      "56.099999999999994\n",
      "58.0\n",
      "60.0\n",
      "61.70000000000001\n",
      "62.60000000000001\n",
      "64.5\n",
      "65.1\n",
      "65.89999999999999\n",
      "71.30000000000001\n",
      "72.10000000000001\n",
      "72.39999999999999\n",
      "78.2\n",
      "78.7\n",
      "79.5\n",
      "79.7\n",
      "80.9\n",
      "83.8\n",
      "83.9\n",
      "87.0\n",
      "87.1\n",
      "88.4\n",
      "88.5\n",
      "89.49999999999999\n",
      "89.7\n",
      "90.79999999999998\n",
      "91.10000000000001\n",
      "91.2\n",
      "92.7\n",
      "93.7\n",
      "94.39999999999999\n",
      "95.3\n",
      "95.5\n",
      "95.80000000000001\n",
      "96.10000000000001\n",
      "97.10000000000001\n",
      "97.7\n",
      "97.9\n",
      "97.9\n",
      "98.0\n",
      "98.8\n",
      "98.8\n",
      "99.0\n",
      "99.1\n",
      "99.1\n",
      "99.4\n",
      "99.4\n",
      "99.5\n",
      "99.6\n",
      "99.8\n",
      "99.9\n",
      "99.9\n",
      "99.9\n",
      "DONE\n"
     ]
    }
   ],
   "source": [
    "for i in range(numIts):\n",
    "    \n",
    "    if(prob_sum >= prev_prob_sum):\n",
    "        # accept the change and run again\n",
    "        print(prob_sum)\n",
    "        iterations.append(i)\n",
    "        accuracy.append(prob_sum)\n",
    "        prev_prob_sum = prob_sum\n",
    "        exponents = [exponents[ii] + updates[ii] for ii in range(numExponents)]   \n",
    "    #else:\n",
    "        # do not accept the change and run again\n",
    "        \n",
    "    # update exponents by a small step randomly\n",
    "    updates = [random.random()/10 - 0.05 for _ in range(len(exponents))]\n",
    "\n",
    "    circuit = build_monster_grover([exponents[ii] + updates[ii] \n",
    "                                    for ii in range(numExponents)], nDiffuse, measure=True)\n",
    "    s = cirq.Simulator()\n",
    "    samples = s.run(circuit, repetitions = numRepititions)\n",
    "    \n",
    "    # get the numbers in the range of the samples\n",
    "    counts = cirq.get_state_histogram(samples)\n",
    "    percentages = counts/numRepititions * 100\n",
    "    \n",
    "    prob_sum = sum(percentages[i] for i in random_sample)\n",
    "    \n",
    "print(\"DONE\")"
   ]
  },
  {
   "cell_type": "code",
   "execution_count": 108,
   "id": "235c8306-c0cd-4e34-a541-65706bb6fc19",
   "metadata": {},
   "outputs": [
    {
     "data": {
      "text/plain": [
       "Text(0.5, 1.0, 'Convergence to desired subspace')"
      ]
     },
     "execution_count": 108,
     "metadata": {},
     "output_type": "execute_result"
    },
    {
     "data": {
      "image/png": "[encoded data removed]",
      "text/plain": [
       "<Figure size 432x288 with 1 Axes>"
      ]
     },
     "metadata": {
      "needs_background": "light"
     },
     "output_type": "display_data"
    }
   ],
   "source": [
    "plt.plot(iterations, accuracy)\n",
    "plt.xlabel('Number of iterations')\n",
    "plt.ylabel('Percentage of subspace overlap')\n",
    "plt.title('Convergence to desired subspace')"
   ]
  },
  {
   "cell_type": "code",
   "execution_count": 109,
   "id": "f79b860b-5fda-4811-8bd2-9de2c5a56a24",
   "metadata": {},
   "outputs": [
    {
     "name": "stdout",
     "output_type": "stream",
     "text": [
      "[0.681495351359537, 0.10241779472619479, 0.2134144517002437, 0.2087195375476983, 0.06566342100520606, -0.3070028283595339, 0.3016605357615914, -0.07151914867947835, -0.21964495452244107, -0.22746105773643935, -0.10437174282574108, 0.3172635078137357]\n"
     ]
    }
   ],
   "source": [
    "print(exponents)"
   ]
  },
  {
   "cell_type": "code",
   "execution_count": 110,
   "id": "3c668c10-dec1-438e-884c-1d0075c7dcf9",
   "metadata": {},
   "outputs": [
    {
     "data": {
      "text/plain": [
       "<AxesSubplot: title={'center': 'Result State Histogram'}, xlabel='qubit state', ylabel='result count'>"
      ]
     },
     "execution_count": 110,
     "metadata": {},
     "output_type": "execute_result"
    },
    {
     "data": {
      "image/png": "[encoded data removed]",
      "text/plain": [
       "<Figure size 432x288 with 1 Axes>"
      ]
     },
     "metadata": {
      "needs_background": "light"
     },
     "output_type": "display_data"
    }
   ],
   "source": [
    "circuit = build_monster_grover(exponents, nDiffuse, measure=True)\n",
    "s = cirq.Simulator()\n",
    "samples = s.run(circuit, repetitions = numRepititions)\n",
    "\n",
    "# get the numbers in the range of the samples\n",
    "list(cirq.get_state_histogram(samples))\n",
    "cirq.plot_state_histogram(samples, plt.subplot())"
   ]
  }
 ],
 "metadata": {
  "kernelspec": {
   "display_name": "Python 3 [Default]",
   "language": "python",
   "name": "python3"
  },
  "language_info": {
   "codemirror_mode": {
    "name": "ipython",
    "version": 3
   },
   "file_extension": ".py",
   "mimetype": "text/x-python",
   "name": "python",
   "nbconvert_exporter": "python",
   "pygments_lexer": "ipython3",
   "version": "3.9.10"
  }
 },
 "nbformat": 4,
 "nbformat_minor": 5
}
