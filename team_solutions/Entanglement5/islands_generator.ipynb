{
 "cells": [
  {
   "cell_type": "code",
   "execution_count": 161,
   "id": "3cd2f428-d888-4d08-96e8-9ed52cc81dbc",
   "metadata": {},
   "outputs": [],
   "source": [
    "def addIslands(background, island_images, island_coords): \n",
    "    island_coords = getIslandCoords(background, island_images)\n",
    "    for i in range(len(island_images)): \n",
    "        Image.Image.paste(background, island_images[i], island_coords[i])\n",
    "\n",
    "def getIslandCoords(background, island_images):\n",
    "    image_num = len(island_images)\n",
    "    island_coords = []\n",
    "    resize_width = background.width/image_num\n",
    "    for i in range(image_num): \n",
    "        multiplier = (1)/(image_num*2)+i*(1)/(image_num)\n",
    "        [center_width, center_height] = [background.width*multiplier, background.height/2]\n",
    "        resize_height = island_images[i].height*resize_width/island_images[i].width\n",
    "        island_images[i] = island_images[i].resize((int(resize_width),int(resize_height)))\n",
    "        island_coords.append((int(center_width - island_images[i].width/2), int(center_height-island_images[i].height/2)))\n",
    "    return island_coords\n",
    "\n",
    "from PIL import Image\n",
    "background = Image.open(\"ocean.png\")\n",
    "island1 = Image.open(\"island1test.png\")\n",
    "island2 = Image.open(\"island2test.png\")\n",
    "island3 = Image.open(\"island3test.png\")\n",
    "island_images = [island1, island2]\n",
    "\n",
    "addIslands(background, island_images, island_coords)\n",
    "background.save(\"background_with_islands.png\")"
   ]
  }
 ],
 "metadata": {
  "kernelspec": {
   "display_name": "Python 3",
   "language": "python",
   "name": "python3"
  },
  "language_info": {
   "codemirror_mode": {
    "name": "ipython",
    "version": 3
   },
   "file_extension": ".py",
   "mimetype": "text/x-python",
   "name": "python",
   "nbconvert_exporter": "python",
   "pygments_lexer": "ipython3",
   "version": "3.7.0"
  }
 },
 "nbformat": 4,
 "nbformat_minor": 5
}
