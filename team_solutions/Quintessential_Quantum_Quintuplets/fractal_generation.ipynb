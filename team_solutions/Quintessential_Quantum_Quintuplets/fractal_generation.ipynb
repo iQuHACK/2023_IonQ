{
 "cells": [
  {
   "cell_type": "markdown",
   "id": "45616390-97b5-46d8-94b9-0f060ffcf4c4",
   "metadata": {
    "tags": []
   },
   "source": [
    "# Fractal Generation"
   ]
  },
  {
   "cell_type": "code",
   "execution_count": 1,
   "id": "25795e1f-12e9-4009-a6a2-cb27adfcaaef",
   "metadata": {},
   "outputs": [],
   "source": [
    "# import packages\n",
    "from qiskit import QuantumCircuit, QuantumRegister, ClassicalRegister, execute\n",
    "from qiskit.visualization import plot_histogram\n",
    "from qiskit_ionq import IonQProvider\n",
    "\n",
    "# IONQ API\n",
    "token = 'rwLjV4pRx8bY8RTw5HqEYwbIkdYCK0M4'\n",
    "provider = IonQProvider(token)"
   ]
  },
  {
   "cell_type": "code",
   "execution_count": 2,
   "id": "c0786b2f-2c49-4685-9a3b-6b179b5347ce",
   "metadata": {},
   "outputs": [
    {
     "data": {
      "text/plain": [
       "[<IonQSimulatorBackend('ionq_simulator')>, <IonQQPUBackend('ionq_qpu')>]"
      ]
     },
     "execution_count": 2,
     "metadata": {},
     "output_type": "execute_result"
    }
   ],
   "source": [
    "provider.backends()"
   ]
  },
  {
   "cell_type": "code",
   "execution_count": 3,
   "id": "cfb19d89-f9b9-456c-a0fd-32b97c16e09c",
   "metadata": {},
   "outputs": [],
   "source": [
    "# load backend by using the get_backend method\n",
    "backend = provider.get_backend(\"ionq_simulator\")"
   ]
  },
  {
   "cell_type": "code",
   "execution_count": 4,
   "id": "120a2864-c639-47bc-9dba-650e3a2b11cb",
   "metadata": {},
   "outputs": [],
   "source": [
    "# Image Packages\n",
    "import numpy as np\n",
    "from PIL import Image\n",
    "import math"
   ]
  },
  {
   "cell_type": "code",
   "execution_count": 5,
   "id": "4799cdb9-172a-4967-bd11-abf093a1c5cb",
   "metadata": {},
   "outputs": [
    {
     "name": "stdout",
     "output_type": "stream",
     "text": [
      "(8, 8)\n",
      "L\n"
     ]
    }
   ],
   "source": [
    "# Open the Image and Convert to Grayscale\n",
    "image = Image.open('taiji.png').convert('L')\n",
    "\n",
    "# summarize some details about the image\n",
    "print(image.size)\n",
    "print(image.mode)"
   ]
  },
  {
   "cell_type": "code",
   "execution_count": 6,
   "id": "f4a3b21e-76e2-4af2-b75b-6783ba6119be",
   "metadata": {},
   "outputs": [
    {
     "name": "stdout",
     "output_type": "stream",
     "text": [
      "[  0 255   0   0]\n"
     ]
    }
   ],
   "source": [
    "# Flatten so that we can convert to qubits naturally\n",
    "img = np.asarray(image).flatten()\n",
    "# img = np.array([0, 255, 0, 0])\n",
    "print(img)"
   ]
  },
  {
   "cell_type": "code",
   "execution_count": 7,
   "id": "cd5eb297-ff91-4a37-99c8-d2554655bbac",
   "metadata": {},
   "outputs": [],
   "source": [
    "# FRQI Representation\n",
    "\n",
    "dim = math.ceil(np.log2(img.shape[0])) + 1\n",
    "\n",
    "q = QuantumRegister(dim, 'q')\n",
    "qc = QuantumCircuit(q)\n",
    "\n",
    "for n in range(dim - 1):\n",
    "    qc.h(n)\n",
    "\n",
    "qc.barrier()\n",
    "\n",
    "s = 0\n",
    "prev = ['0'] * (dim - 1)\n",
    "for num in range(img.shape[0]):\n",
    "    s = bin(num)\n",
    "    s = list(s[2:].zfill(dim - 1))\n",
    "    for i in range(dim - 1):\n",
    "        if s[i] != prev[i]:\n",
    "            qc.x(i)\n",
    "    # print(s)\n",
    "    prev = s\n",
    "    qc.mcry((img[num] / 255 - 0.5) * 2 * np.pi, [i for i in range(dim-1)], dim-1)\n",
    "\n",
    "# qc.draw()"
   ]
  },
  {
   "cell_type": "code",
   "execution_count": 8,
   "id": "d00ae8db-aee2-4417-a867-1877015ae917",
   "metadata": {},
   "outputs": [],
   "source": [
    "# import qiskit as qk\n",
    "# from qiskit import QuantumCircuit, Aer, IBMQ\n",
    "# from qiskit import transpile, assemble\n",
    "# from qiskit.tools.jupyter import *\n",
    "# from qiskit.visualization import plot_histogram\n",
    "# from math import pi\n",
    "\n",
    "# qc.measure_all()\n",
    "\n",
    "# aer_sim = Aer.get_backend('aer_simulator')\n",
    "# t_qc = transpile(qc, aer_sim)\n",
    "# qobj = assemble(t_qc, shots=4096)\n",
    "# result = aer_sim.run(qobj).result()\n",
    "# counts = result.get_counts(qc)\n",
    "# print(counts)\n",
    "# plot_histogram(counts)"
   ]
  },
  {
   "cell_type": "code",
   "execution_count": 9,
   "id": "f54942ad-5cd5-44e9-b19e-464653ae5796",
   "metadata": {},
   "outputs": [],
   "source": [
    "# Quantum Fourier Transform (QFT) implementation from Qiskit\n",
    "\n",
    "def qft_rotations(circuit, n):\n",
    "    \"\"\"Performs qft on the first n qubits in circuit (without swaps)\"\"\"\n",
    "    if n == 0:\n",
    "        return circuit\n",
    "    n -= 1\n",
    "    circuit.h(n)\n",
    "    for qubit in range(n):\n",
    "        circuit.cp(np.pi/2**(n-qubit), qubit, n)\n",
    "    # At the end of our function, we call the same function again on\n",
    "    # the next qubits (we reduced n by one earlier in the function)\n",
    "    qft_rotations(circuit, n)\n",
    "    \n",
    "def swap_registers(circuit, n):\n",
    "    for qubit in range(n//2):\n",
    "        circuit.swap(qubit, n-qubit-1)\n",
    "    return circuit\n",
    "\n",
    "def qft(circuit, n):\n",
    "    \"\"\"QFT on the first n qubits in circuit\"\"\"\n",
    "    qft_rotations(circuit, n)\n",
    "    swap_registers(circuit, n)\n",
    "    return circuit"
   ]
  },
  {
   "cell_type": "code",
   "execution_count": 10,
   "id": "93bee78e-7aa7-44a5-a37c-374031d76fe3",
   "metadata": {},
   "outputs": [
    {
     "data": {
      "text/plain": [
       "<qiskit.circuit.quantumcircuit.QuantumCircuit at 0x7f4990f6e0d0>"
      ]
     },
     "execution_count": 10,
     "metadata": {},
     "output_type": "execute_result"
    }
   ],
   "source": [
    "# Apply the QFT on the image representation\n",
    "qft(qc, dim)\n",
    "# qc.draw()"
   ]
  },
  {
   "cell_type": "code",
   "execution_count": 11,
   "id": "a011f5c5-7c27-40f5-9d4f-170b47d5f165",
   "metadata": {},
   "outputs": [
    {
     "name": "stdout",
     "output_type": "stream",
     "text": [
      "{'0': 116, '1': 38, '10': 126, '11': 222, '100': 121, '101': 232, '110': 133, '111': 36}\n"
     ]
    },
    {
     "data": {
      "image/png": "[encoded data removed]",
      "text/plain": [
       "<Figure size 504x360 with 1 Axes>"
      ]
     },
     "execution_count": 11,
     "metadata": {},
     "output_type": "execute_result"
    }
   ],
   "source": [
    "# Measure in two bases to get probability amplitudes\n",
    "\n",
    "shotno=1024\n",
    "qc_copy = qc.copy()\n",
    "\n",
    "# measure in computational basis\n",
    "job_ionq_z = execute(qc_copy, backend, shots=shotno)\n",
    "resultqc_z = job_ionq_z.result()\n",
    "counts_z = resultqc_z.get_counts(qc_copy)\n",
    "# print(counts_z)\n",
    "plot_histogram(counts_z)\n",
    "\n",
    "# measure in x basis\n",
    "for i in range(dim):\n",
    "    qc_copy.h(i)\n",
    "job_ionq_x = execute(qc, backend, shots=shotno)\n",
    "resultqc_x = job_ionq_x.result()\n",
    "counts_x = resultqc_x.get_counts(qc_copy)\n",
    "# print(counts_x)\n",
    "plot_histogram(counts_x)"
   ]
  },
  {
   "cell_type": "code",
   "execution_count": 12,
   "id": "759688f3-c5a8-4b7d-b356-7c25481e46b5",
   "metadata": {},
   "outputs": [],
   "source": [
    "# Convert the amplitudes to complex numbers\n",
    "\n",
    "probz = {}\n",
    "probx = {}\n",
    "\n",
    "for num in range(img.shape[0]):\n",
    "    s = bin(num)[2:]\n",
    "    if s not in counts_z:\n",
    "        probz[s] = 0\n",
    "    else:\n",
    "        probz[s] = counts_z[s] / shotno\n",
    "        \n",
    "    if s not in counts_x:\n",
    "        probx[s] = 0\n",
    "    else:\n",
    "        probx[s] = counts_x[s] / shotno\n",
    "\n",
    "amps = {}\n",
    "for key in probz:\n",
    "    amps[key] = np.sqrt(probz[key]) + np.sqrt(probz[key] * 1j)"
   ]
  },
  {
   "cell_type": "code",
   "execution_count": 13,
   "id": "1041a011-2e51-455b-b425-fb22cf7a49db",
   "metadata": {},
   "outputs": [
    {
     "name": "stdout",
     "output_type": "stream",
     "text": [
      "{'0': (0.5745657100041537+0.23799290955824715j), '1': (0.32885352957842656+0.13621559198564606j), '10': (0.5988195654223624+0.24803918541230538j), '11': (0.7948536930813774+0.32923917977664807j)}\n"
     ]
    }
   ],
   "source": [
    "print(amps)"
   ]
  },
  {
   "cell_type": "code",
   "execution_count": 14,
   "id": "95e1718d-d1a6-4764-a8b3-cbdf0dbb5583",
   "metadata": {},
   "outputs": [
    {
     "name": "stdout",
     "output_type": "stream",
     "text": [
      "[-0.7333333333333334, 0.41176470588235303]\n"
     ]
    }
   ],
   "source": [
    "# Randomly generate a complex offset\n",
    "\n",
    "qc2 = QuantumCircuit(8)\n",
    "\n",
    "for i in range(8):\n",
    "    qc2.h(i)\n",
    "    \n",
    "qc2.measure_all()\n",
    "\n",
    "numbers = []\n",
    "\n",
    "for i in range(2):\n",
    "    # measure in computational basis\n",
    "    job_ionq = execute(qc2, backend, memory=True, shots=1)\n",
    "    resultqc = job_ionq.result()\n",
    "    counts = resultqc.get_counts(qc2)\n",
    "    for key in counts:\n",
    "        if counts[key] == 1:\n",
    "            numbers.append(int(key, 2) / 255 * 2 - 1)\n",
    "            \n",
    "print(numbers)"
   ]
  },
  {
   "cell_type": "code",
   "execution_count": 16,
   "id": "c725a837-e0b3-4559-b84a-860cd7f8b1d2",
   "metadata": {},
   "outputs": [
    {
     "name": "stdout",
     "output_type": "stream",
     "text": [
      "c=  (-0.7333333333333334+0.41176470588235303j)\n"
     ]
    },
    {
     "name": "stderr",
     "output_type": "stream",
     "text": [
      "100%|██████████| 50/50 [02:24<00:00,  2.90s/it]\n",
      "MovieWriter imagemagick unavailable; using Pillow instead.\n"
     ]
    }
   ],
   "source": [
    "# Generate an animation for a Julia fractal\n",
    "\n",
    "import matplotlib.pyplot as plt\n",
    "import matplotlib.image as mpimg\n",
    "from celluloid import Camera\n",
    "import tqdm\n",
    "\n",
    "c = numbers[0] + numbers[1] * 1j\n",
    "\n",
    "print(\"c= \",c)\n",
    "\n",
    "# Define the size\n",
    "size = 1000\n",
    "heightsize = size\n",
    "widthsize = size\n",
    "\n",
    "def julia_set(c=c, height=heightsize, width=widthsize, x=0, y=0, zoom=1, max_iterations=100):\n",
    "    # To make navigation easier we calculate these values\n",
    "    x_width = 1.5\n",
    "    y_height = 1.5*height / width\n",
    "    x_from = x - x_width / zoom\n",
    "    x_to = x + x_width / zoom\n",
    "    y_from = y - y_height / zoom\n",
    "    y_to = y + y_height / zoom\n",
    "    \n",
    "    # Here the actual algorithm starts and the z paramter is defined for the Julia set function\n",
    "    x = np.linspace(x_from, x_to, width).reshape((1, width))\n",
    "    y = np.linspace(y_from, y_to, height).reshape((height, 1))\n",
    "    z = x + 1j * y\n",
    "    \n",
    "    # Initialize c to the complex number obtained from the quantum circuit\n",
    "    c = np.full(z.shape, c)\n",
    "\n",
    "    # To keep track in which iteration the point diverged\n",
    "    div_time = np.zeros(z.shape, dtype=int)\n",
    "    \n",
    "    # To keep track on which points did not converge so far\n",
    "    m = np.full(c.shape, True, dtype=bool)\n",
    "    \n",
    "    for key in amps:\n",
    "        amps[key] = np.full(z.shape, amps[key])\n",
    "    \n",
    "    for i in range(max_iterations):\n",
    "        num = z[m]**4 + sum([amps[bin(num)[2:]][m] * z[m] ** ((num // 2)  % 4) for num in range(img.shape[0], 2)])\n",
    "        den = z[m]**4 + sum([amps[bin(num)[2:]][m] * z[m] ** (((num - 1) // 2) % 4) for num in range(1, img.shape[0], 2)])\n",
    "        # print(num.shape)\n",
    "        # print(den.shape)\n",
    "        z[m] = num / den + c[m]\n",
    "        m[np.abs(z) > 2] = False\n",
    "        div_time[m] = i\n",
    "    # print(div_time.max())\n",
    "    # print(div_time.min())\n",
    "    return div_time\n",
    "\n",
    "\n",
    "fig, ax = plt.subplots(1, 1) \n",
    "camera = Camera(fig)\n",
    "def color(data, i):\n",
    "    normalizedData = (data - np.min(data)) / (np.max(data) - np.min(data))\n",
    "    normi = i / frameno\n",
    "    # print(data.shape)\n",
    "    rgb = np.zeros((data.shape[0], data.shape[1], 3))\n",
    "    r = normalizedData*normi\n",
    "    b = (1 - normi)*normalizedData\n",
    "    # print(r,b)\n",
    "    rgb[:,:,0] = r#np.full(rgb[:,:,1].shape, 0)\n",
    "    rgb[:,:,1] = np.full(rgb[:,:,1].shape, 0)\n",
    "    rgb[:,:,2] = b#normalizedData\n",
    "    return rgb\n",
    "\n",
    "frameno = 50\n",
    "for i in tqdm.tqdm(range(frameno)):\n",
    "    ax.imshow(color(julia_set(c=c), i))\n",
    "    ax.axis('off')\n",
    "    camera.snap()\n",
    "    plt.close()\n",
    "    c += 0.03 + 0.03j\n",
    "    \n",
    "anim = camera.animate(blit=True)\n",
    "anim.save('1qubit_simulator_4animations_H_2' + str(frameno) + ' steps c=' + str(c) + '.gif', writer='imagemagick')"
   ]
  },
  {
   "cell_type": "code",
   "execution_count": null,
   "id": "2003d944-f6e4-4dac-a5bb-0265d66abc43",
   "metadata": {},
   "outputs": [],
   "source": []
  }
 ],
 "metadata": {
  "kernelspec": {
   "display_name": "Python 3 [IonQ]",
   "language": "python",
   "name": "python3_ionq_6vdluz"
  },
  "language_info": {
   "codemirror_mode": {
    "name": "ipython",
    "version": 3
   },
   "file_extension": ".py",
   "mimetype": "text/x-python",
   "name": "python",
   "nbconvert_exporter": "python",
   "pygments_lexer": "ipython3",
   "version": "3.9.10"
  }
 },
 "nbformat": 4,
 "nbformat_minor": 5
}
