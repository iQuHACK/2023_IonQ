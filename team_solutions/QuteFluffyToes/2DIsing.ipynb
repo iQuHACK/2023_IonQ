{
 "cells": [
  {
   "cell_type": "code",
   "execution_count": 1,
   "id": "41408c1a",
   "metadata": {},
   "outputs": [],
   "source": [
    "import sys\n",
    "import os\n",
    "import csv"
   ]
  },
  {
   "cell_type": "code",
   "execution_count": 2,
   "id": "20cdc1ea",
   "metadata": {},
   "outputs": [],
   "source": [
    "import numpy as np\n",
    "import matplotlib.pyplot as plt"
   ]
  },
  {
   "cell_type": "code",
   "execution_count": 3,
   "id": "8a0c85ed",
   "metadata": {},
   "outputs": [
    {
     "name": "stdout",
     "output_type": "stream",
     "text": [
      "[Taichi] version 1.4.0, llvm 15.0.4, commit fbe92fd8, linux, python 3.10.9\n",
      "[I 01/29/23 06:44:30.883 20031] [shell.py:_shell_pop_print@23] Graphical python shell detected, using wrapped sys.stdout\n",
      "[Taichi] Starting on arch=x64\n"
     ]
    }
   ],
   "source": [
    "import taichi as ti\n",
    "ti.init(arch=ti.cpu, random_seed=42)"
   ]
  },
  {
   "cell_type": "code",
   "execution_count": 4,
   "id": "975f5a93",
   "metadata": {},
   "outputs": [],
   "source": [
    "from ising_2d import spin_config, monte_carlo_dynamics"
   ]
  },
  {
   "cell_type": "code",
   "execution_count": 5,
   "id": "17d54e21",
   "metadata": {},
   "outputs": [],
   "source": [
    "def mc_sample(lx, ly, k, h=0) :\n",
    "    ising_field = spin_config.IsingField(lx, ly)\n",
    "    ising_field.field_init()\n",
    "    mc_obj = monte_carlo_dynamics.MonteCarloDynamics(ising_field)\n",
    "\n",
    "    mag_temp0 = 200000.0\n",
    "    for iter_time in range(ly * lx):\n",
    "        mc_obj.dynamics(k=k, h=h)\n",
    "        if iter_time % 10 == 0:\n",
    "            mag_temp1 = ising_field.mag_py()\n",
    "            if abs(mag_temp0 - mag_temp1) < 0.001:\n",
    "                break\n",
    "            else:\n",
    "                mag_temp0 = mag_temp1\n",
    "\n",
    "    ising_field.off_set()\n",
    "    return ising_field.spin_img.to_numpy()"
   ]
  },
  {
   "cell_type": "code",
   "execution_count": 6,
   "id": "d082cd6a",
   "metadata": {},
   "outputs": [],
   "source": [
    "def proxy_loss(spin_glass) :\n",
    "    dx = np.roll(spin_glass, 1, 0)-spin_glass\n",
    "    dy = np.roll(spin_glass, 1, 1)-spin_glass\n",
    "    return (np.sum(dx**2 + dy**2))/2"
   ]
  },
  {
   "cell_type": "code",
   "execution_count": 24,
   "id": "929f745a",
   "metadata": {},
   "outputs": [
    {
     "data": {
      "text/plain": [
       "<matplotlib.image.AxesImage at 0x7f3cba4042e0>"
      ]
     },
     "execution_count": 24,
     "metadata": {},
     "output_type": "execute_result"
    },
    {
     "data": {
      "image/png": "[encoded data removed]",
      "text/plain": [
       "<Figure size 432x288 with 1 Axes>"
      ]
     },
     "metadata": {
      "needs_background": "light"
     },
     "output_type": "display_data"
    }
   ],
   "source": [
    "L = 16\n",
    "sample = mc_sample(L, L, 0.3)\n",
    "normalized_sample = sample / np.sqrt(np.sum(sample**2))\n",
    "plt.imshow(normalized_sample)"
   ]
  },
  {
   "cell_type": "code",
   "execution_count": null,
   "id": "9562286d",
   "metadata": {},
   "outputs": [],
   "source": []
  },
  {
   "cell_type": "code",
   "execution_count": 8,
   "id": "952aa200",
   "metadata": {},
   "outputs": [
    {
     "name": "stdout",
     "output_type": "stream",
     "text": [
      "0.05\n",
      "0.09444444444444444\n",
      "0.1388888888888889\n",
      "0.18333333333333335\n",
      "0.2277777777777778\n",
      "0.27222222222222225\n",
      "0.31666666666666665\n",
      "0.3611111111111111\n",
      "0.40555555555555556\n",
      "0.45\n"
     ]
    }
   ],
   "source": [
    "data = []\n",
    "means = []\n",
    "kappas = np.linspace(0.05, 0.45, 10)\n",
    "for k in kappas :\n",
    "    print(k)\n",
    "    num_samples = 50\n",
    "    bucket = []\n",
    "    for i in range(num_samples) :\n",
    "        sample = mc_sample(L, L, k)\n",
    "        normalized_sample = sample / np.sqrt(np.sum(sample**2))\n",
    "        prxl   = proxy_loss(normalized_sample)\n",
    "        bucket.append(prxl)\n",
    "    data.append(bucket)\n",
    "    means.append(np.mean(bucket))"
   ]
  },
  {
   "cell_type": "code",
   "execution_count": 9,
   "id": "5e9a2459",
   "metadata": {},
   "outputs": [],
   "source": [
    "stds = [np.std(bucket) for bucket in data]"
   ]
  },
  {
   "cell_type": "code",
   "execution_count": 10,
   "id": "e78f732d",
   "metadata": {},
   "outputs": [
    {
     "data": {
      "text/plain": [
       "[<matplotlib.lines.Line2D at 0x7f3d08554ac0>]"
      ]
     },
     "execution_count": 10,
     "metadata": {},
     "output_type": "execute_result"
    },
    {
     "data": {
      "image/png": "[encoded data removed]",
      "text/plain": [
       "<Figure size 432x288 with 1 Axes>"
      ]
     },
     "metadata": {
      "needs_background": "light"
     },
     "output_type": "display_data"
    }
   ],
   "source": [
    "plt.plot(kappas, means)"
   ]
  },
  {
   "cell_type": "code",
   "execution_count": 11,
   "id": "39ae9204",
   "metadata": {},
   "outputs": [
    {
     "data": {
      "text/plain": [
       "[<matplotlib.lines.Line2D at 0x7f3cbbaec5b0>]"
      ]
     },
     "execution_count": 11,
     "metadata": {},
     "output_type": "execute_result"
    },
    {
     "data": {
      "image/png": "[encoded data removed]",
      "text/plain": [
       "<Figure size 432x288 with 1 Axes>"
      ]
     },
     "metadata": {
      "needs_background": "light"
     },
     "output_type": "display_data"
    }
   ],
   "source": [
    "plt.plot(kappas, stds)"
   ]
  },
  {
   "cell_type": "code",
   "execution_count": 21,
   "id": "b2eb7906",
   "metadata": {},
   "outputs": [
    {
     "name": "stdout",
     "output_type": "stream",
     "text": [
      "{'kappas': array([0.05      , 0.09444444, 0.13888889, 0.18333333, 0.22777778,\n",
      "       0.27222222, 0.31666667, 0.36111111, 0.40555556, 0.45      ]), 'means': [0.9581977105140687, 0.9020747089385986, 0.8743394351005555, 0.8113537323474884, 0.7445275354385376, 0.7039586758613586, 0.6265425270795822, 0.5875770354270935, 0.5138944089412689, 0.5828443007171153]}\n"
     ]
    }
   ],
   "source": [
    "print({\"kappas\": kappas, \"means\": means})"
   ]
  },
  {
   "cell_type": "code",
   "execution_count": null,
   "id": "a59e911a",
   "metadata": {},
   "outputs": [],
   "source": []
  }
 ],
 "metadata": {
  "kernelspec": {
   "display_name": "Quantum",
   "language": "python",
   "name": "qq"
  },
  "language_info": {
   "codemirror_mode": {
    "name": "ipython",
    "version": 3
   },
   "file_extension": ".py",
   "mimetype": "text/x-python",
   "name": "python",
   "nbconvert_exporter": "python",
   "pygments_lexer": "ipython3",
   "version": "3.10.9"
  }
 },
 "nbformat": 4,
 "nbformat_minor": 5
}
