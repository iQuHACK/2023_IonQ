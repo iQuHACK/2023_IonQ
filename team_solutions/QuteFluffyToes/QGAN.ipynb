{
 "cells": [
  {
   "cell_type": "markdown",
   "id": "e8b64997",
   "metadata": {},
   "source": [
    "The generative model is adapted from here :\n",
    "https://pennylane.ai/qml/demos/tutorial_quantum_gans.html"
   ]
  },
  {
   "cell_type": "code",
   "execution_count": 1,
   "id": "88cc61a5",
   "metadata": {},
   "outputs": [],
   "source": [
    "# Library imports\n",
    "import math\n",
    "import random\n",
    "import numpy as np\n",
    "import pandas as pd\n",
    "import matplotlib.pyplot as plt\n",
    "import matplotlib.gridspec as gridspec\n",
    "import pennylane as qml"
   ]
  },
  {
   "cell_type": "code",
   "execution_count": 2,
   "id": "5b7bf946",
   "metadata": {},
   "outputs": [
    {
     "name": "stderr",
     "output_type": "stream",
     "text": [
      "/home/noob/.pyenvs/qq/lib/python3.10/site-packages/requests/__init__.py:102: RequestsDependencyWarning: urllib3 (1.26.9) or chardet (5.1.0)/charset_normalizer (2.0.12) doesn't match a supported version!\n",
      "  warnings.warn(\"urllib3 ({}) or chardet ({})/charset_normalizer ({}) doesn't match a supported \"\n"
     ]
    }
   ],
   "source": [
    "# Pytorch imports\n",
    "import torch\n",
    "import torch.nn as nn\n",
    "import torch.optim as optim\n",
    "import torchvision\n",
    "import torchvision.transforms as transforms\n",
    "from torch.utils.data import Dataset, DataLoader\n",
    "\n",
    "# Set the random seed for reproducibility\n",
    "seed = 42\n",
    "torch.manual_seed(seed)\n",
    "np.random.seed(seed)\n",
    "random.seed(seed)"
   ]
  },
  {
   "cell_type": "code",
   "execution_count": 3,
   "id": "fe6d423a",
   "metadata": {},
   "outputs": [
    {
     "name": "stdout",
     "output_type": "stream",
     "text": [
      "[Taichi] version 1.4.0, llvm 15.0.4, commit fbe92fd8, linux, python 3.10.9\n",
      "[I 01/29/23 09:16:54.541 24152] [shell.py:_shell_pop_print@23] Graphical python shell detected, using wrapped sys.stdout\n",
      "[Taichi] Starting on arch=x64\n"
     ]
    }
   ],
   "source": [
    "import taichi as ti\n",
    "ti.init(arch=ti.cpu, random_seed=42)"
   ]
  },
  {
   "cell_type": "code",
   "execution_count": 4,
   "id": "6f459a15",
   "metadata": {},
   "outputs": [],
   "source": [
    "from ising_2d import spin_config, monte_carlo_dynamics"
   ]
  },
  {
   "cell_type": "code",
   "execution_count": 5,
   "id": "f368f85e",
   "metadata": {},
   "outputs": [],
   "source": [
    "def mc_sample(lx, ly, k, h=0) :\n",
    "    ising_field = spin_config.IsingField(lx, ly)\n",
    "    ising_field.field_init()\n",
    "    mc_obj = monte_carlo_dynamics.MonteCarloDynamics(ising_field)\n",
    "\n",
    "    mag_temp0 = 200000.0\n",
    "    for iter_time in range(ly * lx):\n",
    "        mc_obj.dynamics(k=k, h=h)\n",
    "        if iter_time % 10 == 0:\n",
    "            mag_temp1 = ising_field.mag_py()\n",
    "            if abs(mag_temp0 - mag_temp1) < 0.001:\n",
    "                break\n",
    "            else:\n",
    "                mag_temp0 = mag_temp1\n",
    "\n",
    "    ising_field.off_set()\n",
    "    return ising_field.spin_img.to_numpy()\n",
    "\n",
    "def proxy_loss(spin_glass) :\n",
    "    dx = spin_glass.roll(1, 0)-spin_glass\n",
    "    sx = spin_glass.roll(1, 0)+spin_glass\n",
    "    sy = spin_glass.roll(1, 1)+spin_glass\n",
    "    dy = spin_glass.roll(1, 1)-spin_glass\n",
    "    good = ((dx*dx.conj()).sum() + (dy*dy.conj()).sum())\n",
    "    total = good + ((sx * sx.conj()).sum() + (sy * sy.conj()).sum())\n",
    "    return good / total"
   ]
  },
  {
   "cell_type": "code",
   "execution_count": 6,
   "id": "4bfb4d9f",
   "metadata": {},
   "outputs": [],
   "source": [
    "n_data_qubits = 8 # Total number of qubits / N\n",
    "n_param_qubits = 1  # Number of parameter qubits / N_P\n",
    "q_depth = 8  # Depth of the parameterised quantum circuit / D\n",
    "n_anc_qubits = 1  # Number of ancillary qubits / N_A"
   ]
  },
  {
   "cell_type": "code",
   "execution_count": 7,
   "id": "85c85a00",
   "metadata": {},
   "outputs": [],
   "source": [
    "# Quantum simulator\n",
    "dev = qml.device(\"lightning.qubit\", wires=n_data_qubits+n_param_qubits+n_anc_qubits)\n",
    "# Enable CUDA device if available\n",
    "device = torch.device(\"cuda:0\" if torch.cuda.is_available() else \"cpu\")"
   ]
  },
  {
   "cell_type": "code",
   "execution_count": 8,
   "id": "642c5808",
   "metadata": {},
   "outputs": [],
   "source": [
    "@qml.qnode(dev, interface=\"torch\", diff_method=\"parameter-shift\")\n",
    "def quantum_circuit(kappa, noise, weights):\n",
    "\n",
    "    # Store kappa in last qubit\n",
    "    qml.RY(math.acos(1-2*kappa), wires=n_data_qubits+n_anc_qubits+n_param_qubits-1)\n",
    "\n",
    "    weights = weights.reshape(q_depth, n_data_qubits+n_anc_qubits)\n",
    "\n",
    "    # Initialise latent vectors\n",
    "    for i in range(n_data_qubits+n_anc_qubits):\n",
    "        qml.RY(noise[i], wires=i)\n",
    "\n",
    "    # Repeated layer\n",
    "    for i in range(q_depth):\n",
    "        # Parameterised layer\n",
    "        for y in range(n_data_qubits+n_anc_qubits):\n",
    "            qml.RY(weights[i][y], wires=y)\n",
    "\n",
    "        # Control Z gates\n",
    "        for y in range(1,n_data_qubits+n_anc_qubits+n_param_qubits):\n",
    "            qml.CZ(wires=[y-1, y])\n",
    "\n",
    "    # Yank the observable for Hadamard-based edge detection from here :\n",
    "    # https://qiskit.org/textbook/ch-applications/quantum-edge-detection.html#Quantum-Hadamard-Edge-Detection-(QHED)\n",
    "    # And directly return qml.expval(M)\n",
    "    \n",
    "    return qml.state()\n",
    "\n",
    "\n",
    "# For further info on how the non-linear transform is implemented in Pennylane\n",
    "# https://discuss.pennylane.ai/t/ancillary-subsystem-measurement-then-trace-out/1532\n",
    "def partial_measure(kappa, noise, weights):\n",
    "    # Non-linear Transform\n",
    "    state = quantum_circuit(kappa, noise, weights)\n",
    "    partial_state = state[:2**(n_data_qubits)]\n",
    "\n",
    "    # Post-Processing\n",
    "    mass = torch.sqrt(torch.sum(partial_state * partial_state.conj()))\n",
    "    post_state = partial_state / mass\n",
    "\n",
    "    return post_state"
   ]
  },
  {
   "cell_type": "code",
   "execution_count": 9,
   "id": "410be3ca",
   "metadata": {},
   "outputs": [
    {
     "name": "stdout",
     "output_type": "stream",
     "text": [
      "{'kappas': array([0.05      , 0.09444444, 0.13888889, 0.18333333, 0.22777778,\r\n",
      "       0.27222222, 0.31666667, 0.36111111, 0.40555556, 0.45      ]), 'means': [0.9581977105140687, 0.9020747089385986, 0.8743394351005555, 0.8113537323474884, 0.7445275354385376, 0.7039586758613586, 0.6265425270795822, 0.5875770354270935, 0.5138944089412689, 0.5828443007171153]}\r\n"
     ]
    }
   ],
   "source": [
    "!cat profile.txt"
   ]
  },
  {
   "cell_type": "code",
   "execution_count": 10,
   "id": "32e6d451",
   "metadata": {},
   "outputs": [],
   "source": [
    "data = {'kappas': [0.05      , 0.09444444, 0.13888889, 0.18333333, 0.22777778,\n",
    "       0.27222222, 0.31666667, 0.36111111, 0.40555556, 0.45      ], 'means': [0.9581977105140687, 0.9020747089385986, 0.8743394351005555, 0.8113537323474884, 0.7445275354385376, 0.7039586758613586, 0.6265425270795822, 0.5875770354270935, 0.5138944089412689, 0.5828443007171153]}\n",
    "\n",
    "kappas = data['kappas']\n",
    "means  = data['means']"
   ]
  },
  {
   "cell_type": "code",
   "execution_count": null,
   "id": "e0e7f1d4",
   "metadata": {},
   "outputs": [],
   "source": []
  },
  {
   "cell_type": "code",
   "execution_count": 11,
   "id": "c62bc8e4",
   "metadata": {},
   "outputs": [
    {
     "data": {
      "text/plain": [
       "[<matplotlib.lines.Line2D at 0x7f3da0134c10>]"
      ]
     },
     "execution_count": 11,
     "metadata": {},
     "output_type": "execute_result"
    },
    {
     "data": {
      "image/png": "[encoded data removed]",
      "text/plain": [
       "<Figure size 432x288 with 1 Axes>"
      ]
     },
     "metadata": {
      "needs_background": "light"
     },
     "output_type": "display_data"
    }
   ],
   "source": [
    "def EnergyEstimate(kappa) :\n",
    "    # Approximate the profile by linear interpolation\n",
    "    for i, k in enumerate(kappas) :\n",
    "        if k > kappa : break\n",
    "    if i <= 0 : return 1\n",
    "    return means[i-1] + (means[i]-means[i-1]) * (kappa - kappas[i-1]) / (kappas[i] - kappas[i-1])\n",
    "\n",
    "xx = np.linspace(0.05, 0.4, 25)\n",
    "yy = [EnergyEstimate(x) for x in xx]\n",
    "plt.plot(xx, yy)"
   ]
  },
  {
   "cell_type": "code",
   "execution_count": null,
   "id": "bed6d56a",
   "metadata": {},
   "outputs": [],
   "source": []
  },
  {
   "cell_type": "code",
   "execution_count": 12,
   "id": "ec213818",
   "metadata": {},
   "outputs": [],
   "source": [
    "class QuantumGenerator(nn.Module):\n",
    "    \"\"\"Quantum generator class for the patch method\"\"\"\n",
    "\n",
    "    def __init__(self, q_delta=1):\n",
    "        \"\"\"\n",
    "        Args:\n",
    "            n_generators (int): Number of sub-generators to be used in the patch method.\n",
    "            q_delta (float, optional): Spread of the random distribution for parameter initialisation.\n",
    "        \"\"\"\n",
    "\n",
    "        super().__init__()\n",
    "\n",
    "        self.q_params = nn.ParameterList(\n",
    "            [\n",
    "                nn.Parameter(q_delta * torch.rand(q_depth * (n_data_qubits+n_anc_qubits)),\n",
    "                             requires_grad=True),\n",
    "            ])\n",
    "\n",
    "    def forward(self, k, z):\n",
    "        amplitudes = partial_measure(k, z, self.q_params[0])\n",
    "        image = torch.sqrt(amplitudes*amplitudes.conj())\n",
    "        image = image.reshape(16, 16)\n",
    "        return image"
   ]
  },
  {
   "cell_type": "code",
   "execution_count": 13,
   "id": "a2f05caa",
   "metadata": {},
   "outputs": [],
   "source": [
    "generator = QuantumGenerator().to(device)\n",
    "criterion = nn.MSELoss()\n",
    "\n",
    "lrG = 0.1\n",
    "num_iter = 1000\n",
    "\n",
    "optG = optim.SGD(generator.parameters(), lr=lrG)\n"
   ]
  },
  {
   "cell_type": "code",
   "execution_count": 14,
   "id": "d3b726f5",
   "metadata": {},
   "outputs": [],
   "source": [
    "kappa = np.random.uniform(0.05, 0.4)\n",
    "noise = torch.rand(n_data_qubits+n_anc_qubits, device=device) * math.pi / 2\n",
    "image = generator(kappa, noise)"
   ]
  },
  {
   "cell_type": "code",
   "execution_count": 15,
   "id": "061cc9c6",
   "metadata": {},
   "outputs": [
    {
     "name": "stdout",
     "output_type": "stream",
     "text": [
      "tensor(0.2218+0.j, dtype=torch.complex128, grad_fn=<DivBackward0>) 0.8145342895166228 tensor(0.3513-0.j, dtype=torch.complex128, grad_fn=<PowBackward0>)\n"
     ]
    }
   ],
   "source": [
    "a = proxy_loss(image)\n",
    "b = EnergyEstimate(kappa)\n",
    "c = (a-b)**2\n",
    "print(a, b, c)"
   ]
  },
  {
   "cell_type": "code",
   "execution_count": 16,
   "id": "3dc652b8",
   "metadata": {},
   "outputs": [
    {
     "ename": "ValueError",
     "evalue": "Computing the gradient of circuits that return the state is not supported.",
     "output_type": "error",
     "traceback": [
      "\u001b[0;31m---------------------------------------------------------------------------\u001b[0m",
      "\u001b[0;31mValueError\u001b[0m                                Traceback (most recent call last)",
      "Input \u001b[0;32mIn [16]\u001b[0m, in \u001b[0;36m<cell line: 1>\u001b[0;34m()\u001b[0m\n\u001b[1;32m      9\u001b[0m target \u001b[38;5;241m=\u001b[39m EnergyEstimate(kappa)\n\u001b[1;32m     11\u001b[0m mse \u001b[38;5;241m=\u001b[39m (loss \u001b[38;5;241m-\u001b[39m target) \u001b[38;5;241m*\u001b[39m\u001b[38;5;241m*\u001b[39m \u001b[38;5;241m2\u001b[39m\n\u001b[0;32m---> 12\u001b[0m \u001b[43mmse\u001b[49m\u001b[38;5;241;43m.\u001b[39;49m\u001b[43mbackward\u001b[49m\u001b[43m(\u001b[49m\u001b[43m)\u001b[49m\n\u001b[1;32m     14\u001b[0m optG\u001b[38;5;241m.\u001b[39mstep()\n",
      "File \u001b[0;32m~/.pyenvs/qq/lib/python3.10/site-packages/torch/_tensor.py:488\u001b[0m, in \u001b[0;36mTensor.backward\u001b[0;34m(self, gradient, retain_graph, create_graph, inputs)\u001b[0m\n\u001b[1;32m    478\u001b[0m \u001b[38;5;28;01mif\u001b[39;00m has_torch_function_unary(\u001b[38;5;28mself\u001b[39m):\n\u001b[1;32m    479\u001b[0m     \u001b[38;5;28;01mreturn\u001b[39;00m handle_torch_function(\n\u001b[1;32m    480\u001b[0m         Tensor\u001b[38;5;241m.\u001b[39mbackward,\n\u001b[1;32m    481\u001b[0m         (\u001b[38;5;28mself\u001b[39m,),\n\u001b[0;32m   (...)\u001b[0m\n\u001b[1;32m    486\u001b[0m         inputs\u001b[38;5;241m=\u001b[39minputs,\n\u001b[1;32m    487\u001b[0m     )\n\u001b[0;32m--> 488\u001b[0m \u001b[43mtorch\u001b[49m\u001b[38;5;241;43m.\u001b[39;49m\u001b[43mautograd\u001b[49m\u001b[38;5;241;43m.\u001b[39;49m\u001b[43mbackward\u001b[49m\u001b[43m(\u001b[49m\n\u001b[1;32m    489\u001b[0m \u001b[43m    \u001b[49m\u001b[38;5;28;43mself\u001b[39;49m\u001b[43m,\u001b[49m\u001b[43m \u001b[49m\u001b[43mgradient\u001b[49m\u001b[43m,\u001b[49m\u001b[43m \u001b[49m\u001b[43mretain_graph\u001b[49m\u001b[43m,\u001b[49m\u001b[43m \u001b[49m\u001b[43mcreate_graph\u001b[49m\u001b[43m,\u001b[49m\u001b[43m \u001b[49m\u001b[43minputs\u001b[49m\u001b[38;5;241;43m=\u001b[39;49m\u001b[43minputs\u001b[49m\n\u001b[1;32m    490\u001b[0m \u001b[43m\u001b[49m\u001b[43m)\u001b[49m\n",
      "File \u001b[0;32m~/.pyenvs/qq/lib/python3.10/site-packages/torch/autograd/__init__.py:197\u001b[0m, in \u001b[0;36mbackward\u001b[0;34m(tensors, grad_tensors, retain_graph, create_graph, grad_variables, inputs)\u001b[0m\n\u001b[1;32m    192\u001b[0m     retain_graph \u001b[38;5;241m=\u001b[39m create_graph\n\u001b[1;32m    194\u001b[0m \u001b[38;5;66;03m# The reason we repeat same the comment below is that\u001b[39;00m\n\u001b[1;32m    195\u001b[0m \u001b[38;5;66;03m# some Python versions print out the first line of a multi-line function\u001b[39;00m\n\u001b[1;32m    196\u001b[0m \u001b[38;5;66;03m# calls in the traceback and some print out the last line\u001b[39;00m\n\u001b[0;32m--> 197\u001b[0m \u001b[43mVariable\u001b[49m\u001b[38;5;241;43m.\u001b[39;49m\u001b[43m_execution_engine\u001b[49m\u001b[38;5;241;43m.\u001b[39;49m\u001b[43mrun_backward\u001b[49m\u001b[43m(\u001b[49m\u001b[43m  \u001b[49m\u001b[38;5;66;43;03m# Calls into the C++ engine to run the backward pass\u001b[39;49;00m\n\u001b[1;32m    198\u001b[0m \u001b[43m    \u001b[49m\u001b[43mtensors\u001b[49m\u001b[43m,\u001b[49m\u001b[43m \u001b[49m\u001b[43mgrad_tensors_\u001b[49m\u001b[43m,\u001b[49m\u001b[43m \u001b[49m\u001b[43mretain_graph\u001b[49m\u001b[43m,\u001b[49m\u001b[43m \u001b[49m\u001b[43mcreate_graph\u001b[49m\u001b[43m,\u001b[49m\u001b[43m \u001b[49m\u001b[43minputs\u001b[49m\u001b[43m,\u001b[49m\n\u001b[1;32m    199\u001b[0m \u001b[43m    \u001b[49m\u001b[43mallow_unreachable\u001b[49m\u001b[38;5;241;43m=\u001b[39;49m\u001b[38;5;28;43;01mTrue\u001b[39;49;00m\u001b[43m,\u001b[49m\u001b[43m \u001b[49m\u001b[43maccumulate_grad\u001b[49m\u001b[38;5;241;43m=\u001b[39;49m\u001b[38;5;28;43;01mTrue\u001b[39;49;00m\u001b[43m)\u001b[49m\n",
      "File \u001b[0;32m~/.pyenvs/qq/lib/python3.10/site-packages/torch/autograd/function.py:267\u001b[0m, in \u001b[0;36mBackwardCFunction.apply\u001b[0;34m(self, *args)\u001b[0m\n\u001b[1;32m    263\u001b[0m     \u001b[38;5;28;01mraise\u001b[39;00m \u001b[38;5;167;01mRuntimeError\u001b[39;00m(\u001b[38;5;124m\"\u001b[39m\u001b[38;5;124mImplementing both \u001b[39m\u001b[38;5;124m'\u001b[39m\u001b[38;5;124mbackward\u001b[39m\u001b[38;5;124m'\u001b[39m\u001b[38;5;124m and \u001b[39m\u001b[38;5;124m'\u001b[39m\u001b[38;5;124mvjp\u001b[39m\u001b[38;5;124m'\u001b[39m\u001b[38;5;124m for a custom \u001b[39m\u001b[38;5;124m\"\u001b[39m\n\u001b[1;32m    264\u001b[0m                        \u001b[38;5;124m\"\u001b[39m\u001b[38;5;124mFunction is not allowed. You should only implement one \u001b[39m\u001b[38;5;124m\"\u001b[39m\n\u001b[1;32m    265\u001b[0m                        \u001b[38;5;124m\"\u001b[39m\u001b[38;5;124mof them.\u001b[39m\u001b[38;5;124m\"\u001b[39m)\n\u001b[1;32m    266\u001b[0m user_fn \u001b[38;5;241m=\u001b[39m vjp_fn \u001b[38;5;28;01mif\u001b[39;00m vjp_fn \u001b[38;5;129;01mis\u001b[39;00m \u001b[38;5;129;01mnot\u001b[39;00m Function\u001b[38;5;241m.\u001b[39mvjp \u001b[38;5;28;01melse\u001b[39;00m backward_fn\n\u001b[0;32m--> 267\u001b[0m \u001b[38;5;28;01mreturn\u001b[39;00m \u001b[43muser_fn\u001b[49m\u001b[43m(\u001b[49m\u001b[38;5;28;43mself\u001b[39;49m\u001b[43m,\u001b[49m\u001b[43m \u001b[49m\u001b[38;5;241;43m*\u001b[39;49m\u001b[43margs\u001b[49m\u001b[43m)\u001b[49m\n",
      "File \u001b[0;32m~/.pyenvs/qq/lib/python3.10/site-packages/pennylane/interfaces/torch.py:164\u001b[0m, in \u001b[0;36mExecuteTapes.backward\u001b[0;34m(ctx, *dy)\u001b[0m\n\u001b[1;32m    159\u001b[0m     \u001b[38;5;28;01melse\u001b[39;00m:\n\u001b[1;32m    160\u001b[0m         \u001b[38;5;66;03m# The derivative order is at the maximum. Compute the VJP\u001b[39;00m\n\u001b[1;32m    161\u001b[0m         \u001b[38;5;66;03m# in a non-differentiable manner to reduce overhead.\u001b[39;00m\n\u001b[1;32m    163\u001b[0m         \u001b[38;5;28;01mwith\u001b[39;00m qml\u001b[38;5;241m.\u001b[39mtape\u001b[38;5;241m.\u001b[39mUnwrap(\u001b[38;5;241m*\u001b[39mctx\u001b[38;5;241m.\u001b[39mtapes):\n\u001b[0;32m--> 164\u001b[0m             vjp_tapes, processing_fn \u001b[38;5;241m=\u001b[39m \u001b[43mqml\u001b[49m\u001b[38;5;241;43m.\u001b[39;49m\u001b[43mgradients\u001b[49m\u001b[38;5;241;43m.\u001b[39;49m\u001b[43mbatch_vjp\u001b[49m\u001b[43m(\u001b[49m\n\u001b[1;32m    165\u001b[0m \u001b[43m                \u001b[49m\u001b[43mctx\u001b[49m\u001b[38;5;241;43m.\u001b[39;49m\u001b[43mtapes\u001b[49m\u001b[43m,\u001b[49m\n\u001b[1;32m    166\u001b[0m \u001b[43m                \u001b[49m\u001b[43mdy\u001b[49m\u001b[43m,\u001b[49m\n\u001b[1;32m    167\u001b[0m \u001b[43m                \u001b[49m\u001b[43mctx\u001b[49m\u001b[38;5;241;43m.\u001b[39;49m\u001b[43mgradient_fn\u001b[49m\u001b[43m,\u001b[49m\n\u001b[1;32m    168\u001b[0m \u001b[43m                \u001b[49m\u001b[43mreduction\u001b[49m\u001b[38;5;241;43m=\u001b[39;49m\u001b[38;5;124;43m\"\u001b[39;49m\u001b[38;5;124;43mextend\u001b[39;49m\u001b[38;5;124;43m\"\u001b[39;49m\u001b[43m,\u001b[49m\n\u001b[1;32m    169\u001b[0m \u001b[43m                \u001b[49m\u001b[43mgradient_kwargs\u001b[49m\u001b[38;5;241;43m=\u001b[39;49m\u001b[43mctx\u001b[49m\u001b[38;5;241;43m.\u001b[39;49m\u001b[43mgradient_kwargs\u001b[49m\u001b[43m,\u001b[49m\n\u001b[1;32m    170\u001b[0m \u001b[43m            \u001b[49m\u001b[43m)\u001b[49m\n\u001b[1;32m    172\u001b[0m             vjps \u001b[38;5;241m=\u001b[39m processing_fn(ctx\u001b[38;5;241m.\u001b[39mexecute_fn(vjp_tapes)[\u001b[38;5;241m0\u001b[39m])\n\u001b[1;32m    174\u001b[0m \u001b[38;5;28;01melse\u001b[39;00m:\n\u001b[1;32m    175\u001b[0m     \u001b[38;5;66;03m# Gradient function is not a gradient transform\u001b[39;00m\n\u001b[1;32m    176\u001b[0m     \u001b[38;5;66;03m# (e.g., it might be a device method).\u001b[39;00m\n\u001b[0;32m   (...)\u001b[0m\n\u001b[1;32m    181\u001b[0m     \u001b[38;5;66;03m#\u001b[39;00m\n\u001b[1;32m    182\u001b[0m     \u001b[38;5;66;03m# so we cannot support higher-order derivatives.\u001b[39;00m\n",
      "File \u001b[0;32m~/.pyenvs/qq/lib/python3.10/site-packages/pennylane/gradients/vjp.py:313\u001b[0m, in \u001b[0;36mbatch_vjp\u001b[0;34m(tapes, dys, gradient_fn, reduction, gradient_kwargs)\u001b[0m\n\u001b[1;32m    311\u001b[0m \u001b[38;5;66;03m# Loop through the tapes and dys vector\u001b[39;00m\n\u001b[1;32m    312\u001b[0m \u001b[38;5;28;01mfor\u001b[39;00m tape, dy \u001b[38;5;129;01min\u001b[39;00m \u001b[38;5;28mzip\u001b[39m(tapes, dys):\n\u001b[0;32m--> 313\u001b[0m     g_tapes, fn \u001b[38;5;241m=\u001b[39m \u001b[43mvjp\u001b[49m\u001b[43m(\u001b[49m\u001b[43mtape\u001b[49m\u001b[43m,\u001b[49m\u001b[43m \u001b[49m\u001b[43mdy\u001b[49m\u001b[43m,\u001b[49m\u001b[43m \u001b[49m\u001b[43mgradient_fn\u001b[49m\u001b[43m,\u001b[49m\u001b[43m \u001b[49m\u001b[43mgradient_kwargs\u001b[49m\u001b[43m)\u001b[49m\n\u001b[1;32m    315\u001b[0m     reshape_info\u001b[38;5;241m.\u001b[39mappend(\u001b[38;5;28mlen\u001b[39m(g_tapes))\n\u001b[1;32m    316\u001b[0m     processing_fns\u001b[38;5;241m.\u001b[39mappend(fn)\n",
      "File \u001b[0;32m~/.pyenvs/qq/lib/python3.10/site-packages/pennylane/gradients/vjp.py:182\u001b[0m, in \u001b[0;36mvjp\u001b[0;34m(tape, dy, gradient_fn, gradient_kwargs)\u001b[0m\n\u001b[1;32m    179\u001b[0m \u001b[38;5;28;01mexcept\u001b[39;00m (\u001b[38;5;167;01mAttributeError\u001b[39;00m, \u001b[38;5;167;01mTypeError\u001b[39;00m):\n\u001b[1;32m    180\u001b[0m     \u001b[38;5;28;01mpass\u001b[39;00m\n\u001b[0;32m--> 182\u001b[0m gradient_tapes, fn \u001b[38;5;241m=\u001b[39m \u001b[43mgradient_fn\u001b[49m\u001b[43m(\u001b[49m\u001b[43mtape\u001b[49m\u001b[43m,\u001b[49m\u001b[43m \u001b[49m\u001b[38;5;241;43m*\u001b[39;49m\u001b[38;5;241;43m*\u001b[39;49m\u001b[43mgradient_kwargs\u001b[49m\u001b[43m)\u001b[49m\n\u001b[1;32m    184\u001b[0m \u001b[38;5;28;01mdef\u001b[39;00m \u001b[38;5;21mprocessing_fn\u001b[39m(results, num\u001b[38;5;241m=\u001b[39m\u001b[38;5;28;01mNone\u001b[39;00m):\n\u001b[1;32m    185\u001b[0m     \u001b[38;5;66;03m# postprocess results to compute the Jacobian\u001b[39;00m\n\u001b[1;32m    186\u001b[0m     jac \u001b[38;5;241m=\u001b[39m fn(results)\n",
      "File \u001b[0;32m~/.pyenvs/qq/lib/python3.10/site-packages/pennylane/transforms/batch_transform.py:330\u001b[0m, in \u001b[0;36mbatch_transform.__call__\u001b[0;34m(self, *targs, **tkwargs)\u001b[0m\n\u001b[1;32m    325\u001b[0m     \u001b[38;5;28;01mreturn\u001b[39;00m \u001b[38;5;28mself\u001b[39m\u001b[38;5;241m.\u001b[39m_device_wrapper(\u001b[38;5;241m*\u001b[39mtargs, \u001b[38;5;241m*\u001b[39m\u001b[38;5;241m*\u001b[39mtkwargs)(qnode)\n\u001b[1;32m    327\u001b[0m \u001b[38;5;28;01mif\u001b[39;00m \u001b[38;5;28misinstance\u001b[39m(qnode, qml\u001b[38;5;241m.\u001b[39mtape\u001b[38;5;241m.\u001b[39mQuantumTape):\n\u001b[1;32m    328\u001b[0m     \u001b[38;5;66;03m# Input is a quantum tape.\u001b[39;00m\n\u001b[1;32m    329\u001b[0m     \u001b[38;5;66;03m# tapes, fn = some_transform(tape, *transform_args)\u001b[39;00m\n\u001b[0;32m--> 330\u001b[0m     \u001b[38;5;28;01mreturn\u001b[39;00m \u001b[38;5;28;43mself\u001b[39;49m\u001b[38;5;241;43m.\u001b[39;49m\u001b[43m_tape_wrapper\u001b[49m\u001b[43m(\u001b[49m\u001b[38;5;241;43m*\u001b[39;49m\u001b[43mtargs\u001b[49m\u001b[43m,\u001b[49m\u001b[43m \u001b[49m\u001b[38;5;241;43m*\u001b[39;49m\u001b[38;5;241;43m*\u001b[39;49m\u001b[43mtkwargs\u001b[49m\u001b[43m)\u001b[49m\u001b[43m(\u001b[49m\u001b[43mqnode\u001b[49m\u001b[43m)\u001b[49m\n\u001b[1;32m    332\u001b[0m \u001b[38;5;28;01mif\u001b[39;00m \u001b[38;5;28misinstance\u001b[39m(qnode, (qml\u001b[38;5;241m.\u001b[39mQNode, qml\u001b[38;5;241m.\u001b[39mExpvalCost)):\n\u001b[1;32m    333\u001b[0m     \u001b[38;5;66;03m# Input is a QNode:\u001b[39;00m\n\u001b[1;32m    334\u001b[0m     \u001b[38;5;66;03m# result = some_transform(qnode, *transform_args)(*qnode_args)\u001b[39;00m\n\u001b[1;32m    335\u001b[0m     wrapper \u001b[38;5;241m=\u001b[39m \u001b[38;5;28mself\u001b[39m\u001b[38;5;241m.\u001b[39mqnode_wrapper(qnode, targs, tkwargs)\n",
      "File \u001b[0;32m~/.pyenvs/qq/lib/python3.10/site-packages/pennylane/transforms/batch_transform.py:418\u001b[0m, in \u001b[0;36mbatch_transform._tape_wrapper.<locals>.<lambda>\u001b[0;34m(tape)\u001b[0m\n\u001b[1;32m    417\u001b[0m \u001b[38;5;28;01mdef\u001b[39;00m \u001b[38;5;21m_tape_wrapper\u001b[39m(\u001b[38;5;28mself\u001b[39m, \u001b[38;5;241m*\u001b[39mtargs, \u001b[38;5;241m*\u001b[39m\u001b[38;5;241m*\u001b[39mtkwargs):\n\u001b[0;32m--> 418\u001b[0m     \u001b[38;5;28;01mreturn\u001b[39;00m \u001b[38;5;28;01mlambda\u001b[39;00m tape: \u001b[38;5;28;43mself\u001b[39;49m\u001b[38;5;241;43m.\u001b[39;49m\u001b[43mconstruct\u001b[49m\u001b[43m(\u001b[49m\u001b[43mtape\u001b[49m\u001b[43m,\u001b[49m\u001b[43m \u001b[49m\u001b[38;5;241;43m*\u001b[39;49m\u001b[43mtargs\u001b[49m\u001b[43m,\u001b[49m\u001b[43m \u001b[49m\u001b[38;5;241;43m*\u001b[39;49m\u001b[38;5;241;43m*\u001b[39;49m\u001b[43mtkwargs\u001b[49m\u001b[43m)\u001b[49m\n",
      "File \u001b[0;32m~/.pyenvs/qq/lib/python3.10/site-packages/pennylane/transforms/batch_transform.py:402\u001b[0m, in \u001b[0;36mbatch_transform.construct\u001b[0;34m(self, tape, *args, **kwargs)\u001b[0m\n\u001b[1;32m    399\u001b[0m \u001b[38;5;28;01mif\u001b[39;00m expand \u001b[38;5;129;01mand\u001b[39;00m \u001b[38;5;28mself\u001b[39m\u001b[38;5;241m.\u001b[39mexpand_fn \u001b[38;5;129;01mis\u001b[39;00m \u001b[38;5;129;01mnot\u001b[39;00m \u001b[38;5;28;01mNone\u001b[39;00m:\n\u001b[1;32m    400\u001b[0m     tape \u001b[38;5;241m=\u001b[39m \u001b[38;5;28mself\u001b[39m\u001b[38;5;241m.\u001b[39mexpand_fn(tape, \u001b[38;5;241m*\u001b[39margs, \u001b[38;5;241m*\u001b[39m\u001b[38;5;241m*\u001b[39mkwargs)\n\u001b[0;32m--> 402\u001b[0m tapes, processing_fn \u001b[38;5;241m=\u001b[39m \u001b[38;5;28;43mself\u001b[39;49m\u001b[38;5;241;43m.\u001b[39;49m\u001b[43mtransform_fn\u001b[49m\u001b[43m(\u001b[49m\u001b[43mtape\u001b[49m\u001b[43m,\u001b[49m\u001b[43m \u001b[49m\u001b[38;5;241;43m*\u001b[39;49m\u001b[43margs\u001b[49m\u001b[43m,\u001b[49m\u001b[43m \u001b[49m\u001b[38;5;241;43m*\u001b[39;49m\u001b[38;5;241;43m*\u001b[39;49m\u001b[43mkwargs\u001b[49m\u001b[43m)\u001b[49m\n\u001b[1;32m    404\u001b[0m \u001b[38;5;28;01mif\u001b[39;00m processing_fn \u001b[38;5;129;01mis\u001b[39;00m \u001b[38;5;28;01mNone\u001b[39;00m:\n\u001b[1;32m    405\u001b[0m     processing_fn \u001b[38;5;241m=\u001b[39m \u001b[38;5;28;01mlambda\u001b[39;00m x: x\n",
      "File \u001b[0;32m~/.pyenvs/qq/lib/python3.10/site-packages/pennylane/gradients/parameter_shift.py:622\u001b[0m, in \u001b[0;36mparam_shift\u001b[0;34m(tape, argnum, shifts, gradient_recipes, fallback_fn, f0)\u001b[0m\n\u001b[1;32m    441\u001b[0m \u001b[38;5;124mr\u001b[39m\u001b[38;5;124;03m\"\"\"Transform a QNode to compute the parameter-shift gradient of all gate\u001b[39;00m\n\u001b[1;32m    442\u001b[0m \u001b[38;5;124;03mparameters with respect to its inputs.\u001b[39;00m\n\u001b[1;32m    443\u001b[0m \n\u001b[0;32m   (...)\u001b[0m\n\u001b[1;32m    618\u001b[0m \u001b[38;5;124;03m     [ 0.69916862  0.34072424  0.69202359]]\u001b[39;00m\n\u001b[1;32m    619\u001b[0m \u001b[38;5;124;03m\"\"\"\u001b[39;00m\n\u001b[1;32m    621\u001b[0m \u001b[38;5;28;01mif\u001b[39;00m \u001b[38;5;28many\u001b[39m(m\u001b[38;5;241m.\u001b[39mreturn_type \u001b[38;5;129;01mis\u001b[39;00m qml\u001b[38;5;241m.\u001b[39mmeasurements\u001b[38;5;241m.\u001b[39mState \u001b[38;5;28;01mfor\u001b[39;00m m \u001b[38;5;129;01min\u001b[39;00m tape\u001b[38;5;241m.\u001b[39mmeasurements):\n\u001b[0;32m--> 622\u001b[0m     \u001b[38;5;28;01mraise\u001b[39;00m \u001b[38;5;167;01mValueError\u001b[39;00m(\n\u001b[1;32m    623\u001b[0m         \u001b[38;5;124m\"\u001b[39m\u001b[38;5;124mComputing the gradient of circuits that return the state is not supported.\u001b[39m\u001b[38;5;124m\"\u001b[39m\n\u001b[1;32m    624\u001b[0m     )\n\u001b[1;32m    626\u001b[0m \u001b[38;5;28;01mif\u001b[39;00m argnum \u001b[38;5;129;01mis\u001b[39;00m \u001b[38;5;28;01mNone\u001b[39;00m \u001b[38;5;129;01mand\u001b[39;00m \u001b[38;5;129;01mnot\u001b[39;00m tape\u001b[38;5;241m.\u001b[39mtrainable_params:\n\u001b[1;32m    627\u001b[0m     warnings\u001b[38;5;241m.\u001b[39mwarn(\n\u001b[1;32m    628\u001b[0m         \u001b[38;5;124m\"\u001b[39m\u001b[38;5;124mAttempted to compute the gradient of a tape with no trainable parameters. \u001b[39m\u001b[38;5;124m\"\u001b[39m\n\u001b[1;32m    629\u001b[0m         \u001b[38;5;124m\"\u001b[39m\u001b[38;5;124mIf this is unintended, please mark trainable parameters in accordance with the \u001b[39m\u001b[38;5;124m\"\u001b[39m\n\u001b[1;32m    630\u001b[0m         \u001b[38;5;124m\"\u001b[39m\u001b[38;5;124mchosen auto differentiation framework, or via the \u001b[39m\u001b[38;5;124m'\u001b[39m\u001b[38;5;124mtape.trainable_params\u001b[39m\u001b[38;5;124m'\u001b[39m\u001b[38;5;124m property.\u001b[39m\u001b[38;5;124m\"\u001b[39m\n\u001b[1;32m    631\u001b[0m     )\n",
      "\u001b[0;31mValueError\u001b[0m: Computing the gradient of circuits that return the state is not supported."
     ]
    }
   ],
   "source": [
    "for iterations in range(num_iter) :\n",
    "    kappa = np.random.uniform(0.05, 0.4)\n",
    "    noise = torch.rand(n_data_qubits+n_anc_qubits, device=device) * math.pi / 2\n",
    "    \n",
    "    generator.zero_grad()\n",
    "    image = generator(kappa, noise)\n",
    "\n",
    "    loss = proxy_loss(image) # Simulated \n",
    "    target = EnergyEstimate(kappa)\n",
    "    \n",
    "    mse = (loss - target) ** 2\n",
    "    mse.backward()\n",
    "    \n",
    "    optG.step()"
   ]
  },
  {
   "cell_type": "code",
   "execution_count": null,
   "id": "56c74094",
   "metadata": {},
   "outputs": [],
   "source": []
  },
  {
   "cell_type": "code",
   "execution_count": null,
   "id": "690f44ad",
   "metadata": {},
   "outputs": [],
   "source": []
  }
 ],
 "metadata": {
  "kernelspec": {
   "display_name": "Quantum",
   "language": "python",
   "name": "qq"
  },
  "language_info": {
   "codemirror_mode": {
    "name": "ipython",
    "version": 3
   },
   "file_extension": ".py",
   "mimetype": "text/x-python",
   "name": "python",
   "nbconvert_exporter": "python",
   "pygments_lexer": "ipython3",
   "version": "3.10.9"
  }
 },
 "nbformat": 4,
 "nbformat_minor": 5
}
