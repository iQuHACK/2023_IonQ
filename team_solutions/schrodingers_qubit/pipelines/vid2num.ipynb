{
 "cells": [
  {
   "cell_type": "code",
   "execution_count": null,
   "id": "f1d98470-c9b2-4363-8c76-492f2ef3f589",
   "metadata": {},
   "outputs": [],
   "source": [
    "def vid_params(vid_file):\n",
    "    \"\"\"Generates average frame color and average obj_count for\n",
    "        a video.\"\"\"\n",
    "    import opencv as cv2\n",
    "    \n",
    "    # Initializing frame avg. color array\n",
    "    # & object count array\n",
    "    color_ar = []\n",
    "    obj_c = []\n",
    "    \n",
    "    # Process video frame by frame\n",
    "    cap = cv2.VideoCapture(vid_file)\n",
    "    while(cap.isOpened()):\n",
    "        ret, frame = cap.read()\n",
    "        if ret==True:\n",
    "            # Find average color of frame\n",
    "            color_ar.append(avgColor(frame))\n",
    "            \n",
    "            # Use a canny edge detector\n",
    "            # & count objects\n",
    "            canny = cv2.Canny(frame, 80, 150)\n",
    "            contours, hierarchy= cv2.findContours(canny, cv2.RETR_EXTERNAL, cv2.CHAIN_APPROX_SIMPLE)\n",
    "            obj_c.append(len(contours))\n",
    "            \n",
    "            # Exit\n",
    "            if cv2.waitKey(1) & 0xFF == ord('q'):\n",
    "                break\n",
    "        else:\n",
    "            break\n",
    "            \n",
    "    # Exit the video\n",
    "    cap.release()\n",
    "    cv2.destroyAllWindows()\n",
    "\n",
    "    return color_ar, obj_c"
   ]
  },
  {
   "cell_type": "code",
   "execution_count": null,
   "id": "cd82c572-3f70-4eb0-ad8e-b2bc5a3ef788",
   "metadata": {},
   "outputs": [],
   "source": [
    "def avg_fColor(array):\n",
    "    \"\"\"Returns the average rgb value of the all the pixels\n",
    "    of an image in decimal form\"\"\"\n",
    "    import numpy as np\n",
    "    \n",
    "    # Find average for each of RGB\n",
    "    avg_row = []\n",
    "    for row in array:\n",
    "        avg = np.average(row, axis=0)\n",
    "\n",
    "        avg_row.append(avg)\n",
    "        \n",
    "    avg_rgb = np.average(avg_row, axis=0).astype(int)\n",
    "    \n",
    "    # Convert rgb to hex\n",
    "    hex_c = '%02x%02x%02x' % tuple(avg_rgb)\n",
    "    \n",
    "    return int(hex_c, 16)\n",
    "    "
   ]
  },
  {
   "cell_type": "code",
   "execution_count": null,
   "id": "1d549b76-95d5-4415-adea-76553ed630c0",
   "metadata": {
    "tags": []
   },
   "outputs": [],
   "source": [
    "def batch_process(folder):\n",
    "    \"\"\"Runs vid_params for each video in folder &\n",
    "        outputs an array of arrays for each parameter\"\"\"\n",
    "    import os\n",
    "    \n",
    "    # List of files\n",
    "    files = []\n",
    "    \n",
    "    # Iterate through each file in folder\n",
    "    for filename in os.listdir(folder):\n",
    "        f = os.path.join(folder, filename)\n",
    "        \n",
    "        # Checking if it is a file\n",
    "        if os.path.isfile(f):\n",
    "            files.append(f)\n",
    "    \n",
    "    # Array of parameters\n",
    "    params = []\n",
    "    for filename in files:\n",
    "        l_arr = []\n",
    "        param1, param2 = vid_params(filename)\n",
    "        \n",
    "        l_arr.append(param1)\n",
    "        l_arr.append(param2)\n",
    "        params.append(l_arr)\n",
    "    \n",
    "    return params"
   ]
  },
  {
   "cell_type": "code",
   "execution_count": null,
   "id": "2c642c00-c2f2-449c-8ee1-92bd672e2f52",
   "metadata": {},
   "outputs": [],
   "source": [
    "params = batch_process('videos')"
   ]
  }
 ],
 "metadata": {
  "kernelspec": {
   "display_name": "Python 3 (ipykernel)",
   "language": "python",
   "name": "python3"
  },
  "language_info": {
   "codemirror_mode": {
    "name": "ipython",
    "version": 3
   },
   "file_extension": ".py",
   "mimetype": "text/x-python",
   "name": "python",
   "nbconvert_exporter": "python",
   "pygments_lexer": "ipython3",
   "version": "3.11.0"
  }
 },
 "nbformat": 4,
 "nbformat_minor": 5
}
