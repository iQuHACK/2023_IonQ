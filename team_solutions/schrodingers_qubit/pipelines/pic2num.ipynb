{
 "cells": [
  {
   "cell_type": "code",
   "execution_count": 1,
   "id": "ec37d0bb-a900-41d9-ace5-a638b27522f7",
   "metadata": {},
   "outputs": [],
   "source": [
    "def avgColor(img_file):\n",
    "    \"\"\"Returns the average rgb value of the all the pixels\n",
    "    of an image in decimal form\"\"\"\n",
    "    import numpy as np\n",
    "    from PIL import Image\n",
    "    import matplotlib\n",
    "    \n",
    "    # Read image into np array\n",
    "    img = Image.open(img_file)\n",
    "    array = np.array(img)\n",
    "    \n",
    "    # Find average for each of RGB\n",
    "    avg_row = []\n",
    "    for row in array:\n",
    "        avg = np.average(row, axis=0)\n",
    "\n",
    "        avg_row.append(avg)\n",
    "        \n",
    "    avg_rgb = np.average(avg_row, axis=0).astype(int)\n",
    "    \n",
    "    # Convert rgb to hex\n",
    "    hex_c = '%02x%02x%02x' % tuple(avg_rgb)\n",
    "    \n",
    "    return int(hex_c, 16)\n",
    "    "
   ]
  },
  {
   "cell_type": "code",
   "execution_count": 2,
   "id": "e1fef2ab-723a-44d6-994c-b2d67b484375",
   "metadata": {},
   "outputs": [
    {
     "data": {
      "text/plain": [
       "10652532"
      ]
     },
     "execution_count": 2,
     "metadata": {},
     "output_type": "execute_result"
    }
   ],
   "source": [
    "avgColor('flower.jpg')"
   ]
  }
 ],
 "metadata": {
  "kernelspec": {
   "display_name": "Python 3 (ipykernel)",
   "language": "python",
   "name": "python3"
  },
  "language_info": {
   "codemirror_mode": {
    "name": "ipython",
    "version": 3
   },
   "file_extension": ".py",
   "mimetype": "text/x-python",
   "name": "python",
   "nbconvert_exporter": "python",
   "pygments_lexer": "ipython3",
   "version": "3.11.0"
  }
 },
 "nbformat": 4,
 "nbformat_minor": 5
}
