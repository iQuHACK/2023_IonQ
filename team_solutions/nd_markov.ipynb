{
 "cells": [
  {
   "cell_type": "code",
   "execution_count": 3,
   "id": "6cd08ce9-347b-498e-b46a-1d09cdf19c45",
   "metadata": {},
   "outputs": [],
   "source": [
    "# import packages\n",
    "from qiskit import QuantumCircuit\n",
    "from qiskit.visualization import plot_histogram\n",
    "from qiskit_ionq import IonQProvider\n",
    "\n",
    "provider = IonQProvider(token='vm05jEWtO7zVGE6laZPtx8jbLM66TaS9')\n",
    "backend = provider.get_backend(\"ionq_simulator\")"
   ]
  },
  {
   "cell_type": "code",
   "execution_count": 4,
   "id": "f7f676b1-9d24-44af-908d-607526c61e4e",
   "metadata": {},
   "outputs": [],
   "source": [
    "def QuantumCircuitGen(input=None):\n",
    "    three_d_markov = QuantumCircuit(5, 3)\n",
    "    if input is not None:\n",
    "        if input['q0'] != 1:\n",
    "            three_d_markov.x(0)\n",
    "        if input['q1'] != 1: \n",
    "            three_d_markov.x(1)\n",
    "        if input['q2'] != 1:\n",
    "            three_d_markov.x(2)\n",
    "        \n",
    "    three_d_markov.h(3)\n",
    "    three_d_markov.h(4)\n",
    "    three_d_markov.cnot(4, 0)\n",
    "    three_d_markov.x(4)\n",
    "    three_d_markov.cnot(4, 1)\n",
    "    three_d_markov.cnot(3, 2)\n",
    "    three_d_markov.toffoli(4, 3, 1)\n",
    "    three_d_markov.x(4)\n",
    "    three_d_markov.toffoli(4, 3, 0)\n",
    "    three_d_markov.x(4)\n",
    "    three_d_markov.toffoli(4, 3, 2)\n",
    "    three_d_markov.measure([0, 1, 2], [0, 1, 2])\n"
   ]
  },
  {
   "cell_type": "code",
   "execution_count": 6,
   "id": "0e77e93d-bd91-49b7-8b0c-282e21e07913",
   "metadata": {},
   "outputs": [
    {
     "ename": "AttributeError",
     "evalue": "'NoneType' object has no attribute 'draw'",
     "output_type": "error",
     "traceback": [
      "\u001b[1;31m---------------------------------------------------------------------------\u001b[0m",
      "\u001b[1;31mAttributeError\u001b[0m                            Traceback (most recent call last)",
      "Cell \u001b[1;32mIn[6], line 2\u001b[0m\n\u001b[0;32m      1\u001b[0m three_d_markov \u001b[39m=\u001b[39m QuantumCircuitGen()\n\u001b[1;32m----> 2\u001b[0m three_d_markov\u001b[39m.\u001b[39;49mdraw()\n",
      "\u001b[1;31mAttributeError\u001b[0m: 'NoneType' object has no attribute 'draw'"
     ]
    }
   ],
   "source": [
    "three_d_markov = QuantumCircuitGen()\n",
    "three_d_markov.draw()\n"
   ]
  },
  {
   "cell_type": "code",
   "execution_count": 12,
   "id": "013f861d-11c3-4cfa-a5da-f2eccb88832f",
   "metadata": {},
   "outputs": [
    {
     "name": "stdout",
     "output_type": "stream",
     "text": [
      "{'000': 0, '001': 1, '010': 0, '100': 0}\n",
      "{'000': 0.25, '001': 0.25, '010': 0.25, '100': 0.25}\n"
     ]
    }
   ],
   "source": [
    "job = backend.run(three_d_markov, shots=1)\n"
   ]
  },
  {
   "cell_type": "code",
   "execution_count": null,
   "id": "c290a9c8-3721-4a73-86bb-565dc4298b5b",
   "metadata": {},
   "outputs": [],
   "source": [
    "result = job.result()\n",
    "counts = result.get_counts()\n",
    "print(counts)\n",
    "\n",
    "probabilities = result.get_probabilities()\n",
    "print(probabilities)"
   ]
  },
  {
   "cell_type": "code",
   "execution_count": null,
   "id": "3bf24dfb-cb6d-4437-8807-ad3d2b524c5b",
   "metadata": {},
   "outputs": [],
   "source": []
  }
 ],
 "metadata": {
  "kernelspec": {
   "display_name": "Python 3.10.8 ('qisenv')",
   "language": "python",
   "name": "python3"
  },
  "language_info": {
   "codemirror_mode": {
    "name": "ipython",
    "version": 3
   },
   "file_extension": ".py",
   "mimetype": "text/x-python",
   "name": "python",
   "nbconvert_exporter": "python",
   "pygments_lexer": "ipython3",
   "version": "3.10.8"
  },
  "vscode": {
   "interpreter": {
    "hash": "fed355897c283882ce6b3341d180e0037d967cbc1dca3ebc909ceb3e97fabdfa"
   }
  }
 },
 "nbformat": 4,
 "nbformat_minor": 5
}
