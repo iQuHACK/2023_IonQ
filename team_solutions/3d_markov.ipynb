{
 "cells": [
  {
   "cell_type": "code",
   "execution_count": 1,
   "id": "6cd08ce9-347b-498e-b46a-1d09cdf19c45",
   "metadata": {},
   "outputs": [],
   "source": [
    "# import packages\n",
    "from qiskit import QuantumCircuit\n",
    "from qiskit.visualization import plot_histogram\n",
    "from qiskit_ionq import IonQProvider\n",
    "\n",
    "provider = IonQProvider(token='vm05jEWtO7zVGE6laZPtx8jbLM66TaS9')\n",
    "backend = provider.get_backend(\"ionq_simulator\")"
   ]
  },
  {
   "cell_type": "code",
   "execution_count": 2,
   "id": "f7f676b1-9d24-44af-908d-607526c61e4e",
   "metadata": {},
   "outputs": [],
   "source": [
    "def QuantumCircuitGen(state=None):\n",
    "    three_d_markov = QuantumCircuit(5, 3)\n",
    "    if state is not None:\n",
    "        if state[0] == 1:\n",
    "            three_d_markov.x(0)\n",
    "        if state[1] == 1: \n",
    "            three_d_markov.x(1)\n",
    "        if state[2] == 1:\n",
    "            three_d_markov.x(2)\n",
    "        \n",
    "    three_d_markov.h(3)\n",
    "    three_d_markov.h(4)\n",
    "    three_d_markov.cnot(4, 0)\n",
    "    three_d_markov.x(4)\n",
    "    three_d_markov.cnot(4, 1)\n",
    "    three_d_markov.cnot(3, 2)\n",
    "    three_d_markov.toffoli(4, 3, 1)\n",
    "    three_d_markov.x(4)\n",
    "    three_d_markov.toffoli(4, 3, 0)\n",
    "    three_d_markov.x(4)\n",
    "    three_d_markov.toffoli(4, 3, 2)\n",
    "    three_d_markov.measure([0, 1, 2], [0, 1, 2])\n",
    "    \n",
    "    return three_d_markov\n"
   ]
  },
  {
   "cell_type": "code",
   "execution_count": 25,
   "id": "0e77e93d-bd91-49b7-8b0c-282e21e07913",
   "metadata": {},
   "outputs": [
    {
     "data": {
      "text/html": [
       "<pre style=\"word-wrap: normal;white-space: pre;background: #fff0;line-height: 1.1;font-family: &quot;Courier New&quot;,Courier,monospace\">          ┌───┐                       ┌───┐     ┌─┐        \n",
       "q_0: ─────┤ X ├───────────────────────┤ X ├─────┤M├────────\n",
       "          └─┬─┘     ┌───┐┌───┐     ┌─┐└─┬─┘     └╥┘        \n",
       "q_1: ───────┼───────┤ X ├┤ X ├─────┤M├──┼────────╫─────────\n",
       "            │  ┌───┐└─┬─┘└─┬─┘     └╥┘  │        ║ ┌───┐┌─┐\n",
       "q_2: ───────┼──┤ X ├──┼────┼────────╫───┼────────╫─┤ X ├┤M├\n",
       "     ┌───┐  │  └─┬─┘  │    │        ║   │        ║ └─┬─┘└╥┘\n",
       "q_3: ┤ H ├──┼────■────┼────■────────╫───■────────╫───■───╫─\n",
       "     ├───┤  │  ┌───┐  │    │  ┌───┐ ║   │  ┌───┐ ║   │   ║ \n",
       "q_4: ┤ H ├──■──┤ X ├──■────■──┤ X ├─╫───■──┤ X ├─╫───■───╫─\n",
       "     └───┘     └───┘          └───┘ ║      └───┘ ║       ║ \n",
       "c: 3/═══════════════════════════════╩════════════╩═══════╩═\n",
       "                                    1            0       2 </pre>"
      ],
      "text/plain": [
       "          ┌───┐                       ┌───┐     ┌─┐        \n",
       "q_0: ─────┤ X ├───────────────────────┤ X ├─────┤M├────────\n",
       "          └─┬─┘     ┌───┐┌───┐     ┌─┐└─┬─┘     └╥┘        \n",
       "q_1: ───────┼───────┤ X ├┤ X ├─────┤M├──┼────────╫─────────\n",
       "            │  ┌───┐└─┬─┘└─┬─┘     └╥┘  │        ║ ┌───┐┌─┐\n",
       "q_2: ───────┼──┤ X ├──┼────┼────────╫───┼────────╫─┤ X ├┤M├\n",
       "     ┌───┐  │  └─┬─┘  │    │        ║   │        ║ └─┬─┘└╥┘\n",
       "q_3: ┤ H ├──┼────■────┼────■────────╫───■────────╫───■───╫─\n",
       "     ├───┤  │  ┌───┐  │    │  ┌───┐ ║   │  ┌───┐ ║   │   ║ \n",
       "q_4: ┤ H ├──■──┤ X ├──■────■──┤ X ├─╫───■──┤ X ├─╫───■───╫─\n",
       "     └───┘     └───┘          └───┘ ║      └───┘ ║       ║ \n",
       "c: 3/═══════════════════════════════╩════════════╩═══════╩═\n",
       "                                    1            0       2 "
      ]
     },
     "execution_count": 25,
     "metadata": {},
     "output_type": "execute_result"
    }
   ],
   "source": [
    "three_d_markov.draw()\n"
   ]
  },
  {
   "cell_type": "code",
   "execution_count": 12,
   "id": "013f861d-11c3-4cfa-a5da-f2eccb88832f",
   "metadata": {},
   "outputs": [
    {
     "name": "stdout",
     "output_type": "stream",
     "text": [
      "this is the input state: None\n",
      "Steps left: 8\n",
      "{'000': 0, '001': 0, '010': 0, '100': 1}\n",
      "this is the input state: [0, 0, 1]\n",
      "Steps left: 7\n",
      "{'000': 0, '100': 1, '101': 0, '110': 0}\n",
      "this is the input state: [0, 0, 1]\n",
      "Steps left: 6\n",
      "{'000': 1, '100': 0, '101': 0, '110': 0}\n",
      "this is the input state: [0, 0, 0]\n",
      "Steps left: 5\n",
      "{'000': 1, '001': 0, '010': 0, '100': 0}\n",
      "this is the input state: [0, 0, 0]\n",
      "Steps left: 4\n",
      "{'000': 0, '001': 1, '010': 0, '100': 0}\n",
      "this is the input state: [1, 0, 0]\n",
      "Steps left: 3\n",
      "{'000': 0, '001': 1, '011': 0, '101': 0}\n",
      "this is the input state: [1, 0, 0]\n",
      "Steps left: 2\n",
      "{'000': 0, '001': 0, '011': 1, '101': 0}\n",
      "this is the input state: [1, 1, 0]\n",
      "Steps left: 1\n",
      "{'001': 0, '010': 0, '011': 1, '111': 0}\n",
      "{'000': 3, '100': 2, '010': 0, '001': 2, '110': 0, '101': 0, '011': 2, '111': 0}\n"
     ]
    }
   ],
   "source": [
    "results_dic = {'000': 1, '100': 0, '010': 0, '001': 0, '110': 0, \n",
    "           '101': 0, '011': 0, '111': 0}\n",
    "\n",
    "last_state = None\n",
    "counter = 8\n",
    "for step in range(0, counter):\n",
    "    print('this is the input state: {}'.format(last_state))\n",
    "    print(f'Steps left: {counter}')\n",
    "    if step == 0:\n",
    "        circuit = QuantumCircuitGen()\n",
    "    else:\n",
    "        circuit = QuantumCircuitGen(last_state)\n",
    "        # print(circuit)\n",
    "    job = backend.run(circuit, shots=1)\n",
    "    result = job.result()\n",
    "    counts = result.get_counts()\n",
    "    print(counts)\n",
    "    for key in counts:\n",
    "        if counts[key] == 1:\n",
    "            last_state = [int(s) for s in reversed(key)]\n",
    "            break\n",
    "    results_dic[key] += 1\n",
    "    counter -= 1\n",
    "\n",
    "print(results_dic)\n",
    "\n",
    "        \n",
    "    \n"
   ]
  },
  {
   "cell_type": "code",
   "execution_count": 45,
   "id": "00fa21ef-2323-44fa-8e84-1cdc0517cadb",
   "metadata": {},
   "outputs": [
    {
     "data": {
      "text/html": [
       "<pre style=\"word-wrap: normal;white-space: pre;background: #fff0;line-height: 1.1;font-family: &quot;Courier New&quot;,Courier,monospace\">          ┌───┐                       ┌───┐     ┌─┐        \n",
       "q_0: ─────┤ X ├───────────────────────┤ X ├─────┤M├────────\n",
       "     ┌───┐└─┬─┘     ┌───┐┌───┐     ┌─┐└─┬─┘     └╥┘        \n",
       "q_1: ┤ X ├──┼───────┤ X ├┤ X ├─────┤M├──┼────────╫─────────\n",
       "     ├───┤  │  ┌───┐└─┬─┘└─┬─┘     └╥┘  │        ║ ┌───┐┌─┐\n",
       "q_2: ┤ X ├──┼──┤ X ├──┼────┼────────╫───┼────────╫─┤ X ├┤M├\n",
       "     ├───┤  │  └─┬─┘  │    │        ║   │        ║ └─┬─┘└╥┘\n",
       "q_3: ┤ H ├──┼────■────┼────■────────╫───■────────╫───■───╫─\n",
       "     ├───┤  │  ┌───┐  │    │  ┌───┐ ║   │  ┌───┐ ║   │   ║ \n",
       "q_4: ┤ H ├──■──┤ X ├──■────■──┤ X ├─╫───■──┤ X ├─╫───■───╫─\n",
       "     └───┘     └───┘          └───┘ ║      └───┘ ║       ║ \n",
       "c: 3/═══════════════════════════════╩════════════╩═══════╩═\n",
       "                                    1            0       2 </pre>"
      ],
      "text/plain": [
       "          ┌───┐                       ┌───┐     ┌─┐        \n",
       "q_0: ─────┤ X ├───────────────────────┤ X ├─────┤M├────────\n",
       "     ┌───┐└─┬─┘     ┌───┐┌───┐     ┌─┐└─┬─┘     └╥┘        \n",
       "q_1: ┤ X ├──┼───────┤ X ├┤ X ├─────┤M├──┼────────╫─────────\n",
       "     ├───┤  │  ┌───┐└─┬─┘└─┬─┘     └╥┘  │        ║ ┌───┐┌─┐\n",
       "q_2: ┤ X ├──┼──┤ X ├──┼────┼────────╫───┼────────╫─┤ X ├┤M├\n",
       "     ├───┤  │  └─┬─┘  │    │        ║   │        ║ └─┬─┘└╥┘\n",
       "q_3: ┤ H ├──┼────■────┼────■────────╫───■────────╫───■───╫─\n",
       "     ├───┤  │  ┌───┐  │    │  ┌───┐ ║   │  ┌───┐ ║   │   ║ \n",
       "q_4: ┤ H ├──■──┤ X ├──■────■──┤ X ├─╫───■──┤ X ├─╫───■───╫─\n",
       "     └───┘     └───┘          └───┘ ║      └───┘ ║       ║ \n",
       "c: 3/═══════════════════════════════╩════════════╩═══════╩═\n",
       "                                    1            0       2 "
      ]
     },
     "execution_count": 45,
     "metadata": {},
     "output_type": "execute_result"
    }
   ],
   "source": [
    "good_circuit = QuantumCircuitGen([0,1,1])\n",
    "good_circuit.draw()\n",
    "# job = backend.run(good_circuit, shots=2)"
   ]
  },
  {
   "cell_type": "code",
   "execution_count": 42,
   "id": "c290a9c8-3721-4a73-86bb-565dc4298b5b",
   "metadata": {},
   "outputs": [
    {
     "name": "stdout",
     "output_type": "stream",
     "text": [
      "{'010': 0, '100': 0, '110': 0, '111': 2}\n",
      "{'010': 0.25, '100': 0.25, '110': 0.25, '111': 0.25}\n"
     ]
    }
   ],
   "source": [
    "result = job.result()\n",
    "counts = result.get_counts()\n",
    "print(counts)\n",
    "\n",
    "probabilities = result.get_probabilities()\n",
    "print(probabilities)"
   ]
  },
  {
   "cell_type": "code",
   "execution_count": 23,
   "id": "3bf24dfb-cb6d-4437-8807-ad3d2b524c5b",
   "metadata": {},
   "outputs": [
    {
     "name": "stdout",
     "output_type": "stream",
     "text": [
      "['b']\n"
     ]
    }
   ],
   "source": [
    "a = {'b': 3}\n",
    "print(list(a.keys()))"
   ]
  },
  {
   "cell_type": "code",
   "execution_count": null,
   "id": "cb8900a6-5889-4bd6-93d1-91e2d7c31bd6",
   "metadata": {},
   "outputs": [],
   "source": []
  }
 ],
 "metadata": {
  "kernelspec": {
   "display_name": "Python 3.10.8 ('qisenv')",
   "language": "python",
   "name": "python3"
  },
  "language_info": {
   "codemirror_mode": {
    "name": "ipython",
    "version": 3
   },
   "file_extension": ".py",
   "mimetype": "text/x-python",
   "name": "python",
   "nbconvert_exporter": "python",
   "pygments_lexer": "ipython3",
   "version": "3.10.8"
  },
  "vscode": {
   "interpreter": {
    "hash": "fed355897c283882ce6b3341d180e0037d967cbc1dca3ebc909ceb3e97fabdfa"
   }
  }
 },
 "nbformat": 4,
 "nbformat_minor": 5
}
