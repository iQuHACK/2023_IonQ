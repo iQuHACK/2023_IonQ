{
 "cells": [
  {
   "cell_type": "code",
   "execution_count": 11,
   "id": "6a0a77f5-9fae-41e0-9478-b1071bdc46c0",
   "metadata": {},
   "outputs": [],
   "source": [
    "import numpy as np\n",
    "import qiskit\n",
    "from qiskit import QuantumRegister, ClassicalRegister, QuantumCircuit\n",
    "from qiskit.visualization import plot_histogram\n",
    "from qiskit_ionq import IonQProvider\n",
    "\n",
    "provider = IonQProvider()"
   ]
  },
  {
   "cell_type": "code",
   "execution_count": 21,
   "id": "f3c98254-68ad-4925-bd3e-98481e058f8d",
   "metadata": {},
   "outputs": [],
   "source": [
    "def random_walk(initial, device):\n",
    "    if len(initial) != 3:\n",
    "        print(\"Error: length of initial string not equal to n\")\n",
    "    qc = QuantumCircuit(5,5)\n",
    "    #initialize state \n",
    "    for i in range(3):\n",
    "        if int(initial[i]) == 1:\n",
    "            qc.x(i)\n",
    "        else:\n",
    "            pass\n",
    "    # set up walk\n",
    "    qc.h(3)\n",
    "    qc.h(4)\n",
    "    qc.ccx(3,4,2)\n",
    "    qc.x(4)\n",
    "    qc.ccx(3,4,1)\n",
    "    qc.x(3)\n",
    "    qc.ccx(3,4,0)\n",
    "    qc.measure(0,0)\n",
    "    qc.measure(1,1)\n",
    "    qc.measure(2,2)\n",
    "    backend = 0\n",
    "    if device == 'simulator':\n",
    "        backend = provider.get_backend(\"ionq_simulator\")\n",
    "    elif device == 'device':\n",
    "        backend = provider.get_backend(\"ionq_qpu\")\n",
    "    else:\n",
    "        return \"Error\"\n",
    "    job = backend.run(qc, shots = 1)\n",
    "    result = job.result()\n",
    "    counts = result.get_counts()\n",
    "    measured_state_rev = counts.most_frequent()\n",
    "    measured_state = measured_state_rev[::-1]\n",
    "    return measured_state\n",
    "    return qc"
   ]
  },
  {
   "cell_type": "code",
   "execution_count": 23,
   "id": "edd004a8-5dea-4163-8de1-e8c3c04aa9ba",
   "metadata": {},
   "outputs": [
    {
     "data": {
      "text/plain": [
       "'01100'"
      ]
     },
     "execution_count": 23,
     "metadata": {},
     "output_type": "execute_result"
    }
   ],
   "source": [
    "random_walk('011', 'simulator')"
   ]
  },
  {
   "cell_type": "code",
   "execution_count": null,
   "id": "40e5ceec-5f68-4de5-85cd-17653f182d1c",
   "metadata": {},
   "outputs": [],
   "source": []
  }
 ],
 "metadata": {
  "kernelspec": {
   "display_name": "Python 3 [IonQ]",
   "language": "python",
   "name": "python3_ionq_6vdluz"
  },
  "language_info": {
   "codemirror_mode": {
    "name": "ipython",
    "version": 3
   },
   "file_extension": ".py",
   "mimetype": "text/x-python",
   "name": "python",
   "nbconvert_exporter": "python",
   "pygments_lexer": "ipython3",
   "version": "3.9.10"
  }
 },
 "nbformat": 4,
 "nbformat_minor": 5
}
