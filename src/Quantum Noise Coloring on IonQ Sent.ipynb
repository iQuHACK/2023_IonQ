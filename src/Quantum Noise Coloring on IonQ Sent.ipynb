{
 "cells": [
  {
   "cell_type": "code",
   "execution_count": 545,
   "id": "9757c1f8-5448-46c9-8e27-2de692a0d7f1",
   "metadata": {},
   "outputs": [],
   "source": [
    "import numpy as np\n",
    "import qiskit\n",
    "from qiskit import QuantumRegister, ClassicalRegister, QuantumCircuit, transpile\n",
    "from qiskit.visualization import plot_histogram\n",
    "from qiskit_ionq import IonQProvider\n",
    "\n",
    "from qiskit_aer import AerSimulator\n",
    "# Import from Qiskit Aer noise module\n",
    "from qiskit_aer.noise import (NoiseModel, QuantumError, ReadoutError,\n",
    "    pauli_error, depolarizing_error, thermal_relaxation_error)\n",
    "\n",
    "provider = IonQProvider() # ADD API Token"
   ]
  },
  {
   "cell_type": "code",
   "execution_count": 546,
   "id": "1bd3bbc1-16bd-4eb6-97d9-ba9d51fe104a",
   "metadata": {},
   "outputs": [],
   "source": [
    "#n = 23 # size of IonQ device which we are using\n",
    "num_not_iterations = 10\n",
    "waiting_time = 20\n",
    "#qc = QuantumCircuit(n,n)\n",
    "def xnot_noise_circuit(qc, n, num_not_iterations):\n",
    "    for i in range(num_not_iterations):\n",
    "        for j in range(n):\n",
    "            qc.x(j)\n",
    "            qc.x(j)\n",
    "    return qc\n",
    "def identity_noise_circuit(qc, n, waiting_time):\n",
    "    for i in range(waiting_time):\n",
    "        for j in range(n):\n",
    "            qc.id(j)\n",
    "    return qc"
   ]
  },
  {
   "cell_type": "code",
   "execution_count": 547,
   "id": "36951e47-333a-40a7-b237-4b62322bc644",
   "metadata": {},
   "outputs": [],
   "source": [
    "# initial should be a binary string from previous output\n",
    "def noise_coloring(initial, num_not_iterations, waiting_time):\n",
    "    n = len(initial)\n",
    "    qc = QuantumCircuit(n,n)\n",
    "    # initialize circuit\n",
    "    for i in range(n):\n",
    "        if int(initial[i]) == 1:\n",
    "            qc.x(i)\n",
    "        else:\n",
    "            pass\n",
    "    # initialize circuit\n",
    "    xnot_noise_circuit(qc, n, num_not_iterations)\n",
    "    identity_noise_circuit(qc, n, waiting_time)\n",
    "    for i in range(n):\n",
    "        qc.measure(i, i)\n",
    "    return qc"
   ]
  },
  {
   "cell_type": "code",
   "execution_count": 548,
   "id": "4b787278",
   "metadata": {},
   "outputs": [
    {
     "name": "stdout",
     "output_type": "stream",
     "text": [
      "NoiseModel:\n",
      "  Basis gates: ['cx', 'id', 'rz', 'sx', 'u1', 'u2', 'u3']\n",
      "  Instructions with noise: ['u3', 'u2', 'cx', 'X', 'reset', 'id', 'u1', 'measure']\n",
      "  All-qubits errors: ['reset', 'measure', 'u1', 'u2', 'u3', 'id', 'X', 'cx']\n"
     ]
    }
   ],
   "source": [
    "# add simulated noise\n",
    "# https://qiskit.org/documentation/tutorials/simulators/3_building_noise_models.html\n",
    "\n",
    "# Example error probabilities\n",
    "p_reset = 0.03\n",
    "p_meas = 0.1\n",
    "p_gate1 = 0.4\n",
    "\n",
    "# QuantumError objects\n",
    "error_reset = pauli_error([('X', p_reset), ('I', 1 - p_reset)])\n",
    "error_meas = pauli_error([('X',p_meas), ('I', 1 - p_meas)])\n",
    "error_gate1 = pauli_error([('X',p_gate1), ('I', 1 - p_gate1)])\n",
    "error_gate2 = error_gate1.tensor(error_gate1)\n",
    "\n",
    "# Add errors to noise model\n",
    "noise_bit_flip = NoiseModel()\n",
    "noise_bit_flip.add_all_qubit_quantum_error(error_reset, \"reset\")\n",
    "noise_bit_flip.add_all_qubit_quantum_error(error_meas, \"measure\")\n",
    "noise_bit_flip.add_all_qubit_quantum_error(error_gate1, [\"u1\", \"u2\", \"u3\", \"id\", \"X\"])\n",
    "noise_bit_flip.add_all_qubit_quantum_error(error_gate2, [\"cx\"])\n",
    "\n",
    "print(noise_bit_flip)\n",
    "\n",
    "# Create noisy simulator backend\n",
    "sim_noise = AerSimulator(noise_model=noise_bit_flip)\n",
    "\n",
    "# Run and get counts\n",
    "def result_with_noise(circuit):\n",
    "    # Transpile circuit for noisy basis gates\n",
    "    circuit_with_noise = transpile(circuit, sim_noise)\n",
    "\n",
    "    return sim_noise.run(circuit_with_noise).result()\n"
   ]
  },
  {
   "cell_type": "code",
   "execution_count": 549,
   "id": "62c152c0-490d-414c-bc7f-a581ae4f8720",
   "metadata": {},
   "outputs": [
    {
     "data": {
      "text/plain": [
       "<qiskit.circuit.quantumcircuit.QuantumCircuit at 0x7fb0f91de380>"
      ]
     },
     "execution_count": 549,
     "metadata": {},
     "output_type": "execute_result"
    }
   ],
   "source": [
    "noise_coloring('01010101', num_not_iterations, waiting_time)"
   ]
  },
  {
   "cell_type": "code",
   "execution_count": 550,
   "id": "d18e67d6-bdb5-4143-a4c4-cacf173f321d",
   "metadata": {},
   "outputs": [],
   "source": [
    "backend = provider.get_backend(\"ionq_simulator\")"
   ]
  },
  {
   "cell_type": "code",
   "execution_count": 551,
   "id": "5a334a8a-627d-42d9-9f68-ab413408c0c3",
   "metadata": {},
   "outputs": [],
   "source": [
    "def noise_coloring_ionq(initial, num_not_iterations, waiting_time, device, sim_noise):\n",
    "    qc = noise_coloring(initial, num_not_iterations, waiting_time)\n",
    "    backend = 0\n",
    "    if sim_noise == True:\n",
    "        pass\n",
    "    elif device == 'simulator':\n",
    "        backend = provider.get_backend(\"ionq_simulator\")\n",
    "    elif device == 'device':\n",
    "        backend = provider.get_backend(\"ionq_qpu\")\n",
    "        \n",
    "    else:\n",
    "        return \"Error\"\n",
    "\n",
    "    if not sim_noise:\n",
    "        job = backend.run(qc, shots = 1)\n",
    "        result = job.result()\n",
    "    else:\n",
    "        result = result_with_noise(qc)\n",
    "\n",
    "    counts = result.get_counts()\n",
    "    measured_state_rev = counts.most_frequent()\n",
    "    measured_state = measured_state_rev[::-1]\n",
    "    return measured_state"
   ]
  },
  {
   "cell_type": "code",
   "execution_count": 552,
   "id": "c34dda54",
   "metadata": {},
   "outputs": [
    {
     "name": "stdout",
     "output_type": "stream",
     "text": [
      "111111111111\n"
     ]
    }
   ],
   "source": [
    "# generate input qubit configuration\n",
    "\n",
    "def bit_string(count, val):\n",
    "    string = \"\"\n",
    "    for _ in range(count):\n",
    "        string += val\n",
    "    return string\n",
    "\n",
    "input_bits = bit_string(12, \"1\")\n",
    "\n",
    "print(input_bits)"
   ]
  },
  {
   "cell_type": "code",
   "execution_count": 553,
   "id": "a3613768-36c2-4877-ad22-eb4e2b4c06d2",
   "metadata": {},
   "outputs": [
    {
     "name": "stdout",
     "output_type": "stream",
     "text": [
      "100000000011\n"
     ]
    }
   ],
   "source": [
    "input_bits = \"111111111111\"\n",
    "input_bits = \"110111100011\"\n",
    "input_bits = \"100001011011\"\n",
    "input_bits = \"100000011011\"\n",
    "input_bits = \"100000000011\"\n",
    "# input_bits = \"110100110010\"\n",
    "# input_bits = \"110100110010\"\n",
    "\n",
    "\n",
    "measured_state = noise_coloring_ionq(input_bits, num_not_iterations, waiting_time, device = 'simulator', sim_noise = True)\n",
    "print(measured_state)"
   ]
  },
  {
   "cell_type": "code",
   "execution_count": null,
   "id": "4ea8a1fb",
   "metadata": {},
   "outputs": [],
   "source": []
  },
  {
   "cell_type": "code",
   "execution_count": 554,
   "id": "5e6918db-646c-415b-964e-5fe77d45aef6",
   "metadata": {},
   "outputs": [
    {
     "name": "stdout",
     "output_type": "stream",
     "text": [
      "1\n",
      "0\n",
      "0\n",
      "0\n",
      "0\n",
      "0\n",
      "0\n",
      "0\n",
      "0\n",
      "0\n",
      "1\n",
      "1\n"
     ]
    }
   ],
   "source": [
    "for bit in measured_state:\n",
    "    print(bit)"
   ]
  },
  {
   "cell_type": "code",
   "execution_count": 555,
   "id": "1d32ef88-d9c7-43d0-9b7b-026f2aadfcc5",
   "metadata": {},
   "outputs": [
    {
     "name": "stdout",
     "output_type": "stream",
     "text": [
      "1\n",
      "1\n",
      "0\n",
      "0\n",
      "0\n",
      "0\n",
      "0\n",
      "0\n",
      "0\n",
      "0\n",
      "0\n",
      "1\n"
     ]
    }
   ],
   "source": [
    "for i in reversed(measured_state):\n",
    "    print(i)"
   ]
  },
  {
   "cell_type": "code",
   "execution_count": null,
   "id": "8c4fc33a-b66a-4106-9e37-5e5a11628555",
   "metadata": {},
   "outputs": [],
   "source": []
  }
 ],
 "metadata": {
  "kernelspec": {
   "display_name": "qiskit_env",
   "language": "python",
   "name": "python3"
  },
  "language_info": {
   "codemirror_mode": {
    "name": "ipython",
    "version": 3
   },
   "file_extension": ".py",
   "mimetype": "text/x-python",
   "name": "python",
   "nbconvert_exporter": "python",
   "pygments_lexer": "ipython3",
   "version": "3.10.6"
  },
  "vscode": {
   "interpreter": {
    "hash": "a6d3cd443f67c0bd3566cc7edcd8dd1f9b3083775a47520d1af1cae875f032e5"
   }
  }
 },
 "nbformat": 4,
 "nbformat_minor": 5
}
