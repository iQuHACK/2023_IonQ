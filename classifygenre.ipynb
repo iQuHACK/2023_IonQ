{
 "cells": [
  {
   "cell_type": "code",
   "execution_count": 3,
   "metadata": {},
   "outputs": [
    {
     "name": "stdout",
     "output_type": "stream",
     "text": [
      "Data/genres_original/pop\n",
      "Data/genres_original/metal\n",
      "Data/genres_original/disco\n",
      "Data/genres_original/blues\n",
      "Data/genres_original/reggae\n",
      "Data/genres_original/classical\n",
      "Data/genres_original/rock\n",
      "Data/genres_original/hiphop\n",
      "Data/genres_original/country\n",
      "Data/genres_original/jazz\n",
      "0.7409326424870466\n"
     ]
    }
   ],
   "source": [
    "from python_speech_features import mfcc\n",
    "import scipy.io.wavfile as wav\n",
    "import numpy as np\n",
    "from tempfile import TemporaryFile\n",
    "import os\n",
    "import pickle\n",
    "import random \n",
    "import operator\n",
    "import math\n",
    "from collections import defaultdict\n",
    "from midi2audio import FluidSynth\n",
    "\n",
    "def distance(instance1 , instance2 , k):\n",
    "    distance = 0 \n",
    "    mm1 = instance1[0]\n",
    "    cm1 = instance1[1]\n",
    "    mm2 = instance2[0]\n",
    "    cm2 = instance2[1]\n",
    "    distance = np.trace(np.dot(np.linalg.inv(cm2), cm1)) \n",
    "    distance += (np.dot(np.dot((mm2-mm1).transpose(), np.linalg.inv(cm2)), mm2-mm1)) \n",
    "    distance += np.log(np.linalg.det(cm2)) - np.log(np.linalg.det(cm1))\n",
    "    distance -= k\n",
    "    return distance\n",
    "\n",
    "def getNeighbors(trainingSet, instance, k):\n",
    "    distances = []\n",
    "    for x in range (len(trainingSet)):\n",
    "        dist = distance(trainingSet[x], instance, k) + distance(instance, trainingSet[x], k)\n",
    "        distances.append((trainingSet[x][2], dist))\n",
    "    distances.sort(key=operator.itemgetter(1))\n",
    "    neighbors = []\n",
    "    for x in range(k):\n",
    "        neighbors.append(distances[x][0])\n",
    "    return neighbors\n",
    "\n",
    "def nearestClass(neighbors):\n",
    "    classVote = {}\n",
    "\n",
    "    for x in range(len(neighbors)):\n",
    "        response = neighbors[x]\n",
    "        if response in classVote:\n",
    "            classVote[response] += 1\n",
    "        else:\n",
    "            classVote[response] = 1\n",
    "\n",
    "    sorter = sorted(classVote.items(), key = operator.itemgetter(1), reverse=True)\n",
    "    return sorter[0][0]\n",
    "\n",
    "def getAccuracy(testSet, predictions):\n",
    "    correct = 0 \n",
    "    for x in range (len(testSet)):\n",
    "        if testSet[x][-1]==predictions[x]:\n",
    "            correct+=1\n",
    "    return 1.0*correct/len(testSet)\n",
    "\n",
    "directory = \"Data/genres_original/\"\n",
    "f = open(\"my.dat\" ,'wb')\n",
    "i = 0\n",
    "\n",
    "for folder in os.listdir(directory):\n",
    "    if folder != '.DS_Store':\n",
    "        i += 1\n",
    "        if i == 11:\n",
    "            break\n",
    "        print(directory+folder)\n",
    "        for file in os.listdir(directory+folder):\n",
    "            try:\n",
    "                (rate,sig) = wav.read(directory+folder+\"/\"+file)\n",
    "                mfcc_feat = mfcc(sig,rate ,winlen=0.020, appendEnergy = False)\n",
    "                covariance = np.cov(np.matrix.transpose(mfcc_feat))\n",
    "                mean_matrix = mfcc_feat.mean(0)\n",
    "                feature = (mean_matrix, covariance, i)\n",
    "                pickle.dump(feature, f)\n",
    "            except:\n",
    "                continue\n",
    "\n",
    "f.close()\n",
    "\n",
    "dataset = []\n",
    "def loadDataset(filename , split , trSet , teSet):\n",
    "    with open(\"my.dat\" , 'rb') as f:\n",
    "        while True:\n",
    "            try:\n",
    "                dataset.append(pickle.load(f))\n",
    "            except EOFError:\n",
    "                f.close()\n",
    "                break  \n",
    "\n",
    "    for x in range(len(dataset)):\n",
    "        if random.random() < split:      \n",
    "            trSet.append(dataset[x])\n",
    "        else:\n",
    "            teSet.append(dataset[x])  \n",
    "\n",
    "trainingSet = []\n",
    "testSet = []\n",
    "loadDataset(\"my.dat\" , 0.8, trainingSet, testSet)\n",
    "\n",
    "leng = len(testSet)\n",
    "predictions = []\n",
    "for x in range (leng):\n",
    "    predictions.append(nearestClass(getNeighbors(trainingSet ,testSet[x] , 5))) \n",
    "\n",
    "accuracy1 = getAccuracy(testSet, predictions)\n",
    "print(accuracy1)"
   ]
  },
  {
   "cell_type": "code",
   "execution_count": 11,
   "metadata": {},
   "outputs": [
    {
     "name": "stdout",
     "output_type": "stream",
     "text": [
      "defaultdict(<class 'int'>, {1: 'pop', 2: 'metal', 3: 'disco', 4: 'blues', 5: 'reggae', 6: 'classical', 7: 'rock', 8: 'hiphop', 9: 'country', 10: 'jazz'})\n"
     ]
    },
    {
     "name": "stderr",
     "output_type": "stream",
     "text": [
      "fluidsynth: error: fluid_is_soundfont(): fopen() failed: 'File does not exist.'\n",
      "Parameter '/Users/nadinemeister/.fluidsynth/default_sound_font.sf2' not a SoundFont or MIDI file or error occurred identifying it.\n",
      "fluidsynth: error: fluid_sfloader_load(): Failed to open '/usr/local/Cellar/fluid-synth/2.3.1/share/soundfonts/default.sf2': File does not exist.\n",
      "fluidsynth: error: Unable to open file '/usr/local/Cellar/fluid-synth/2.3.1/share/soundfonts/default.sf2'\n",
      "fluidsynth: error: Failed to load SoundFont \"/usr/local/Cellar/fluid-synth/2.3.1/share/soundfonts/default.sf2\"\n"
     ]
    },
    {
     "name": "stdout",
     "output_type": "stream",
     "text": [
      "FluidSynth runtime version 2.3.1\n",
      "Copyright (C) 2000-2022 Peter Hanappe and others.\n",
      "Distributed under the LGPL license.\n",
      "SoundFont(R) is a registered trademark of Creative Technology Ltd.\n",
      "\n",
      "FluidSynth runtime version 2.3.1\n",
      "Copyright (C) 2000-2022 Peter Hanappe and others.\n",
      "Distributed under the LGPL license.\n",
      "SoundFont(R) is a registered trademark of Creative Technology Ltd.\n",
      "\n",
      "Rendering audio to file 'output.wav'..\n"
     ]
    },
    {
     "name": "stderr",
     "output_type": "stream",
     "text": [
      "fluidsynth: error: fluid_is_soundfont(): fopen() failed: 'File does not exist.'\n",
      "Parameter '/Users/nadinemeister/.fluidsynth/default_sound_font.sf2' not a SoundFont or MIDI file or error occurred identifying it.\n",
      "fluidsynth: error: fluid_sfloader_load(): Failed to open '/usr/local/Cellar/fluid-synth/2.3.1/share/soundfonts/default.sf2': File does not exist.\n",
      "fluidsynth: error: Unable to open file '/usr/local/Cellar/fluid-synth/2.3.1/share/soundfonts/default.sf2'\n",
      "fluidsynth: error: Failed to load SoundFont \"/usr/local/Cellar/fluid-synth/2.3.1/share/soundfonts/default.sf2\"\n",
      "WARNING:root:frame length (882) is greater than FFT size (512), frame will be truncated. Increase NFFT to avoid.\n"
     ]
    },
    {
     "name": "stdout",
     "output_type": "stream",
     "text": [
      "[1, 5, 1, 8, 1, 8, 8, 1, 1, 1, 1, 8, 1, 7, 9, 1, 1, 1, 8, 8, 8, 5, 8, 1, 1, 5, 8, 1, 1, 8, 1, 1, 8, 8, 5, 1, 1, 1, 1, 1, 8, 8, 5, 1, 5, 1, 8, 1, 1, 1, 1, 1, 1, 1, 8, 1, 1, 3, 1, 1, 3, 9, 8, 9, 1, 5, 5, 1, 1, 8, 8, 1, 9, 1, 1, 1, 5, 1, 5, 1, 1, 8, 1, 8, 1, 1, 8, 9, 9, 1, 1, 8, 5, 1, 1, 1, 5, 8, 9, 8]\n"
     ]
    },
    {
     "data": {
      "text/plain": [
       "0.78"
      ]
     },
     "execution_count": 11,
     "metadata": {},
     "output_type": "execute_result"
    }
   ],
   "source": [
    "results = defaultdict(int)\n",
    "i = 1\n",
    "for folder in os.listdir(\"Data/genres_original/\"):\n",
    "    if folder != '.DS_Store':\n",
    "        results[i] = folder\n",
    "        i += 1\n",
    "print(results)\n",
    "\n",
    "def compute_acc(midiFile):\n",
    "    dataset = []\n",
    "    def loadDataset(filename):\n",
    "        with open(\"my.dat\", 'rb') as f:\n",
    "            while True:\n",
    "                try:\n",
    "                    dataset.append(pickle.load(f))\n",
    "                except EOFError:\n",
    "                    f.close()\n",
    "                    break\n",
    "    loadDataset(\"my.dat\")\n",
    "\n",
    "    fs = FluidSynth()\n",
    "    fs.play_midi(midiFile)\n",
    "    fs.midi_to_audio(midiFile, 'output.wav')\n",
    "\n",
    "    (rate, sig) = wav.read('jazz.wav')\n",
    "    mfcc_feat = mfcc(sig, rate, winlen=0.020, appendEnergy=False)\n",
    "    covariance = np.cov(np.matrix.transpose(mfcc_feat))\n",
    "    mean_matrix = mfcc_feat.mean(0)\n",
    "    feature = (mean_matrix, covariance, 0)\n",
    "\n",
    "    neighbors = getNeighbors(dataset, feature, 100)\n",
    "    print(neighbors)\n",
    "#     pred = nearestClass(neighbors)\n",
    "#     print(results[pred])\n",
    "# 10 - jazz\n",
    "    return sum([neighbor == 1 or neighbor == 8 for neighbor in neighbors])/100\n",
    "\n",
    "compute_acc('output1.mid')"
   ]
  },
  {
   "cell_type": "code",
   "execution_count": null,
   "metadata": {},
   "outputs": [],
   "source": []
  }
 ],
 "metadata": {
  "kernelspec": {
   "display_name": "iquhack23_2",
   "language": "python",
   "name": "python3"
  },
  "language_info": {
   "codemirror_mode": {
    "name": "ipython",
    "version": 3
   },
   "file_extension": ".py",
   "mimetype": "text/x-python",
   "name": "python",
   "nbconvert_exporter": "python",
   "pygments_lexer": "ipython3",
   "version": "3.8.5"
  },
  "vscode": {
   "interpreter": {
    "hash": "2948fde6ef406d339656ba5604a847b18221e78e46d272ac89c49680bd9b69f1"
   }
  }
 },
 "nbformat": 4,
 "nbformat_minor": 2
}
