{
 "cells": [
  {
   "cell_type": "markdown",
   "metadata": {
    "id": "sPZoNKvpUaqa"
   },
   "source": [
    "## Setup"
   ]
  },
  {
   "cell_type": "code",
   "execution_count": 1,
   "metadata": {
    "colab": {
     "base_uri": "https://localhost:8080/"
    },
    "id": "TorxE5tnkvb2",
    "outputId": "b9599dbd-7985-44c1-f394-1f08c7487ef2"
   },
   "outputs": [
    {
     "name": "stdout",
     "output_type": "stream",
     "text": [
      "Collecting tensorflow==2.7.0\n",
      "  Downloading tensorflow-2.7.0-cp38-cp38-macosx_10_11_x86_64.whl (207.1 MB)\n",
      "\u001b[K     |████████████████████████████████| 207.1 MB 7.0 MB/s eta 0:00:013    |████████████████████            | 129.2 MB 2.3 MB/s eta 0:00:35\n",
      "\u001b[?25hRequirement already satisfied: six>=1.12.0 in /Users/nadinemeister/opt/anaconda3/lib/python3.8/site-packages (from tensorflow==2.7.0) (1.15.0)\n",
      "Collecting flatbuffers<3.0,>=1.12\n",
      "  Downloading flatbuffers-2.0.7-py2.py3-none-any.whl (26 kB)\n",
      "Collecting gast<0.5.0,>=0.2.1\n",
      "  Using cached gast-0.4.0-py3-none-any.whl (9.8 kB)\n",
      "Requirement already satisfied: protobuf>=3.9.2 in /Users/nadinemeister/opt/anaconda3/lib/python3.8/site-packages (from tensorflow==2.7.0) (3.15.6)\n",
      "Requirement already satisfied: h5py>=2.9.0 in /Users/nadinemeister/opt/anaconda3/lib/python3.8/site-packages (from tensorflow==2.7.0) (2.10.0)\n",
      "Collecting opt-einsum>=2.3.2\n",
      "  Using cached opt_einsum-3.3.0-py3-none-any.whl (65 kB)\n",
      "Requirement already satisfied: typing-extensions>=3.6.6 in /Users/nadinemeister/opt/anaconda3/lib/python3.8/site-packages (from tensorflow==2.7.0) (3.7.4.2)\n",
      "Collecting tensorboard~=2.6\n",
      "  Downloading tensorboard-2.11.2-py3-none-any.whl (6.0 MB)\n",
      "\u001b[K     |████████████████████████████████| 6.0 MB 2.7 MB/s eta 0:00:01\n",
      "\u001b[?25hCollecting keras<2.8,>=2.7.0rc0\n",
      "  Using cached keras-2.7.0-py2.py3-none-any.whl (1.3 MB)\n",
      "Collecting tensorflow-io-gcs-filesystem>=0.21.0\n",
      "  Downloading tensorflow_io_gcs_filesystem-0.30.0-cp38-cp38-macosx_10_14_x86_64.whl (1.6 MB)\n",
      "\u001b[K     |████████████████████████████████| 1.6 MB 13.7 MB/s eta 0:00:01\n",
      "\u001b[?25hRequirement already satisfied: grpcio<2.0,>=1.24.3 in /Users/nadinemeister/opt/anaconda3/lib/python3.8/site-packages (from tensorflow==2.7.0) (1.36.1)\n",
      "Collecting astunparse>=1.6.0\n",
      "  Using cached astunparse-1.6.3-py2.py3-none-any.whl (12 kB)\n",
      "Requirement already satisfied: numpy>=1.14.5 in /Users/nadinemeister/opt/anaconda3/lib/python3.8/site-packages (from tensorflow==2.7.0) (1.20.2)\n",
      "Requirement already satisfied: wheel<1.0,>=0.32.0 in /Users/nadinemeister/opt/anaconda3/lib/python3.8/site-packages (from tensorflow==2.7.0) (0.34.2)\n",
      "Collecting google-pasta>=0.1.1\n",
      "  Using cached google_pasta-0.2.0-py3-none-any.whl (57 kB)\n",
      "Collecting tensorflow-estimator<2.8,~=2.7.0rc0\n",
      "  Using cached tensorflow_estimator-2.7.0-py2.py3-none-any.whl (463 kB)\n",
      "Collecting libclang>=9.0.1\n",
      "  Downloading libclang-15.0.6.1-py2.py3-none-macosx_10_9_x86_64.whl (25.0 MB)\n",
      "\u001b[K     |████████████████████████████████| 25.0 MB 2.8 MB/s eta 0:00:01\n",
      "\u001b[?25hRequirement already satisfied: termcolor>=1.1.0 in /Users/nadinemeister/opt/anaconda3/lib/python3.8/site-packages (from tensorflow==2.7.0) (1.1.0)\n",
      "Requirement already satisfied: wrapt>=1.11.0 in /Users/nadinemeister/opt/anaconda3/lib/python3.8/site-packages (from tensorflow==2.7.0) (1.11.2)\n",
      "Collecting absl-py>=0.4.0\n",
      "  Downloading absl_py-1.4.0-py3-none-any.whl (126 kB)\n",
      "\u001b[K     |████████████████████████████████| 126 kB 4.6 MB/s eta 0:00:01\n",
      "\u001b[?25hCollecting keras-preprocessing>=1.1.1\n",
      "  Using cached Keras_Preprocessing-1.1.2-py2.py3-none-any.whl (42 kB)\n",
      "Collecting tensorboard-data-server<0.7.0,>=0.6.0\n",
      "  Using cached tensorboard_data_server-0.6.1-py3-none-macosx_10_9_x86_64.whl (3.5 MB)\n",
      "Requirement already satisfied: werkzeug>=1.0.1 in /Users/nadinemeister/opt/anaconda3/lib/python3.8/site-packages (from tensorboard~=2.6->tensorflow==2.7.0) (1.0.1)\n",
      "Collecting markdown>=2.6.8\n",
      "  Downloading Markdown-3.4.1-py3-none-any.whl (93 kB)\n",
      "\u001b[K     |████████████████████████████████| 93 kB 2.3 MB/s eta 0:00:011\n",
      "\u001b[?25hRequirement already satisfied: setuptools>=41.0.0 in /Users/nadinemeister/opt/anaconda3/lib/python3.8/site-packages (from tensorboard~=2.6->tensorflow==2.7.0) (49.2.0.post20200714)\n",
      "Requirement already satisfied: google-auth<3,>=1.6.3 in /Users/nadinemeister/opt/anaconda3/lib/python3.8/site-packages (from tensorboard~=2.6->tensorflow==2.7.0) (1.28.0)\n",
      "Requirement already satisfied: requests<3,>=2.21.0 in /Users/nadinemeister/opt/anaconda3/lib/python3.8/site-packages (from tensorboard~=2.6->tensorflow==2.7.0) (2.25.1)\n",
      "Collecting google-auth-oauthlib<0.5,>=0.4.1\n",
      "  Using cached google_auth_oauthlib-0.4.6-py2.py3-none-any.whl (18 kB)\n",
      "Collecting tensorboard-plugin-wit>=1.6.0\n",
      "  Using cached tensorboard_plugin_wit-1.8.1-py3-none-any.whl (781 kB)\n",
      "Collecting importlib-metadata>=4.4; python_version < \"3.10\"\n",
      "  Using cached importlib_metadata-6.0.0-py3-none-any.whl (21 kB)\n",
      "Requirement already satisfied: cachetools<5.0,>=2.0.0 in /Users/nadinemeister/opt/anaconda3/lib/python3.8/site-packages (from google-auth<3,>=1.6.3->tensorboard~=2.6->tensorflow==2.7.0) (4.2.1)\n",
      "Requirement already satisfied: rsa<5,>=3.1.4; python_version >= \"3.6\" in /Users/nadinemeister/opt/anaconda3/lib/python3.8/site-packages (from google-auth<3,>=1.6.3->tensorboard~=2.6->tensorflow==2.7.0) (4.7.2)\n",
      "Requirement already satisfied: pyasn1-modules>=0.2.1 in /Users/nadinemeister/opt/anaconda3/lib/python3.8/site-packages (from google-auth<3,>=1.6.3->tensorboard~=2.6->tensorflow==2.7.0) (0.2.8)\n",
      "Requirement already satisfied: certifi>=2017.4.17 in /Users/nadinemeister/opt/anaconda3/lib/python3.8/site-packages (from requests<3,>=2.21.0->tensorboard~=2.6->tensorflow==2.7.0) (2020.6.20)\n",
      "Requirement already satisfied: chardet<5,>=3.0.2 in /Users/nadinemeister/opt/anaconda3/lib/python3.8/site-packages (from requests<3,>=2.21.0->tensorboard~=2.6->tensorflow==2.7.0) (3.0.4)\n",
      "Requirement already satisfied: idna<3,>=2.5 in /Users/nadinemeister/opt/anaconda3/lib/python3.8/site-packages (from requests<3,>=2.21.0->tensorboard~=2.6->tensorflow==2.7.0) (2.10)\n",
      "Requirement already satisfied: urllib3<1.27,>=1.21.1 in /Users/nadinemeister/opt/anaconda3/lib/python3.8/site-packages (from requests<3,>=2.21.0->tensorboard~=2.6->tensorflow==2.7.0) (1.25.9)\n",
      "Requirement already satisfied: requests-oauthlib>=0.7.0 in /Users/nadinemeister/opt/anaconda3/lib/python3.8/site-packages (from google-auth-oauthlib<0.5,>=0.4.1->tensorboard~=2.6->tensorflow==2.7.0) (1.3.0)\n",
      "Requirement already satisfied: zipp>=0.5 in /Users/nadinemeister/opt/anaconda3/lib/python3.8/site-packages (from importlib-metadata>=4.4; python_version < \"3.10\"->markdown>=2.6.8->tensorboard~=2.6->tensorflow==2.7.0) (3.1.0)\n",
      "Requirement already satisfied: pyasn1>=0.1.3 in /Users/nadinemeister/opt/anaconda3/lib/python3.8/site-packages (from rsa<5,>=3.1.4; python_version >= \"3.6\"->google-auth<3,>=1.6.3->tensorboard~=2.6->tensorflow==2.7.0) (0.4.8)\n",
      "Requirement already satisfied: oauthlib>=3.0.0 in /Users/nadinemeister/opt/anaconda3/lib/python3.8/site-packages (from requests-oauthlib>=0.7.0->google-auth-oauthlib<0.5,>=0.4.1->tensorboard~=2.6->tensorflow==2.7.0) (3.1.0)\n",
      "Installing collected packages: flatbuffers, gast, opt-einsum, tensorboard-data-server, importlib-metadata, markdown, absl-py, google-auth-oauthlib, tensorboard-plugin-wit, tensorboard, keras, tensorflow-io-gcs-filesystem, astunparse, google-pasta, tensorflow-estimator, libclang, keras-preprocessing, tensorflow\n",
      "  Attempting uninstall: importlib-metadata\n",
      "    Found existing installation: importlib-metadata 1.7.0\n",
      "    Uninstalling importlib-metadata-1.7.0:\n",
      "      Successfully uninstalled importlib-metadata-1.7.0\n",
      "Successfully installed absl-py-1.4.0 astunparse-1.6.3 flatbuffers-2.0.7 gast-0.4.0 google-auth-oauthlib-0.4.6 google-pasta-0.2.0 importlib-metadata-6.0.0 keras-2.7.0 keras-preprocessing-1.1.2 libclang-15.0.6.1 markdown-3.4.1 opt-einsum-3.3.0 tensorboard-2.11.2 tensorboard-data-server-0.6.1 tensorboard-plugin-wit-1.8.1 tensorflow-2.7.0 tensorflow-estimator-2.7.0 tensorflow-io-gcs-filesystem-0.30.0\n"
     ]
    }
   ],
   "source": [
    "!pip install tensorflow==2.7.0"
   ]
  },
  {
   "cell_type": "markdown",
   "metadata": {
    "id": "FxkQA6oblNqI"
   },
   "source": [
    "Install TensorFlow Quantum:"
   ]
  },
  {
   "cell_type": "code",
   "execution_count": 2,
   "metadata": {
    "colab": {
     "base_uri": "https://localhost:8080/",
     "height": 0
    },
    "id": "saFHsRDpkvkH",
    "outputId": "488db175-9c38-44a0-d818-0547f16b9f60"
   },
   "outputs": [
    {
     "name": "stdout",
     "output_type": "stream",
     "text": [
      "Collecting tensorflow-quantum\n",
      "  Downloading tensorflow_quantum-0.7.2-cp38-cp38-macosx_10_11_x86_64.whl (8.4 MB)\n",
      "\u001b[K     |████████████████████████████████| 8.4 MB 2.3 MB/s eta 0:00:01\n",
      "\u001b[?25hCollecting google-api-core==1.21.0\n",
      "  Using cached google_api_core-1.21.0-py2.py3-none-any.whl (90 kB)\n",
      "Collecting sympy==1.8\n",
      "  Using cached sympy-1.8-py3-none-any.whl (6.1 MB)\n",
      "Collecting cirq-google>=0.13.1\n",
      "  Using cached cirq_google-1.1.0-py3-none-any.whl (577 kB)\n",
      "Collecting google-auth==1.18.0\n",
      "  Using cached google_auth-1.18.0-py2.py3-none-any.whl (90 kB)\n",
      "Collecting googleapis-common-protos==1.52.0\n",
      "  Using cached googleapis_common_protos-1.52.0-py2.py3-none-any.whl (100 kB)\n",
      "Collecting cirq-core==0.13.1\n",
      "  Downloading cirq_core-0.13.1-py3-none-any.whl (1.6 MB)\n",
      "\u001b[K     |████████████████████████████████| 1.6 MB 2.9 MB/s eta 0:00:01\n",
      "\u001b[?25hCollecting protobuf==3.17.3\n",
      "  Using cached protobuf-3.17.3-cp38-cp38-macosx_10_9_x86_64.whl (1.0 MB)\n",
      "Requirement already satisfied: requests<3.0.0dev,>=2.18.0 in /Users/nadinemeister/opt/anaconda3/lib/python3.8/site-packages (from google-api-core==1.21.0->tensorflow-quantum) (2.25.1)\n",
      "Requirement already satisfied: setuptools>=34.0.0 in /Users/nadinemeister/opt/anaconda3/lib/python3.8/site-packages (from google-api-core==1.21.0->tensorflow-quantum) (49.2.0.post20200714)\n",
      "Requirement already satisfied: six>=1.10.0 in /Users/nadinemeister/opt/anaconda3/lib/python3.8/site-packages (from google-api-core==1.21.0->tensorflow-quantum) (1.15.0)\n",
      "Requirement already satisfied: pytz in /Users/nadinemeister/opt/anaconda3/lib/python3.8/site-packages (from google-api-core==1.21.0->tensorflow-quantum) (2020.1)\n",
      "Requirement already satisfied: mpmath>=0.19 in /Users/nadinemeister/opt/anaconda3/lib/python3.8/site-packages (from sympy==1.8->tensorflow-quantum) (1.1.0)\n",
      "Collecting proto-plus>=1.20.0\n",
      "  Using cached proto_plus-1.22.2-py3-none-any.whl (47 kB)\n",
      "Requirement already satisfied: pyasn1-modules>=0.2.1 in /Users/nadinemeister/opt/anaconda3/lib/python3.8/site-packages (from google-auth==1.18.0->tensorflow-quantum) (0.2.8)\n",
      "Requirement already satisfied: cachetools<5.0,>=2.0.0 in /Users/nadinemeister/opt/anaconda3/lib/python3.8/site-packages (from google-auth==1.18.0->tensorflow-quantum) (4.2.1)\n",
      "Requirement already satisfied: rsa<5,>=3.1.4; python_version >= \"3\" in /Users/nadinemeister/opt/anaconda3/lib/python3.8/site-packages (from google-auth==1.18.0->tensorflow-quantum) (4.7.2)\n",
      "Requirement already satisfied: matplotlib~=3.0 in /Users/nadinemeister/opt/anaconda3/lib/python3.8/site-packages (from cirq-core==0.13.1->tensorflow-quantum) (3.2.2)\n",
      "Requirement already satisfied: numpy~=1.16 in /Users/nadinemeister/opt/anaconda3/lib/python3.8/site-packages (from cirq-core==0.13.1->tensorflow-quantum) (1.20.2)\n",
      "Requirement already satisfied: tqdm in /Users/nadinemeister/opt/anaconda3/lib/python3.8/site-packages (from cirq-core==0.13.1->tensorflow-quantum) (4.60.0)\n",
      "Requirement already satisfied: scipy in /Users/nadinemeister/opt/anaconda3/lib/python3.8/site-packages (from cirq-core==0.13.1->tensorflow-quantum) (1.5.0)\n",
      "Requirement already satisfied: pandas in /Users/nadinemeister/opt/anaconda3/lib/python3.8/site-packages (from cirq-core==0.13.1->tensorflow-quantum) (1.0.5)\n",
      "Requirement already satisfied: networkx~=2.4 in /Users/nadinemeister/opt/anaconda3/lib/python3.8/site-packages (from cirq-core==0.13.1->tensorflow-quantum) (2.4)\n",
      "Requirement already satisfied: typing-extensions in /Users/nadinemeister/opt/anaconda3/lib/python3.8/site-packages (from cirq-core==0.13.1->tensorflow-quantum) (3.7.4.2)\n",
      "Requirement already satisfied: sortedcontainers~=2.0 in /Users/nadinemeister/opt/anaconda3/lib/python3.8/site-packages (from cirq-core==0.13.1->tensorflow-quantum) (2.2.2)\n",
      "Requirement already satisfied: duet~=0.2.0 in /Users/nadinemeister/opt/anaconda3/lib/python3.8/site-packages (from cirq-core==0.13.1->tensorflow-quantum) (0.2.7)\n",
      "Requirement already satisfied: certifi>=2017.4.17 in /Users/nadinemeister/opt/anaconda3/lib/python3.8/site-packages (from requests<3.0.0dev,>=2.18.0->google-api-core==1.21.0->tensorflow-quantum) (2020.6.20)\n",
      "Requirement already satisfied: chardet<5,>=3.0.2 in /Users/nadinemeister/opt/anaconda3/lib/python3.8/site-packages (from requests<3.0.0dev,>=2.18.0->google-api-core==1.21.0->tensorflow-quantum) (3.0.4)\n",
      "Requirement already satisfied: urllib3<1.27,>=1.21.1 in /Users/nadinemeister/opt/anaconda3/lib/python3.8/site-packages (from requests<3.0.0dev,>=2.18.0->google-api-core==1.21.0->tensorflow-quantum) (1.25.9)\n",
      "Requirement already satisfied: idna<3,>=2.5 in /Users/nadinemeister/opt/anaconda3/lib/python3.8/site-packages (from requests<3.0.0dev,>=2.18.0->google-api-core==1.21.0->tensorflow-quantum) (2.10)\n",
      "Requirement already satisfied: pyasn1<0.5.0,>=0.4.6 in /Users/nadinemeister/opt/anaconda3/lib/python3.8/site-packages (from pyasn1-modules>=0.2.1->google-auth==1.18.0->tensorflow-quantum) (0.4.8)\n",
      "Requirement already satisfied: cycler>=0.10 in /Users/nadinemeister/opt/anaconda3/lib/python3.8/site-packages (from matplotlib~=3.0->cirq-core==0.13.1->tensorflow-quantum) (0.10.0)\n",
      "Requirement already satisfied: pyparsing!=2.0.4,!=2.1.2,!=2.1.6,>=2.0.1 in /Users/nadinemeister/opt/anaconda3/lib/python3.8/site-packages (from matplotlib~=3.0->cirq-core==0.13.1->tensorflow-quantum) (2.4.7)\n",
      "Requirement already satisfied: kiwisolver>=1.0.1 in /Users/nadinemeister/opt/anaconda3/lib/python3.8/site-packages (from matplotlib~=3.0->cirq-core==0.13.1->tensorflow-quantum) (1.2.0)\n",
      "Requirement already satisfied: python-dateutil>=2.1 in /Users/nadinemeister/opt/anaconda3/lib/python3.8/site-packages (from matplotlib~=3.0->cirq-core==0.13.1->tensorflow-quantum) (2.8.1)\n",
      "Requirement already satisfied: decorator>=4.3.0 in /Users/nadinemeister/opt/anaconda3/lib/python3.8/site-packages (from networkx~=2.4->cirq-core==0.13.1->tensorflow-quantum) (4.4.2)\n",
      "\u001b[31mERROR: proto-plus 1.22.2 has requirement protobuf<5.0.0dev,>=3.19.0, but you'll have protobuf 3.17.3 which is incompatible.\u001b[0m\n",
      "\u001b[31mERROR: google-cloud-language 2.0.0 has requirement google-api-core[grpc]<2.0.0dev,>=1.22.2, but you'll have google-api-core 1.21.0 which is incompatible.\u001b[0m\n",
      "\u001b[31mERROR: cirq-google 1.1.0 has requirement cirq-core==1.1.0, but you'll have cirq-core 0.13.1 which is incompatible.\u001b[0m\n",
      "Installing collected packages: protobuf, googleapis-common-protos, google-auth, google-api-core, sympy, proto-plus, cirq-core, cirq-google, tensorflow-quantum\n",
      "  Attempting uninstall: protobuf\n",
      "    Found existing installation: protobuf 3.15.6\n",
      "    Uninstalling protobuf-3.15.6:\n",
      "      Successfully uninstalled protobuf-3.15.6\n",
      "  Attempting uninstall: googleapis-common-protos\n",
      "    Found existing installation: googleapis-common-protos 1.53.0\n",
      "    Uninstalling googleapis-common-protos-1.53.0:\n",
      "      Successfully uninstalled googleapis-common-protos-1.53.0\n",
      "  Attempting uninstall: google-auth\n",
      "    Found existing installation: google-auth 1.28.0\n",
      "    Uninstalling google-auth-1.28.0:\n",
      "      Successfully uninstalled google-auth-1.28.0\n",
      "  Attempting uninstall: google-api-core\n",
      "    Found existing installation: google-api-core 1.26.2\n",
      "    Uninstalling google-api-core-1.26.2:\n",
      "      Successfully uninstalled google-api-core-1.26.2\n",
      "  Attempting uninstall: sympy\n",
      "    Found existing installation: sympy 1.6.1\n",
      "    Uninstalling sympy-1.6.1:\n",
      "      Successfully uninstalled sympy-1.6.1\n",
      "  Attempting uninstall: proto-plus\n",
      "    Found existing installation: proto-plus 1.18.1\n",
      "    Uninstalling proto-plus-1.18.1:\n",
      "      Successfully uninstalled proto-plus-1.18.1\n",
      "  Attempting uninstall: cirq-core\n",
      "    Found existing installation: cirq-core 1.0.0\n",
      "    Uninstalling cirq-core-1.0.0:\n",
      "      Successfully uninstalled cirq-core-1.0.0\n",
      "Successfully installed cirq-core-0.13.1 cirq-google-1.1.0 google-api-core-1.21.0 google-auth-1.18.0 googleapis-common-protos-1.52.0 proto-plus-1.22.2 protobuf-3.17.3 sympy-1.8 tensorflow-quantum-0.7.2\n"
     ]
    }
   ],
   "source": [
    "!pip install tensorflow-quantum"
   ]
  },
  {
   "cell_type": "code",
   "execution_count": 1,
   "metadata": {
    "colab": {
     "base_uri": "https://localhost:8080/"
    },
    "id": "4Ql5PW-ACO0J",
    "outputId": "b8fdc07a-cf4a-4e22-81a4-1db24f43be30"
   },
   "outputs": [
    {
     "data": {
      "text/plain": [
       "<module 'pkg_resources' from '/Users/nadinemeister/opt/anaconda3/envs/qtf_py3.6/lib/python3.6/site-packages/pkg_resources/__init__.py'>"
      ]
     },
     "execution_count": 1,
     "metadata": {},
     "output_type": "execute_result"
    }
   ],
   "source": [
    "# Update package resources to account for version changes.\n",
    "import importlib, pkg_resources\n",
    "importlib.reload(pkg_resources)"
   ]
  },
  {
   "cell_type": "markdown",
   "metadata": {
    "id": "F1L8h1YKUvIO"
   },
   "source": [
    "Now import TensorFlow and the module dependencies:"
   ]
  },
  {
   "cell_type": "code",
   "execution_count": 2,
   "metadata": {
    "id": "enZ300Bflq80"
   },
   "outputs": [],
   "source": [
    "import tensorflow as tf\n",
    "import tensorflow_quantum as tfq\n",
    "\n",
    "import cirq\n",
    "import sympy\n",
    "import numpy as np\n",
    "\n",
    "# visualization tools\n",
    "%matplotlib inline\n",
    "import matplotlib.pyplot as plt\n",
    "from cirq.contrib.svg import SVGCircuit"
   ]
  },
  {
   "cell_type": "markdown",
   "metadata": {
    "id": "b08Mmbs8lr81"
   },
   "source": [
    "## 1. Encodings"
   ]
  },
  {
   "cell_type": "markdown",
   "metadata": {
    "id": "I4IQ-lKmVqU4"
   },
   "source": [
    "### 1.1 Data Import/Rescaling"
   ]
  },
  {
   "cell_type": "code",
   "execution_count": 4,
   "metadata": {
    "id": "YBFUvws8rrHG"
   },
   "outputs": [
    {
     "ename": "FileNotFoundError",
     "evalue": "[Errno 2] No such file or directory: 'sample_data/mock_test_set.csv'",
     "output_type": "error",
     "traceback": [
      "\u001b[0;31m---------------------------------------------------------------------------\u001b[0m",
      "\u001b[0;31mFileNotFoundError\u001b[0m                         Traceback (most recent call last)",
      "\u001b[0;32m<ipython-input-4-9767e191b9cb>\u001b[0m in \u001b[0;36m<module>\u001b[0;34m\u001b[0m\n\u001b[1;32m      2\u001b[0m \u001b[0;32mimport\u001b[0m \u001b[0mnumpy\u001b[0m \u001b[0;32mas\u001b[0m \u001b[0mnp\u001b[0m\u001b[0;34m\u001b[0m\u001b[0;34m\u001b[0m\u001b[0m\n\u001b[1;32m      3\u001b[0m \u001b[0;34m\u001b[0m\u001b[0m\n\u001b[0;32m----> 4\u001b[0;31m \u001b[0mtest_df\u001b[0m \u001b[0;34m=\u001b[0m \u001b[0mpd\u001b[0m\u001b[0;34m.\u001b[0m\u001b[0mread_csv\u001b[0m\u001b[0;34m(\u001b[0m\u001b[0;34m'sample_data/mock_test_set.csv'\u001b[0m\u001b[0;34m)\u001b[0m\u001b[0;34m\u001b[0m\u001b[0;34m\u001b[0m\u001b[0m\n\u001b[0m\u001b[1;32m      5\u001b[0m \u001b[0mtrain_df\u001b[0m \u001b[0;34m=\u001b[0m \u001b[0mpd\u001b[0m\u001b[0;34m.\u001b[0m\u001b[0mread_csv\u001b[0m\u001b[0;34m(\u001b[0m\u001b[0;34m'sample_data/mock_train_set.csv'\u001b[0m\u001b[0;34m)\u001b[0m\u001b[0;34m\u001b[0m\u001b[0;34m\u001b[0m\u001b[0m\n\u001b[1;32m      6\u001b[0m \u001b[0;34m\u001b[0m\u001b[0m\n",
      "\u001b[0;32m~/opt/anaconda3/envs/qtf_py3.6/lib/python3.6/site-packages/pandas/io/parsers.py\u001b[0m in \u001b[0;36mread_csv\u001b[0;34m(filepath_or_buffer, sep, delimiter, header, names, index_col, usecols, squeeze, prefix, mangle_dupe_cols, dtype, engine, converters, true_values, false_values, skipinitialspace, skiprows, skipfooter, nrows, na_values, keep_default_na, na_filter, verbose, skip_blank_lines, parse_dates, infer_datetime_format, keep_date_col, date_parser, dayfirst, cache_dates, iterator, chunksize, compression, thousands, decimal, lineterminator, quotechar, quoting, doublequote, escapechar, comment, encoding, dialect, error_bad_lines, warn_bad_lines, delim_whitespace, low_memory, memory_map, float_precision)\u001b[0m\n\u001b[1;32m    686\u001b[0m     )\n\u001b[1;32m    687\u001b[0m \u001b[0;34m\u001b[0m\u001b[0m\n\u001b[0;32m--> 688\u001b[0;31m     \u001b[0;32mreturn\u001b[0m \u001b[0m_read\u001b[0m\u001b[0;34m(\u001b[0m\u001b[0mfilepath_or_buffer\u001b[0m\u001b[0;34m,\u001b[0m \u001b[0mkwds\u001b[0m\u001b[0;34m)\u001b[0m\u001b[0;34m\u001b[0m\u001b[0;34m\u001b[0m\u001b[0m\n\u001b[0m\u001b[1;32m    689\u001b[0m \u001b[0;34m\u001b[0m\u001b[0m\n\u001b[1;32m    690\u001b[0m \u001b[0;34m\u001b[0m\u001b[0m\n",
      "\u001b[0;32m~/opt/anaconda3/envs/qtf_py3.6/lib/python3.6/site-packages/pandas/io/parsers.py\u001b[0m in \u001b[0;36m_read\u001b[0;34m(filepath_or_buffer, kwds)\u001b[0m\n\u001b[1;32m    452\u001b[0m \u001b[0;34m\u001b[0m\u001b[0m\n\u001b[1;32m    453\u001b[0m     \u001b[0;31m# Create the parser.\u001b[0m\u001b[0;34m\u001b[0m\u001b[0;34m\u001b[0m\u001b[0;34m\u001b[0m\u001b[0m\n\u001b[0;32m--> 454\u001b[0;31m     \u001b[0mparser\u001b[0m \u001b[0;34m=\u001b[0m \u001b[0mTextFileReader\u001b[0m\u001b[0;34m(\u001b[0m\u001b[0mfp_or_buf\u001b[0m\u001b[0;34m,\u001b[0m \u001b[0;34m**\u001b[0m\u001b[0mkwds\u001b[0m\u001b[0;34m)\u001b[0m\u001b[0;34m\u001b[0m\u001b[0;34m\u001b[0m\u001b[0m\n\u001b[0m\u001b[1;32m    455\u001b[0m \u001b[0;34m\u001b[0m\u001b[0m\n\u001b[1;32m    456\u001b[0m     \u001b[0;32mif\u001b[0m \u001b[0mchunksize\u001b[0m \u001b[0;32mor\u001b[0m \u001b[0miterator\u001b[0m\u001b[0;34m:\u001b[0m\u001b[0;34m\u001b[0m\u001b[0;34m\u001b[0m\u001b[0m\n",
      "\u001b[0;32m~/opt/anaconda3/envs/qtf_py3.6/lib/python3.6/site-packages/pandas/io/parsers.py\u001b[0m in \u001b[0;36m__init__\u001b[0;34m(self, f, engine, **kwds)\u001b[0m\n\u001b[1;32m    946\u001b[0m             \u001b[0mself\u001b[0m\u001b[0;34m.\u001b[0m\u001b[0moptions\u001b[0m\u001b[0;34m[\u001b[0m\u001b[0;34m\"has_index_names\"\u001b[0m\u001b[0;34m]\u001b[0m \u001b[0;34m=\u001b[0m \u001b[0mkwds\u001b[0m\u001b[0;34m[\u001b[0m\u001b[0;34m\"has_index_names\"\u001b[0m\u001b[0;34m]\u001b[0m\u001b[0;34m\u001b[0m\u001b[0;34m\u001b[0m\u001b[0m\n\u001b[1;32m    947\u001b[0m \u001b[0;34m\u001b[0m\u001b[0m\n\u001b[0;32m--> 948\u001b[0;31m         \u001b[0mself\u001b[0m\u001b[0;34m.\u001b[0m\u001b[0m_make_engine\u001b[0m\u001b[0;34m(\u001b[0m\u001b[0mself\u001b[0m\u001b[0;34m.\u001b[0m\u001b[0mengine\u001b[0m\u001b[0;34m)\u001b[0m\u001b[0;34m\u001b[0m\u001b[0;34m\u001b[0m\u001b[0m\n\u001b[0m\u001b[1;32m    949\u001b[0m \u001b[0;34m\u001b[0m\u001b[0m\n\u001b[1;32m    950\u001b[0m     \u001b[0;32mdef\u001b[0m \u001b[0mclose\u001b[0m\u001b[0;34m(\u001b[0m\u001b[0mself\u001b[0m\u001b[0;34m)\u001b[0m\u001b[0;34m:\u001b[0m\u001b[0;34m\u001b[0m\u001b[0;34m\u001b[0m\u001b[0m\n",
      "\u001b[0;32m~/opt/anaconda3/envs/qtf_py3.6/lib/python3.6/site-packages/pandas/io/parsers.py\u001b[0m in \u001b[0;36m_make_engine\u001b[0;34m(self, engine)\u001b[0m\n\u001b[1;32m   1178\u001b[0m     \u001b[0;32mdef\u001b[0m \u001b[0m_make_engine\u001b[0m\u001b[0;34m(\u001b[0m\u001b[0mself\u001b[0m\u001b[0;34m,\u001b[0m \u001b[0mengine\u001b[0m\u001b[0;34m=\u001b[0m\u001b[0;34m\"c\"\u001b[0m\u001b[0;34m)\u001b[0m\u001b[0;34m:\u001b[0m\u001b[0;34m\u001b[0m\u001b[0;34m\u001b[0m\u001b[0m\n\u001b[1;32m   1179\u001b[0m         \u001b[0;32mif\u001b[0m \u001b[0mengine\u001b[0m \u001b[0;34m==\u001b[0m \u001b[0;34m\"c\"\u001b[0m\u001b[0;34m:\u001b[0m\u001b[0;34m\u001b[0m\u001b[0;34m\u001b[0m\u001b[0m\n\u001b[0;32m-> 1180\u001b[0;31m             \u001b[0mself\u001b[0m\u001b[0;34m.\u001b[0m\u001b[0m_engine\u001b[0m \u001b[0;34m=\u001b[0m \u001b[0mCParserWrapper\u001b[0m\u001b[0;34m(\u001b[0m\u001b[0mself\u001b[0m\u001b[0;34m.\u001b[0m\u001b[0mf\u001b[0m\u001b[0;34m,\u001b[0m \u001b[0;34m**\u001b[0m\u001b[0mself\u001b[0m\u001b[0;34m.\u001b[0m\u001b[0moptions\u001b[0m\u001b[0;34m)\u001b[0m\u001b[0;34m\u001b[0m\u001b[0;34m\u001b[0m\u001b[0m\n\u001b[0m\u001b[1;32m   1181\u001b[0m         \u001b[0;32melse\u001b[0m\u001b[0;34m:\u001b[0m\u001b[0;34m\u001b[0m\u001b[0;34m\u001b[0m\u001b[0m\n\u001b[1;32m   1182\u001b[0m             \u001b[0;32mif\u001b[0m \u001b[0mengine\u001b[0m \u001b[0;34m==\u001b[0m \u001b[0;34m\"python\"\u001b[0m\u001b[0;34m:\u001b[0m\u001b[0;34m\u001b[0m\u001b[0;34m\u001b[0m\u001b[0m\n",
      "\u001b[0;32m~/opt/anaconda3/envs/qtf_py3.6/lib/python3.6/site-packages/pandas/io/parsers.py\u001b[0m in \u001b[0;36m__init__\u001b[0;34m(self, src, **kwds)\u001b[0m\n\u001b[1;32m   2008\u001b[0m         \u001b[0mkwds\u001b[0m\u001b[0;34m[\u001b[0m\u001b[0;34m\"usecols\"\u001b[0m\u001b[0;34m]\u001b[0m \u001b[0;34m=\u001b[0m \u001b[0mself\u001b[0m\u001b[0;34m.\u001b[0m\u001b[0musecols\u001b[0m\u001b[0;34m\u001b[0m\u001b[0;34m\u001b[0m\u001b[0m\n\u001b[1;32m   2009\u001b[0m \u001b[0;34m\u001b[0m\u001b[0m\n\u001b[0;32m-> 2010\u001b[0;31m         \u001b[0mself\u001b[0m\u001b[0;34m.\u001b[0m\u001b[0m_reader\u001b[0m \u001b[0;34m=\u001b[0m \u001b[0mparsers\u001b[0m\u001b[0;34m.\u001b[0m\u001b[0mTextReader\u001b[0m\u001b[0;34m(\u001b[0m\u001b[0msrc\u001b[0m\u001b[0;34m,\u001b[0m \u001b[0;34m**\u001b[0m\u001b[0mkwds\u001b[0m\u001b[0;34m)\u001b[0m\u001b[0;34m\u001b[0m\u001b[0;34m\u001b[0m\u001b[0m\n\u001b[0m\u001b[1;32m   2011\u001b[0m         \u001b[0mself\u001b[0m\u001b[0;34m.\u001b[0m\u001b[0munnamed_cols\u001b[0m \u001b[0;34m=\u001b[0m \u001b[0mself\u001b[0m\u001b[0;34m.\u001b[0m\u001b[0m_reader\u001b[0m\u001b[0;34m.\u001b[0m\u001b[0munnamed_cols\u001b[0m\u001b[0;34m\u001b[0m\u001b[0;34m\u001b[0m\u001b[0m\n\u001b[1;32m   2012\u001b[0m \u001b[0;34m\u001b[0m\u001b[0m\n",
      "\u001b[0;32mpandas/_libs/parsers.pyx\u001b[0m in \u001b[0;36mpandas._libs.parsers.TextReader.__cinit__\u001b[0;34m()\u001b[0m\n",
      "\u001b[0;32mpandas/_libs/parsers.pyx\u001b[0m in \u001b[0;36mpandas._libs.parsers.TextReader._setup_parser_source\u001b[0;34m()\u001b[0m\n",
      "\u001b[0;31mFileNotFoundError\u001b[0m: [Errno 2] No such file or directory: 'sample_data/mock_test_set.csv'"
     ]
    }
   ],
   "source": [
    "import pandas as pd\n",
    "import numpy as np\n",
    "\n",
    "test_df = pd.read_csv('sample_data/mock_test_set.csv')\n",
    "train_df = pd.read_csv('sample_data/mock_train_set.csv')\n",
    "\n",
    "# take logs on columns 1 and 2\n",
    "test_df_proc = test_df.copy()\n",
    "test_df_proc[['1','2']] = np.log10(test_df_proc[['1','2']])\n",
    "train_df_proc = train_df.copy()\n",
    "train_df_proc[['1','2']] = np.log10(train_df_proc[['1','2']])\n",
    "\n",
    "# \"soft-normalization\" - divide each column by mean (so that the first column doesnt take up all the weight)\n",
    "for lbl in range(4):\n",
    "  test_df_proc[str(lbl)] /= test_df_proc[str(lbl)].mean()\n",
    "  train_df_proc[str(lbl)] /= train_df_proc[str(lbl)].mean()\n",
    "\n",
    "#split into x/y\n",
    "x_test = test_df_proc[['0','1','2','3']]\n",
    "y_test = test_df_proc['4']\n",
    "x_train = train_df_proc[['0','1','2','3']]\n",
    "y_train = train_df_proc['4']\n",
    "\n",
    "# Convert output data from {0,1} to {[1,0], [0,1]} for CategoricalCrossEntropy \n",
    "new_y_test = np.array([[1,0] if ele == 0 else [0,1] for ele in y_test])\n",
    "new_y_train = np.array([[1,0] if ele == 0 else [0,1] for ele in y_train])"
   ]
  },
  {
   "cell_type": "markdown",
   "metadata": {
    "id": "25DT4ATDV-17"
   },
   "source": [
    "### 1.2 Amplitude Encoding"
   ]
  },
  {
   "cell_type": "code",
   "execution_count": null,
   "metadata": {
    "id": "OEN2i2lOV-Ll"
   },
   "outputs": [],
   "source": [
    "# amplitude encoding function\n",
    "def convert_to_circuit_ampl(input_row):\n",
    "  qubits = cirq.LineQubit.range(2)\n",
    "  circuit = cirq.Circuit()\n",
    "  # 0 -> 00, 1-> 01, 2-> 10, 3->11\n",
    "  input_row /= np.sqrt(sum(x**2 for x in input_row))\n",
    "\n",
    "  # calculate y angles\n",
    "  #   first one divides amplitude between 00+01 and 10+11\n",
    "  #   second one divides between 00 and 01, and third one for 10 and 11\n",
    "  th = 2* np.arccos(np.sqrt(input_row[0]**2 + input_row[1]**2)) \n",
    "  ph1 = 2* np.arccos(input_row[0]/np.sqrt(input_row[0]**2 + input_row[1]**2))\n",
    "  ph2 = 2* np.arccos(input_row[2]/np.sqrt(input_row[2]**2 + input_row[3]**2))\n",
    "\n",
    "  circuit.append(cirq.ry(th).on(qubits[0]))\n",
    "  circuit.append(cirq.ry(ph1).controlled(1, control_values=[0]).on(qubits[0], qubits[1]))\n",
    "  circuit.append(cirq.ry(ph2).controlled(1, control_values=[1]).on(qubits[0], qubits[1]))\n",
    "\n",
    "  return circuit\n",
    "\n",
    "x_train_circ_amp = [convert_to_circuit_ampl(x[1]) for x in x_train.iterrows()]\n",
    "x_test_circ_amp = [convert_to_circuit_ampl(x[1]) for x in x_test.iterrows()]\n",
    "\n",
    "x_train_tfcirc_amp = tfq.convert_to_tensor(x_train_circ_amp)\n",
    "x_test_tfcirc_amp = tfq.convert_to_tensor(x_test_circ_amp)"
   ]
  },
  {
   "cell_type": "markdown",
   "metadata": {
    "id": "Un-u0ClGWV1K"
   },
   "source": [
    "### 1.3 Angle Encoding"
   ]
  },
  {
   "cell_type": "code",
   "execution_count": 12,
   "metadata": {
    "id": "HqZHCLbp-Woy"
   },
   "outputs": [
    {
     "name": "stdout",
     "output_type": "stream",
     "text": [
      "<class 'cirq.circuits.circuit.Circuit'>\n"
     ]
    },
    {
     "data": {
      "text/html": [
       "<pre style=\"overflow: auto; white-space: pre;\">(0, 0): ───Rx(-π)────────\n",
       "\n",
       "(0, 1): ───Rx(-π)────────\n",
       "\n",
       "(0, 2): ───Rx(-π)────────\n",
       "\n",
       "(0, 3): ───Rx(-π)────────\n",
       "\n",
       "(0, 4): ───Rx(-π)────────\n",
       "\n",
       "(0, 5): ───Rx(-π)────────\n",
       "\n",
       "(0, 6): ───Rx(-π)────────\n",
       "\n",
       "(0, 7): ───Rx(-0.333π)───</pre>"
      ],
      "text/plain": [
       "(0, 0): ───Rx(-π)────────\n",
       "\n",
       "(0, 1): ───Rx(-π)────────\n",
       "\n",
       "(0, 2): ───Rx(-π)────────\n",
       "\n",
       "(0, 3): ───Rx(-π)────────\n",
       "\n",
       "(0, 4): ───Rx(-π)────────\n",
       "\n",
       "(0, 5): ───Rx(-π)────────\n",
       "\n",
       "(0, 6): ───Rx(-π)────────\n",
       "\n",
       "(0, 7): ───Rx(-0.333π)───"
      ]
     },
     "execution_count": 12,
     "metadata": {},
     "output_type": "execute_result"
    }
   ],
   "source": [
    "# angle encoding function\n",
    "def convert_to_circuit_ang(row):\n",
    "    \"\"\"Encode a vector with features in [0, 3] using angle-encoding\"\"\"\n",
    "    values = (np.array(row).astype(np.float32)) / 3\n",
    "    values = values * (2 * np.pi) - np.pi\n",
    "    qubits = cirq.GridQubit.rect(1, len(values))\n",
    "    circuit = cirq.Circuit(cirq.rx(v)(q) for v,q in zip(values, qubits))\n",
    "    print(type(circuit))\n",
    "    return circuit\n",
    "\n",
    "convert_to_circuit_ang([0,0,0,0,0,0,0,1])\n",
    "\n",
    "# x_train_circ_ang = [convert_to_circuit_ang(x[1]) for x in x_train.iterrows()]\n",
    "# x_test_circ_ang = [convert_to_circuit_ang(x[1]) for x in x_test.iterrows()]\n",
    "\n",
    "# x_train_tfcirc_ang = tfq.convert_to_tensor(x_train_circ_ang)\n",
    "# x_test_tfcirc_ang = tfq.convert_to_tensor(x_test_circ_ang)"
   ]
  },
  {
   "cell_type": "markdown",
   "metadata": {
    "id": "eml1J1RYXXaK"
   },
   "source": [
    "# 2. Creating the Variational Circuit"
   ]
  },
  {
   "cell_type": "code",
   "execution_count": 13,
   "metadata": {
    "id": "ZoMOmXE_JjCC"
   },
   "outputs": [],
   "source": [
    "class CircuitLayerBuilder():\n",
    "    def __init__(self, data_qubits):\n",
    "        self.data_qubits = data_qubits\n",
    "\n",
    "    # Applies the two qubit gate 'gate' on each pair of qubits in the circuit\n",
    "    # The parameter is the 'symbol' exponent of the gate\n",
    "    def add_multi_qubit_layer(self, circuit, gate, prefix):\n",
    "        for i, qubit1 in enumerate(self.data_qubits):\n",
    "            for j, qubit2 in enumerate(self.data_qubits):\n",
    "                if not i == j:\n",
    "                    symbol = sympy.Symbol(prefix + '-' + str(i) + \"->\" + str(j))\n",
    "                    circuit.append(gate(qubit1, qubit2)**symbol)\n",
    "    \n",
    "    # Applies the single qubit gate 'gate' on each qubit in the circuit\n",
    "    # The parameter is the 'symbol' exponent of the gate\n",
    "    def add_single_qubit_rotation_layer(self, circuit, gate, prefix):\n",
    "        for i, qubit in enumerate(self.data_qubits):\n",
    "            symbol = sympy.Symbol(prefix + '_' + str(i))\n",
    "            circuit.append(gate(symbol)(qubit))"
   ]
  },
  {
   "cell_type": "code",
   "execution_count": 9,
   "metadata": {
    "id": "QB9Bc1DzJoxB"
   },
   "outputs": [],
   "source": [
    "def build_q_circuit_model(num_qubits):\n",
    "  # Create the parameterized circuit.\n",
    "  qubits = cirq.LineQubit.range(num_qubits)\n",
    "\n",
    "  circuit = cirq.Circuit()\n",
    "  builder = CircuitLayerBuilder(data_qubits = qubits)\n",
    "\n",
    "    # Then add layers (experiment by adding more).\n",
    "  builder.add_single_qubit_rotation_layer(circuit, cirq.rx, \"rx1\")\n",
    "  builder.add_single_qubit_rotation_layer(circuit, cirq.ry, \"ry1\")\n",
    "  builder.add_single_qubit_rotation_layer(circuit, cirq.rz, \"rz1\")\n",
    "  builder.add_multi_qubit_layer(circuit, cirq.CNOT, \"cnot1\")\n",
    "  builder.add_single_qubit_rotation_layer(circuit, cirq.rx, \"rx2\")\n",
    "  builder.add_single_qubit_rotation_layer(circuit, cirq.ry, \"ry2\")\n",
    "  builder.add_single_qubit_rotation_layer(circuit, cirq.rz, \"rz2\")\n",
    "  builder.add_multi_qubit_layer(circuit, cirq.CNOT, \"cnot2\")\n",
    "  builder.add_single_qubit_rotation_layer(circuit, cirq.rx, \"rx3\")\n",
    "  builder.add_single_qubit_rotation_layer(circuit, cirq.ry, \"ry3\")\n",
    "  builder.add_single_qubit_rotation_layer(circuit, cirq.rz, \"rz3\")\n",
    "\n",
    "  q_data_input = tf.keras.Input(\n",
    "      shape=(), dtype=tf.dtypes.string)\n",
    "  expectation = tfq.layers.PQC(circuit, cirq.Z(qubits[-1]))\n",
    "  expectation_output = expectation(q_data_input)\n",
    "\n",
    "  # Attach the classical SoftMax classifier\n",
    "  classifier = tf.keras.layers.Dense(2, activation=tf.keras.activations.softmax)\n",
    "  classifier_output = classifier(expectation_output)\n",
    "  model = tf.keras.Model(inputs=q_data_input, outputs=classifier_output)\n",
    "\n",
    "  # Standard compilation for classification\n",
    "  model.compile(optimizer=tf.keras.optimizers.Adam(learning_rate=0.1),\n",
    "                loss=tf.keras.losses.CategoricalCrossentropy())\n",
    "  tf.keras.utils.plot_model(model, show_shapes=True, dpi=70)\n",
    "\n",
    "  return model\n",
    "\n",
    "q_model_amp = build_q_circuit_model(2)\n",
    "q_model_ang = build_q_circuit_model(4)"
   ]
  },
  {
   "cell_type": "markdown",
   "metadata": {
    "id": "-5x_34eYX_hB"
   },
   "source": [
    "# 3. Train the models and view results"
   ]
  },
  {
   "cell_type": "markdown",
   "metadata": {
    "id": "2seexr8PYDcL"
   },
   "source": [
    "## 3.1 Amplitude Encoding"
   ]
  },
  {
   "cell_type": "code",
   "execution_count": 10,
   "metadata": {
    "colab": {
     "base_uri": "https://localhost:8080/"
    },
    "id": "KAEe_d4BsD9k",
    "outputId": "1b2533ac-43b0-4e39-bd7f-d2c2c8d4c5a7"
   },
   "outputs": [
    {
     "name": "stdout",
     "output_type": "stream",
     "text": [
      "Epoch 1/10\n",
      "10/10 [==============================] - 3s 124ms/step - loss: 0.5661 - val_loss: 0.3011\n",
      "Epoch 2/10\n",
      "10/10 [==============================] - 1s 71ms/step - loss: 0.4580 - val_loss: 0.2252\n",
      "Epoch 3/10\n",
      "10/10 [==============================] - 1s 109ms/step - loss: 0.4178 - val_loss: 0.1861\n",
      "Epoch 4/10\n",
      "10/10 [==============================] - 1s 84ms/step - loss: 0.4160 - val_loss: 0.2000\n",
      "Epoch 5/10\n",
      "10/10 [==============================] - 1s 82ms/step - loss: 0.4014 - val_loss: 0.1999\n",
      "Epoch 6/10\n",
      "10/10 [==============================] - 1s 68ms/step - loss: 0.4212 - val_loss: 0.2207\n",
      "Epoch 7/10\n",
      "10/10 [==============================] - 1s 97ms/step - loss: 0.4292 - val_loss: 0.2253\n",
      "Epoch 8/10\n",
      "10/10 [==============================] - 1s 98ms/step - loss: 0.4530 - val_loss: 0.2111\n",
      "Epoch 9/10\n",
      "10/10 [==============================] - 1s 73ms/step - loss: 0.4011 - val_loss: 0.2223\n",
      "Epoch 10/10\n",
      "10/10 [==============================] - 1s 76ms/step - loss: 0.3786 - val_loss: 0.1729\n"
     ]
    }
   ],
   "source": [
    "history_amp = q_model_amp.fit(x=x_train_tfcirc_amp, \n",
    "                    y=new_y_train, \n",
    "                    epochs=10, \n",
    "                    verbose=1,\n",
    "                    validation_data=(x_test_tfcirc_amp, new_y_test))"
   ]
  },
  {
   "cell_type": "code",
   "execution_count": 11,
   "metadata": {
    "colab": {
     "base_uri": "https://localhost:8080/",
     "height": 331
    },
    "id": "5owBUMWGsIR7",
    "outputId": "a89d06a9-af18-4cf9-8853-2920d36a0fc6"
   },
   "outputs": [
    {
     "data": {
      "image/png": "[encoded data removed]",
      "text/plain": [
       "<Figure size 432x288 with 1 Axes>"
      ]
     },
     "metadata": {
      "needs_background": "light"
     },
     "output_type": "display_data"
    },
    {
     "name": "stdout",
     "output_type": "stream",
     "text": [
      "Final loss value:\n",
      "0.3786287009716034\n"
     ]
    }
   ],
   "source": [
    "plt.plot(history_amp.history['loss'])\n",
    "plt.title(\"Learning to classify quantum data\")\n",
    "plt.xlabel(\"Iterations\")\n",
    "plt.ylabel(\"Error in classification\")\n",
    "plt.show()\n",
    "print(\"Final loss value:\")\n",
    "print(history_amp.history[\"loss\"][-1])"
   ]
  },
  {
   "cell_type": "markdown",
   "metadata": {
    "id": "FPsbWftGYX35"
   },
   "source": [
    "### 3.1.1 Prediction accuracy of Amplitude encoding model"
   ]
  },
  {
   "cell_type": "code",
   "execution_count": 15,
   "metadata": {
    "colab": {
     "base_uri": "https://localhost:8080/"
    },
    "id": "FNrOtaQRLhLQ",
    "outputId": "6e4e9167-21aa-442d-db26-a5ca28e3011e"
   },
   "outputs": [
    {
     "data": {
      "text/plain": [
       "0.9666666666666667"
      ]
     },
     "execution_count": 15,
     "metadata": {},
     "output_type": "execute_result"
    }
   ],
   "source": [
    "res = q_model_amp.predict(x_test_tfcirc_amp)\n",
    "res_pp = [0 if li[0] > li[1] else 1 for li in res]\n",
    "\n",
    "np.sum(y_test == res_pp) / len(y_test)"
   ]
  },
  {
   "cell_type": "markdown",
   "metadata": {
    "id": "7VYerOqMYfcN"
   },
   "source": [
    "## 3.2 Angle Encoding"
   ]
  },
  {
   "cell_type": "code",
   "execution_count": 19,
   "metadata": {
    "colab": {
     "base_uri": "https://localhost:8080/"
    },
    "id": "kdhU-NNdMIUl",
    "outputId": "0f1a4d50-29cc-4bd6-be1a-ad72dde4ba07"
   },
   "outputs": [
    {
     "name": "stdout",
     "output_type": "stream",
     "text": [
      "Epoch 1/10\n",
      "10/10 [==============================] - 4s 288ms/step - loss: 0.7005 - val_loss: 0.6926\n",
      "Epoch 2/10\n",
      "10/10 [==============================] - 2s 235ms/step - loss: 0.6930 - val_loss: 0.7058\n",
      "Epoch 3/10\n",
      "10/10 [==============================] - 2s 198ms/step - loss: 0.6959 - val_loss: 0.6992\n",
      "Epoch 4/10\n",
      "10/10 [==============================] - 2s 187ms/step - loss: 0.6941 - val_loss: 0.6969\n",
      "Epoch 5/10\n",
      "10/10 [==============================] - 2s 184ms/step - loss: 0.6930 - val_loss: 0.6949\n",
      "Epoch 6/10\n",
      "10/10 [==============================] - 2s 169ms/step - loss: 0.6924 - val_loss: 0.6944\n",
      "Epoch 7/10\n",
      "10/10 [==============================] - 2s 166ms/step - loss: 0.6938 - val_loss: 0.6964\n",
      "Epoch 8/10\n",
      "10/10 [==============================] - 2s 154ms/step - loss: 0.6937 - val_loss: 0.6966\n",
      "Epoch 9/10\n",
      "10/10 [==============================] - 2s 172ms/step - loss: 0.6925 - val_loss: 0.6942\n",
      "Epoch 10/10\n",
      "10/10 [==============================] - 2s 170ms/step - loss: 0.6961 - val_loss: 0.6932\n"
     ]
    }
   ],
   "source": [
    "# angle\n",
    "history_ang = q_model_ang.fit(x=x_train_tfcirc_ang, \n",
    "                    y=new_y_train, \n",
    "                    epochs=10, \n",
    "                    verbose=1,\n",
    "                    validation_data=(x_test_tfcirc_ang, new_y_test))"
   ]
  },
  {
   "cell_type": "code",
   "execution_count": 20,
   "metadata": {
    "colab": {
     "base_uri": "https://localhost:8080/",
     "height": 331
    },
    "id": "6LASMRf6PEUS",
    "outputId": "9c929a03-f9e6-40a3-9b9b-5015d0cab031"
   },
   "outputs": [
    {
     "data": {
      "image/png": "[encoded data removed]",
      "text/plain": [
       "<Figure size 432x288 with 1 Axes>"
      ]
     },
     "metadata": {
      "needs_background": "light"
     },
     "output_type": "display_data"
    },
    {
     "name": "stdout",
     "output_type": "stream",
     "text": [
      "Final loss value:\n",
      "0.6961425542831421\n"
     ]
    }
   ],
   "source": [
    "plt.plot(history_ang.history['loss'])\n",
    "plt.title(\"Learning to classify quantum data\")\n",
    "plt.xlabel(\"Iterations\")\n",
    "plt.ylabel(\"Error in classification\")\n",
    "plt.show()\n",
    "print(\"Final loss value:\")\n",
    "print(history_ang.history[\"loss\"][-1])"
   ]
  },
  {
   "cell_type": "markdown",
   "metadata": {
    "id": "1WCjspeVYlII"
   },
   "source": [
    "### 3.2.1 Prediction Accuracy of Angle Encoding model"
   ]
  },
  {
   "cell_type": "code",
   "execution_count": 21,
   "metadata": {
    "colab": {
     "base_uri": "https://localhost:8080/"
    },
    "id": "6wulqjOWPKvA",
    "outputId": "cabc2418-da21-4e59-bd34-b5bd40da372b"
   },
   "outputs": [
    {
     "data": {
      "text/plain": [
       "0.48333333333333334"
      ]
     },
     "execution_count": 21,
     "metadata": {},
     "output_type": "execute_result"
    }
   ],
   "source": [
    "res = q_model_ang.predict(x_test_tfcirc_ang)\n",
    "res_pp = [0 if li[0] > li[1] else 1 for li in res]\n",
    "\n",
    "np.sum(y_test == res_pp) / len(y_test)"
   ]
  },
  {
   "cell_type": "code",
   "execution_count": null,
   "metadata": {
    "id": "DU94aBIkX6vv"
   },
   "outputs": [],
   "source": []
  }
 ],
 "metadata": {
  "colab": {
   "collapsed_sections": [
    "sPZoNKvpUaqa"
   ],
   "name": "QOSF Task 2.ipynb",
   "provenance": []
  },
  "kernelspec": {
   "display_name": "qtf_py3.6",
   "language": "python",
   "name": "python3"
  },
  "language_info": {
   "codemirror_mode": {
    "name": "ipython",
    "version": 3
   },
   "file_extension": ".py",
   "mimetype": "text/x-python",
   "name": "python",
   "nbconvert_exporter": "python",
   "pygments_lexer": "ipython3",
   "version": "3.6.13"
  },
  "vscode": {
   "interpreter": {
    "hash": "48079386ef9304b4e4b65de16d44727bd943409fae2a1633a4ff4dc8e4be68e3"
   }
  }
 },
 "nbformat": 4,
 "nbformat_minor": 1
}
