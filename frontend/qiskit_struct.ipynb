{
 "cells": [
  {
   "cell_type": "code",
   "execution_count": 1,
   "metadata": {},
   "outputs": [],
   "source": [
    "import numpy as np\n",
    "from qiskit import QuantumCircuit"
   ]
  },
  {
   "cell_type": "code",
   "execution_count": 22,
   "metadata": {},
   "outputs": [
    {
     "data": {
      "text/plain": [
       "<qiskit.circuit.instructionset.InstructionSet at 0x112f5ab30>"
      ]
     },
     "execution_count": 22,
     "metadata": {},
     "output_type": "execute_result"
    }
   ],
   "source": [
    "circ = QuantumCircuit(3, 3)\n",
    "\n",
    "# H gate on qubit 0, putting this qubit in a superposition of |0> + |1>.\n",
    "circ.h(0)\n",
    "# A CX (CNOT) gate on control qubit 0 and target qubit 1 generating a Bell state.\n",
    "circ.cx(0, 1)\n",
    "# CX (CNOT) gate on control qubit 0 and target qubit 2 resulting in a GHZ state.\n",
    "circ.cx(0, 2)"
   ]
  },
  {
   "cell_type": "code",
   "execution_count": 23,
   "metadata": {},
   "outputs": [
    {
     "data": {
      "text/html": [
       "<pre style=\"word-wrap: normal;white-space: pre;background: #fff0;line-height: 1.1;font-family: &quot;Courier New&quot;,Courier,monospace\">     ┌───┐          \n",
       "q_0: ┤ H ├──■────■──\n",
       "     ├───┤┌─┴─┐  │  \n",
       "q_1: ┤ H ├┤ X ├──┼──\n",
       "     ├───┤└───┘┌─┴─┐\n",
       "q_2: ┤ H ├─────┤ X ├\n",
       "     └───┘     └───┘\n",
       "c: 3/═══════════════\n",
       "                    </pre>"
      ],
      "text/plain": [
       "     ┌───┐          \n",
       "q_0: ┤ H ├──■────■──\n",
       "     ├───┤┌─┴─┐  │  \n",
       "q_1: ┤ H ├┤ X ├──┼──\n",
       "     ├───┤└───┘┌─┴─┐\n",
       "q_2: ┤ H ├─────┤ X ├\n",
       "     └───┘     └───┘\n",
       "c: 3/═══════════════\n",
       "                    "
      ]
     },
     "execution_count": 23,
     "metadata": {},
     "output_type": "execute_result"
    }
   ],
   "source": [
    "circ.draw()"
   ]
  },
  {
   "cell_type": "code",
   "execution_count": 24,
   "metadata": {},
   "outputs": [
    {
     "data": {
      "text/plain": [
       "[CircuitInstruction(operation=Instruction(name='h', num_qubits=1, num_clbits=0, params=[]), qubits=(Qubit(QuantumRegister(3, 'q'), 0),), clbits=()),\n",
       " CircuitInstruction(operation=Instruction(name='h', num_qubits=1, num_clbits=0, params=[]), qubits=(Qubit(QuantumRegister(3, 'q'), 1),), clbits=()),\n",
       " CircuitInstruction(operation=Instruction(name='cx', num_qubits=2, num_clbits=0, params=[]), qubits=(Qubit(QuantumRegister(3, 'q'), 0), Qubit(QuantumRegister(3, 'q'), 1)), clbits=()),\n",
       " CircuitInstruction(operation=Instruction(name='h', num_qubits=1, num_clbits=0, params=[]), qubits=(Qubit(QuantumRegister(3, 'q'), 2),), clbits=()),\n",
       " CircuitInstruction(operation=Instruction(name='cx', num_qubits=2, num_clbits=0, params=[]), qubits=(Qubit(QuantumRegister(3, 'q'), 0), Qubit(QuantumRegister(3, 'q'), 2)), clbits=())]"
      ]
     },
     "execution_count": 24,
     "metadata": {},
     "output_type": "execute_result"
    }
   ],
   "source": [
    "ci = circ._data\n",
    "ci"
   ]
  },
  {
   "cell_type": "code",
   "execution_count": 26,
   "metadata": {},
   "outputs": [
    {
     "data": {
      "text/plain": [
       "'h'"
      ]
     },
     "execution_count": 26,
     "metadata": {},
     "output_type": "execute_result"
    }
   ],
   "source": [
    "ci[0].operation.name"
   ]
  },
  {
   "cell_type": "code",
   "execution_count": 27,
   "metadata": {},
   "outputs": [
    {
     "data": {
      "text/plain": [
       "{'_base_name': 'circuit',\n",
       " 'name': 'circuit-90',\n",
       " '_data': [CircuitInstruction(operation=Instruction(name='h', num_qubits=1, num_clbits=0, params=[]), qubits=(Qubit(QuantumRegister(3, 'q'), 0),), clbits=()),\n",
       "  CircuitInstruction(operation=Instruction(name='h', num_qubits=1, num_clbits=0, params=[]), qubits=(Qubit(QuantumRegister(3, 'q'), 1),), clbits=()),\n",
       "  CircuitInstruction(operation=Instruction(name='cx', num_qubits=2, num_clbits=0, params=[]), qubits=(Qubit(QuantumRegister(3, 'q'), 0), Qubit(QuantumRegister(3, 'q'), 1)), clbits=()),\n",
       "  CircuitInstruction(operation=Instruction(name='h', num_qubits=1, num_clbits=0, params=[]), qubits=(Qubit(QuantumRegister(3, 'q'), 2),), clbits=()),\n",
       "  CircuitInstruction(operation=Instruction(name='cx', num_qubits=2, num_clbits=0, params=[]), qubits=(Qubit(QuantumRegister(3, 'q'), 0), Qubit(QuantumRegister(3, 'q'), 2)), clbits=())],\n",
       " '_op_start_times': None,\n",
       " '_control_flow_scopes': [],\n",
       " 'qregs': [QuantumRegister(3, 'q')],\n",
       " 'cregs': [ClassicalRegister(3, 'c')],\n",
       " '_qubits': [Qubit(QuantumRegister(3, 'q'), 0),\n",
       "  Qubit(QuantumRegister(3, 'q'), 1),\n",
       "  Qubit(QuantumRegister(3, 'q'), 2)],\n",
       " '_clbits': [Clbit(ClassicalRegister(3, 'c'), 0),\n",
       "  Clbit(ClassicalRegister(3, 'c'), 1),\n",
       "  Clbit(ClassicalRegister(3, 'c'), 2)],\n",
       " '_qubit_indices': {Qubit(QuantumRegister(3, 'q'), 0): BitLocations(index=0, registers=[(QuantumRegister(3, 'q'), 0)]),\n",
       "  Qubit(QuantumRegister(3, 'q'), 1): BitLocations(index=1, registers=[(QuantumRegister(3, 'q'), 1)]),\n",
       "  Qubit(QuantumRegister(3, 'q'), 2): BitLocations(index=2, registers=[(QuantumRegister(3, 'q'), 2)])},\n",
       " '_clbit_indices': {Clbit(ClassicalRegister(3, 'c'), 0): BitLocations(index=0, registers=[(ClassicalRegister(3, 'c'), 0)]),\n",
       "  Clbit(ClassicalRegister(3, 'c'), 1): BitLocations(index=1, registers=[(ClassicalRegister(3, 'c'), 1)]),\n",
       "  Clbit(ClassicalRegister(3, 'c'), 2): BitLocations(index=2, registers=[(ClassicalRegister(3, 'c'), 2)])},\n",
       " '_ancillas': [],\n",
       " '_calibrations': defaultdict(dict, {}),\n",
       " '_parameter_table': ParameterTable({}),\n",
       " '_parameters': None,\n",
       " '_layout': None,\n",
       " '_global_phase': 0,\n",
       " 'duration': None,\n",
       " 'unit': 'dt',\n",
       " '_metadata': None}"
      ]
     },
     "execution_count": 27,
     "metadata": {},
     "output_type": "execute_result"
    }
   ],
   "source": [
    "vars(circ)"
   ]
  },
  {
   "cell_type": "code",
   "execution_count": null,
   "metadata": {},
   "outputs": [],
   "source": []
  }
 ],
 "metadata": {
  "kernelspec": {
   "display_name": "iquhack",
   "language": "python",
   "name": "python3"
  },
  "language_info": {
   "codemirror_mode": {
    "name": "ipython",
    "version": 3
   },
   "file_extension": ".py",
   "mimetype": "text/x-python",
   "name": "python",
   "nbconvert_exporter": "python",
   "pygments_lexer": "ipython3",
   "version": "3.10.9"
  },
  "orig_nbformat": 4,
  "vscode": {
   "interpreter": {
    "hash": "e904392d79d61d66c2e68383b4da205ea4c9fe4745fde1a6bbd2026b6c2a500a"
   }
  }
 },
 "nbformat": 4,
 "nbformat_minor": 2
}
